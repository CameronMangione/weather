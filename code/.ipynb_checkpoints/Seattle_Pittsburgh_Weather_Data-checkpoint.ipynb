{
 "cells": [
  {
   "cell_type": "code",
   "execution_count": 2,
   "id": "963b5f03-19d3-401d-a7c9-4222247a96c2",
   "metadata": {},
   "outputs": [],
   "source": [
    "# Import pands, numpy, and matplotlib\n",
    "import pandas as pd\n",
    "import numpy as np\n",
    "import matplotlib.pyplot as plt\n",
    "\n",
    "# seaborn is a data visualization library built on matplotlib\n",
    "import seaborn as sns\n",
    "\n",
    "#set the plotting style\n",
    "sns.set_style(\"whitegrid\")"
   ]
  },
  {
   "cell_type": "code",
   "execution_count": 7,
   "id": "74c55a13-6166-4ea8-accb-a8b4ca58c21a",
   "metadata": {},
   "outputs": [
    {
     "data": {
      "text/plain": [
       "pandas.core.frame.DataFrame"
      ]
     },
     "execution_count": 7,
     "metadata": {},
     "output_type": "execute_result"
    }
   ],
   "source": [
    "df_seattle = pd.read_csv('https://raw.githubusercontent.com/CameronMangione/weather/refs/heads/main/data/seattle_rain.csv')\n",
    "\n",
    "type(df_seattle)"
   ]
  },
  {
   "cell_type": "code",
   "execution_count": null,
   "id": "e4885821-c603-4dd4-b789-c8fecdcb98c5",
   "metadata": {},
   "outputs": [],
   "source": []
  }
 ],
 "metadata": {
  "kernelspec": {
   "display_name": "Python [conda env:base] *",
   "language": "python",
   "name": "conda-base-py"
  },
  "language_info": {
   "codemirror_mode": {
    "name": "ipython",
    "version": 3
   },
   "file_extension": ".py",
   "mimetype": "text/x-python",
   "name": "python",
   "nbconvert_exporter": "python",
   "pygments_lexer": "ipython3",
   "version": "3.13.5"
  }
 },
 "nbformat": 4,
 "nbformat_minor": 5
}
