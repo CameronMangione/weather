{
 "cells": [
  {
   "cell_type": "code",
   "execution_count": 14,
   "id": "1f6ce995-2dc6-4fac-8d72-42788ec01ec8",
   "metadata": {},
   "outputs": [
    {
     "data": {
      "text/plain": [
       "(list, tuple, dict, set)"
      ]
     },
     "execution_count": 14,
     "metadata": {},
     "output_type": "execute_result"
    }
   ],
   "source": [
    "list, tuple, dict, set"
   ]
  },
  {
   "cell_type": "code",
   "execution_count": 15,
   "id": "8e01b37e-f8d9-4af4-a217-c77d3ff9a3ec",
   "metadata": {},
   "outputs": [],
   "source": [
    "x = [1,2,3]"
   ]
  },
  {
   "cell_type": "code",
   "execution_count": 16,
   "id": "87f42b72-6edf-4be3-bc89-f97abc1f7ccf",
   "metadata": {},
   "outputs": [
    {
     "data": {
      "text/plain": [
       "[1, 2, 3]"
      ]
     },
     "execution_count": 16,
     "metadata": {},
     "output_type": "execute_result"
    }
   ],
   "source": [
    "x"
   ]
  },
  {
   "cell_type": "code",
   "execution_count": 17,
   "id": "9f5c02f1-ce14-48a1-891a-863b49b7dffa",
   "metadata": {},
   "outputs": [
    {
     "data": {
      "text/plain": [
       "[1, 2, 3, 4]"
      ]
     },
     "execution_count": 17,
     "metadata": {},
     "output_type": "execute_result"
    }
   ],
   "source": [
    "x.append(4)\n",
    "x"
   ]
  },
  {
   "cell_type": "code",
   "execution_count": 20,
   "id": "1c3a4fd7-115a-4d46-8c0e-ff455331241a",
   "metadata": {},
   "outputs": [],
   "source": [
    "x.remove(1)"
   ]
  },
  {
   "cell_type": "code",
   "execution_count": 24,
   "id": "634f747c-4cc0-425a-aa55-69fc3c0caf67",
   "metadata": {},
   "outputs": [
    {
     "data": {
      "text/plain": [
       "[2, 'a', 3, 'a', 4]"
      ]
     },
     "execution_count": 24,
     "metadata": {},
     "output_type": "execute_result"
    }
   ],
   "source": [
    "x"
   ]
  },
  {
   "cell_type": "code",
   "execution_count": 26,
   "id": "175b14ba-6696-4060-a8dc-33c61bb87578",
   "metadata": {},
   "outputs": [
    {
     "data": {
      "text/plain": [
       "[2, 3, 4]"
      ]
     },
     "execution_count": 26,
     "metadata": {},
     "output_type": "execute_result"
    }
   ],
   "source": [
    "x.remove('a')\n",
    "x"
   ]
  },
  {
   "cell_type": "code",
   "execution_count": 27,
   "id": "7ace8552-e5ff-41b0-98b6-7cd07e393d21",
   "metadata": {},
   "outputs": [
    {
     "data": {
      "text/plain": [
       "[2, 3, 4, 1]"
      ]
     },
     "execution_count": 27,
     "metadata": {},
     "output_type": "execute_result"
    }
   ],
   "source": [
    "x.append(1)\n",
    "x"
   ]
  },
  {
   "cell_type": "code",
   "execution_count": 28,
   "id": "cb5392c1-55f3-47a8-9bbb-5a7842a4de49",
   "metadata": {},
   "outputs": [
    {
     "data": {
      "text/plain": [
       "[1, 2, 3, 4]"
      ]
     },
     "execution_count": 28,
     "metadata": {},
     "output_type": "execute_result"
    }
   ],
   "source": [
    "x.sort()\n",
    "x"
   ]
  },
  {
   "cell_type": "code",
   "execution_count": 30,
   "id": "76afcfab-64d6-4a99-a33b-7746b4e3d385",
   "metadata": {},
   "outputs": [
    {
     "data": {
      "text/plain": [
       "[1, 2, 3, 4, 5]"
      ]
     },
     "execution_count": 30,
     "metadata": {},
     "output_type": "execute_result"
    }
   ],
   "source": [
    "x + [5]"
   ]
  },
  {
   "cell_type": "code",
   "execution_count": 32,
   "id": "fd20da5c-cd48-4919-99d4-8cbbdd2885dc",
   "metadata": {},
   "outputs": [
    {
     "data": {
      "text/plain": [
       "[0, 1, 2, 3, 4]"
      ]
     },
     "execution_count": 32,
     "metadata": {},
     "output_type": "execute_result"
    }
   ],
   "source": [
    "[0] + x"
   ]
  },
  {
   "cell_type": "code",
   "execution_count": 33,
   "id": "ddf4ce74-6505-4082-a9b8-c2f390eb92a8",
   "metadata": {},
   "outputs": [],
   "source": [
    " x += [5]"
   ]
  },
  {
   "cell_type": "code",
   "execution_count": 34,
   "id": "27330224-735e-4574-918e-e39bc5bbe377",
   "metadata": {},
   "outputs": [
    {
     "data": {
      "text/plain": [
       "[1, 2, 3, 4, 5]"
      ]
     },
     "execution_count": 34,
     "metadata": {},
     "output_type": "execute_result"
    }
   ],
   "source": [
    "x"
   ]
  },
  {
   "cell_type": "code",
   "execution_count": 35,
   "id": "456403bf-8d43-4ea3-89b9-b5e7cc780657",
   "metadata": {},
   "outputs": [
    {
     "data": {
      "text/plain": [
       "1"
      ]
     },
     "execution_count": 35,
     "metadata": {},
     "output_type": "execute_result"
    }
   ],
   "source": [
    "x.count(2)"
   ]
  },
  {
   "cell_type": "code",
   "execution_count": 36,
   "id": "3846dd6b-e577-4b77-aef9-2e4a34330123",
   "metadata": {},
   "outputs": [
    {
     "data": {
      "text/plain": [
       "0"
      ]
     },
     "execution_count": 36,
     "metadata": {},
     "output_type": "execute_result"
    }
   ],
   "source": [
    "x.count('a')"
   ]
  },
  {
   "cell_type": "code",
   "execution_count": 37,
   "id": "9ffd38ac-c02a-41f7-bc25-8d9b4b5a8d15",
   "metadata": {},
   "outputs": [
    {
     "data": {
      "text/plain": [
       "[1, 2, [2, 3]]"
      ]
     },
     "execution_count": 37,
     "metadata": {},
     "output_type": "execute_result"
    }
   ],
   "source": [
    "x = [1,2,[2,3]]\n",
    "x"
   ]
  },
  {
   "cell_type": "code",
   "execution_count": 38,
   "id": "d67616b0-994a-4c55-946c-807070240589",
   "metadata": {},
   "outputs": [
    {
     "data": {
      "text/plain": [
       "1"
      ]
     },
     "execution_count": 38,
     "metadata": {},
     "output_type": "execute_result"
    }
   ],
   "source": [
    "x.count(2)"
   ]
  },
  {
   "cell_type": "code",
   "execution_count": 39,
   "id": "475f3aee-10c6-4bb0-ad37-201c4fcf402b",
   "metadata": {},
   "outputs": [
    {
     "data": {
      "text/plain": [
       "1"
      ]
     },
     "execution_count": 39,
     "metadata": {},
     "output_type": "execute_result"
    }
   ],
   "source": [
    "x.count([2,3])"
   ]
  },
  {
   "cell_type": "code",
   "execution_count": 40,
   "id": "352863ae-20c2-4c5c-a26a-4aca9c3efd31",
   "metadata": {},
   "outputs": [
    {
     "ename": "TypeError",
     "evalue": "'<' not supported between instances of 'list' and 'int'",
     "output_type": "error",
     "traceback": [
      "\u001b[0;31m---------------------------------------------------------------------------\u001b[0m",
      "\u001b[0;31mTypeError\u001b[0m                                 Traceback (most recent call last)",
      "Cell \u001b[0;32mIn[40], line 1\u001b[0m\n\u001b[0;32m----> 1\u001b[0m x\u001b[38;5;241m.\u001b[39msort()\n",
      "\u001b[0;31mTypeError\u001b[0m: '<' not supported between instances of 'list' and 'int'"
     ]
    }
   ],
   "source": [
    "x.sort()"
   ]
  },
  {
   "cell_type": "code",
   "execution_count": 41,
   "id": "13f49012-ed7f-45c6-a5d6-1bb834321075",
   "metadata": {},
   "outputs": [],
   "source": [
    "x = [5,2,1,4]"
   ]
  },
  {
   "cell_type": "code",
   "execution_count": 42,
   "id": "38218316-1d9e-4533-9e93-1b54e66fca1c",
   "metadata": {},
   "outputs": [
    {
     "data": {
      "text/plain": [
       "[5, 2, 1, 4]"
      ]
     },
     "execution_count": 42,
     "metadata": {},
     "output_type": "execute_result"
    }
   ],
   "source": [
    "x"
   ]
  },
  {
   "cell_type": "code",
   "execution_count": 43,
   "id": "ebbe113b-984a-4cd2-9621-00a90db1a3cb",
   "metadata": {},
   "outputs": [],
   "source": [
    "x.sort()"
   ]
  },
  {
   "cell_type": "code",
   "execution_count": 44,
   "id": "4f73a3b5-d686-4c32-9029-d48829028644",
   "metadata": {},
   "outputs": [
    {
     "data": {
      "text/plain": [
       "[1, 2, 4, 5]"
      ]
     },
     "execution_count": 44,
     "metadata": {},
     "output_type": "execute_result"
    }
   ],
   "source": [
    "x"
   ]
  },
  {
   "cell_type": "code",
   "execution_count": 45,
   "id": "dc063b0d-261f-4c77-b042-8e22e614af1e",
   "metadata": {},
   "outputs": [],
   "source": [
    "x = [5,2.0,1,4.0]"
   ]
  },
  {
   "cell_type": "code",
   "execution_count": 46,
   "id": "f5b92f47-0f5b-4e3e-9d61-950d7be021e0",
   "metadata": {},
   "outputs": [
    {
     "data": {
      "text/plain": [
       "[5, 2.0, 1, 4.0]"
      ]
     },
     "execution_count": 46,
     "metadata": {},
     "output_type": "execute_result"
    }
   ],
   "source": [
    "x"
   ]
  },
  {
   "cell_type": "code",
   "execution_count": 47,
   "id": "3e297962-e520-4c95-9300-0d1f9ba6ddce",
   "metadata": {},
   "outputs": [],
   "source": [
    "x.sort()"
   ]
  },
  {
   "cell_type": "code",
   "execution_count": 48,
   "id": "e9b35626-e4ff-4a91-abef-224852c97c8a",
   "metadata": {},
   "outputs": [
    {
     "data": {
      "text/plain": [
       "[1, 2.0, 4.0, 5]"
      ]
     },
     "execution_count": 48,
     "metadata": {},
     "output_type": "execute_result"
    }
   ],
   "source": [
    "x"
   ]
  },
  {
   "cell_type": "code",
   "execution_count": 49,
   "id": "f9db59d1-3c22-47da-ac40-768d6cf3cf02",
   "metadata": {},
   "outputs": [],
   "source": [
    "x = [5,2,'a',4,'ab','aa']"
   ]
  },
  {
   "cell_type": "code",
   "execution_count": 50,
   "id": "323cc794-60f2-4628-ab8e-a853758e39ef",
   "metadata": {},
   "outputs": [
    {
     "data": {
      "text/plain": [
       "[5, 2, 'a', 4, 'ab', 'aa']"
      ]
     },
     "execution_count": 50,
     "metadata": {},
     "output_type": "execute_result"
    }
   ],
   "source": [
    "x"
   ]
  },
  {
   "cell_type": "code",
   "execution_count": 51,
   "id": "82b88a6a-c727-4092-b3a8-bbeb9a05c5a0",
   "metadata": {},
   "outputs": [
    {
     "ename": "TypeError",
     "evalue": "'<' not supported between instances of 'str' and 'int'",
     "output_type": "error",
     "traceback": [
      "\u001b[0;31m---------------------------------------------------------------------------\u001b[0m",
      "\u001b[0;31mTypeError\u001b[0m                                 Traceback (most recent call last)",
      "Cell \u001b[0;32mIn[51], line 1\u001b[0m\n\u001b[0;32m----> 1\u001b[0m x\u001b[38;5;241m.\u001b[39msort()\n",
      "\u001b[0;31mTypeError\u001b[0m: '<' not supported between instances of 'str' and 'int'"
     ]
    }
   ],
   "source": [
    "x.sort()"
   ]
  },
  {
   "cell_type": "code",
   "execution_count": 52,
   "id": "3b893367-1879-42ea-8e73-5b95c8aa2999",
   "metadata": {},
   "outputs": [],
   "source": [
    "x = ['a', 'ab', 'aa']"
   ]
  },
  {
   "cell_type": "code",
   "execution_count": 55,
   "id": "360a7c42-c70f-4022-9bcd-f648f887a95d",
   "metadata": {},
   "outputs": [],
   "source": [
    "x.sort()"
   ]
  },
  {
   "cell_type": "code",
   "execution_count": 56,
   "id": "a4388cc8-897d-401b-bb29-69c06db9f2eb",
   "metadata": {},
   "outputs": [
    {
     "data": {
      "text/plain": [
       "['a', 'aa', 'ab']"
      ]
     },
     "execution_count": 56,
     "metadata": {},
     "output_type": "execute_result"
    }
   ],
   "source": [
    "x"
   ]
  },
  {
   "cell_type": "code",
   "execution_count": 57,
   "id": "9286a985-9694-4ae7-af7b-2ebc79e4c2ca",
   "metadata": {},
   "outputs": [],
   "source": [
    "x = [[2,3], [2,2],[1,3],[1,2]]"
   ]
  },
  {
   "cell_type": "code",
   "execution_count": 58,
   "id": "9df6fd95-38d1-4d3f-90d2-a7dd99f98b17",
   "metadata": {},
   "outputs": [],
   "source": [
    "x.sort()"
   ]
  },
  {
   "cell_type": "code",
   "execution_count": 59,
   "id": "1065d446-03fd-47e3-9a57-db16ff1c03c3",
   "metadata": {},
   "outputs": [
    {
     "data": {
      "text/plain": [
       "[[1, 2], [1, 3], [2, 2], [2, 3]]"
      ]
     },
     "execution_count": 59,
     "metadata": {},
     "output_type": "execute_result"
    }
   ],
   "source": [
    "x"
   ]
  },
  {
   "cell_type": "code",
   "execution_count": 60,
   "id": "c764e5ad-eb33-42d8-adb9-dae10b8d4475",
   "metadata": {},
   "outputs": [],
   "source": [
    "x = [[2,3], [2,2],[1,3],[1,2,3]]"
   ]
  },
  {
   "cell_type": "code",
   "execution_count": 61,
   "id": "e73770f8-5467-409d-9b42-42cfae64033f",
   "metadata": {},
   "outputs": [],
   "source": [
    "x.sort()"
   ]
  },
  {
   "cell_type": "code",
   "execution_count": 62,
   "id": "f2719109-4821-4c17-9a84-28bcc8ca9f0c",
   "metadata": {},
   "outputs": [
    {
     "data": {
      "text/plain": [
       "[[1, 2, 3], [1, 3], [2, 2], [2, 3]]"
      ]
     },
     "execution_count": 62,
     "metadata": {},
     "output_type": "execute_result"
    }
   ],
   "source": [
    "x"
   ]
  },
  {
   "cell_type": "code",
   "execution_count": 63,
   "id": "045b740d-0bbd-4403-a813-006a03160ed3",
   "metadata": {},
   "outputs": [],
   "source": [
    "x = [[1, 2], [1, 3], [2, 2], [2, '3']]"
   ]
  },
  {
   "cell_type": "code",
   "execution_count": 64,
   "id": "4a664605-6dae-4526-8275-a92409f6de31",
   "metadata": {},
   "outputs": [
    {
     "ename": "TypeError",
     "evalue": "'<' not supported between instances of 'str' and 'int'",
     "output_type": "error",
     "traceback": [
      "\u001b[0;31m---------------------------------------------------------------------------\u001b[0m",
      "\u001b[0;31mTypeError\u001b[0m                                 Traceback (most recent call last)",
      "Cell \u001b[0;32mIn[64], line 1\u001b[0m\n\u001b[0;32m----> 1\u001b[0m x\u001b[38;5;241m.\u001b[39msort()\n",
      "\u001b[0;31mTypeError\u001b[0m: '<' not supported between instances of 'str' and 'int'"
     ]
    }
   ],
   "source": [
    "x.sort()"
   ]
  },
  {
   "cell_type": "code",
   "execution_count": 65,
   "id": "60b11082-a017-4d87-8930-566a9d89d1fe",
   "metadata": {},
   "outputs": [
    {
     "data": {
      "text/plain": [
       "'aa'"
      ]
     },
     "execution_count": 65,
     "metadata": {},
     "output_type": "execute_result"
    }
   ],
   "source": [
    "2*'a'"
   ]
  },
  {
   "cell_type": "markdown",
   "id": "4d2a28f1-5c19-4d23-931e-25217907fd4a",
   "metadata": {},
   "source": [
    "operator overloading"
   ]
  },
  {
   "cell_type": "code",
   "execution_count": 66,
   "id": "105c21cb-a602-422c-b11f-329db7cb2d25",
   "metadata": {},
   "outputs": [
    {
     "data": {
      "text/plain": [
       "'abcabcabc'"
      ]
     },
     "execution_count": 66,
     "metadata": {},
     "output_type": "execute_result"
    }
   ],
   "source": [
    "3*'abc'"
   ]
  },
  {
   "cell_type": "code",
   "execution_count": 67,
   "id": "d8fddbbe-2569-4326-b35a-e6b3a9f55ef5",
   "metadata": {},
   "outputs": [
    {
     "data": {
      "text/plain": [
       "str"
      ]
     },
     "execution_count": 67,
     "metadata": {},
     "output_type": "execute_result"
    }
   ],
   "source": [
    "type(3*'abc')"
   ]
  },
  {
   "cell_type": "code",
   "execution_count": 68,
   "id": "84ebfa4a-9693-4ed9-a0fc-e19002e0c28d",
   "metadata": {},
   "outputs": [
    {
     "ename": "ValueError",
     "evalue": "invalid literal for int() with base 10: 'a'",
     "output_type": "error",
     "traceback": [
      "\u001b[0;31m---------------------------------------------------------------------------\u001b[0m",
      "\u001b[0;31mValueError\u001b[0m                                Traceback (most recent call last)",
      "Cell \u001b[0;32mIn[68], line 1\u001b[0m\n\u001b[0;32m----> 1\u001b[0m \u001b[38;5;28mint\u001b[39m(\u001b[38;5;124m'\u001b[39m\u001b[38;5;124ma\u001b[39m\u001b[38;5;124m'\u001b[39m)\n",
      "\u001b[0;31mValueError\u001b[0m: invalid literal for int() with base 10: 'a'"
     ]
    }
   ],
   "source": [
    "int('a')"
   ]
  },
  {
   "cell_type": "markdown",
   "id": "6da10719-3247-49bb-b094-857357dba1ca",
   "metadata": {},
   "source": [
    "Slicing (oh god...)"
   ]
  },
  {
   "cell_type": "code",
   "execution_count": 69,
   "id": "8a43fe97-ae52-4478-94cb-4cf4dbbe0bb5",
   "metadata": {},
   "outputs": [
    {
     "data": {
      "text/plain": [
       "[[1, 2], [1, 3], [2, 2], [2, '3']]"
      ]
     },
     "execution_count": 69,
     "metadata": {},
     "output_type": "execute_result"
    }
   ],
   "source": [
    "x"
   ]
  },
  {
   "cell_type": "code",
   "execution_count": 70,
   "id": "587409ff-4ffb-413f-a3b3-a760c935a38c",
   "metadata": {},
   "outputs": [],
   "source": [
    "x = [1,2,3,4]"
   ]
  },
  {
   "cell_type": "code",
   "execution_count": 71,
   "id": "cf8df091-8ffb-48c3-b328-11676b20196a",
   "metadata": {},
   "outputs": [
    {
     "data": {
      "text/plain": [
       "[1, 2, 3, 4]"
      ]
     },
     "execution_count": 71,
     "metadata": {},
     "output_type": "execute_result"
    }
   ],
   "source": [
    "x"
   ]
  },
  {
   "cell_type": "code",
   "execution_count": 72,
   "id": "f1c5ff47-f133-455f-9aa9-7e8ac1999e99",
   "metadata": {},
   "outputs": [
    {
     "data": {
      "text/plain": [
       "1"
      ]
     },
     "execution_count": 72,
     "metadata": {},
     "output_type": "execute_result"
    }
   ],
   "source": [
    "x[0]"
   ]
  },
  {
   "cell_type": "code",
   "execution_count": 73,
   "id": "10734ad4-c753-411d-97dc-c4b5736ca12b",
   "metadata": {},
   "outputs": [
    {
     "data": {
      "text/plain": [
       "4"
      ]
     },
     "execution_count": 73,
     "metadata": {},
     "output_type": "execute_result"
    }
   ],
   "source": [
    "x[3]"
   ]
  },
  {
   "cell_type": "markdown",
   "id": "98f21eb1-7aa9-4766-92ea-d091f243647d",
   "metadata": {},
   "source": [
    "^zero-based indexing"
   ]
  },
  {
   "cell_type": "code",
   "execution_count": 74,
   "id": "4f6b442c-f72d-454a-83a3-482540d8da8e",
   "metadata": {},
   "outputs": [
    {
     "ename": "IndexError",
     "evalue": "list index out of range",
     "output_type": "error",
     "traceback": [
      "\u001b[0;31m---------------------------------------------------------------------------\u001b[0m",
      "\u001b[0;31mIndexError\u001b[0m                                Traceback (most recent call last)",
      "Cell \u001b[0;32mIn[74], line 1\u001b[0m\n\u001b[0;32m----> 1\u001b[0m x[\u001b[38;5;241m4\u001b[39m]\n",
      "\u001b[0;31mIndexError\u001b[0m: list index out of range"
     ]
    }
   ],
   "source": [
    "x[4]"
   ]
  },
  {
   "cell_type": "code",
   "execution_count": 75,
   "id": "aa284923-3c21-4577-8d9d-98394a51f60e",
   "metadata": {},
   "outputs": [
    {
     "data": {
      "text/plain": [
       "4"
      ]
     },
     "execution_count": 75,
     "metadata": {},
     "output_type": "execute_result"
    }
   ],
   "source": [
    "x[-1]"
   ]
  },
  {
   "cell_type": "markdown",
   "id": "4151198f-1a81-44bc-aceb-bbc80950a351",
   "metadata": {},
   "source": [
    "last element of a list"
   ]
  },
  {
   "cell_type": "code",
   "execution_count": 76,
   "id": "08239b84-6414-42c8-a0ba-fce8cf3c1750",
   "metadata": {},
   "outputs": [
    {
     "data": {
      "text/plain": [
       "3"
      ]
     },
     "execution_count": 76,
     "metadata": {},
     "output_type": "execute_result"
    }
   ],
   "source": [
    "x[-2]"
   ]
  },
  {
   "cell_type": "markdown",
   "id": "6f0db75e-4fc6-4b3a-b9f5-78021df869e0",
   "metadata": {},
   "source": [
    "second element of end of list"
   ]
  },
  {
   "cell_type": "code",
   "execution_count": 77,
   "id": "1a15341b-e314-4ab9-99fd-1bd052517fbd",
   "metadata": {},
   "outputs": [
    {
     "data": {
      "text/plain": [
       "1"
      ]
     },
     "execution_count": 77,
     "metadata": {},
     "output_type": "execute_result"
    }
   ],
   "source": [
    "x[0]"
   ]
  },
  {
   "cell_type": "markdown",
   "id": "3d8aef3d-195b-4b55-ac37-abcefd6f49e4",
   "metadata": {},
   "source": [
    "Beginning of a list"
   ]
  },
  {
   "cell_type": "code",
   "execution_count": 79,
   "id": "06a86ba1-55d2-4640-bf4e-9643631bc267",
   "metadata": {},
   "outputs": [
    {
     "ename": "IndexError",
     "evalue": "list index out of range",
     "output_type": "error",
     "traceback": [
      "\u001b[0;31m---------------------------------------------------------------------------\u001b[0m",
      "\u001b[0;31mIndexError\u001b[0m                                Traceback (most recent call last)",
      "Cell \u001b[0;32mIn[79], line 1\u001b[0m\n\u001b[0;32m----> 1\u001b[0m x[\u001b[38;5;241m-\u001b[39m\u001b[38;5;241m5\u001b[39m]\n",
      "\u001b[0;31mIndexError\u001b[0m: list index out of range"
     ]
    }
   ],
   "source": [
    "x[-5]"
   ]
  },
  {
   "cell_type": "code",
   "execution_count": 356,
   "id": "ea65a0ec-1530-4d54-b8ef-2f57e7522132",
   "metadata": {},
   "outputs": [],
   "source": [
    "x = [1,2,3,4]"
   ]
  },
  {
   "cell_type": "code",
   "execution_count": 357,
   "id": "58d8338d-dc79-4846-a965-3ded3347a337",
   "metadata": {},
   "outputs": [
    {
     "data": {
      "text/plain": [
       "[1, 2, 3, 4]"
      ]
     },
     "execution_count": 357,
     "metadata": {},
     "output_type": "execute_result"
    }
   ],
   "source": [
    "x"
   ]
  },
  {
   "cell_type": "code",
   "execution_count": 358,
   "id": "2208bd71-1a56-4d35-98e4-336af138c19b",
   "metadata": {},
   "outputs": [],
   "source": [
    "x += [5,6,7]"
   ]
  },
  {
   "cell_type": "code",
   "execution_count": 359,
   "id": "a941d691-4d72-48e9-ae06-cebc179a1618",
   "metadata": {},
   "outputs": [
    {
     "data": {
      "text/plain": [
       "[1, 2, 3, 4, 5, 6, 7]"
      ]
     },
     "execution_count": 359,
     "metadata": {},
     "output_type": "execute_result"
    }
   ],
   "source": [
    "x"
   ]
  },
  {
   "cell_type": "markdown",
   "id": "4f13c918-d898-404e-b162-88bdb1fcf0ce",
   "metadata": {},
   "source": [
    "Slicing can be used to extract a port of a list. Slicing extracts a segment from a list by specifying its start and end positions (a.k.a. the range). To specift a in a list, use a colon between the start and end indicies. The first nubmer before the colon indicates the start of the index range. Second value is position before where you will stop, and is NOT included in the range. 3 specifies end of the range (but is not included, because first three numbers are 0,1, and 2)."
   ]
  },
  {
   "cell_type": "code",
   "execution_count": 360,
   "id": "283e9342-a75f-486c-bed1-9ec240c4ebdc",
   "metadata": {},
   "outputs": [
    {
     "data": {
      "text/plain": [
       "[1, 2, 3]"
      ]
     },
     "execution_count": 360,
     "metadata": {},
     "output_type": "execute_result"
    }
   ],
   "source": [
    "x[0:3] # 3rd item is not included"
   ]
  },
  {
   "cell_type": "code",
   "execution_count": 361,
   "id": "9c510382-c30c-4894-b73d-194b81c5714b",
   "metadata": {},
   "outputs": [
    {
     "data": {
      "text/plain": [
       "[4, 5, 6, 7]"
      ]
     },
     "execution_count": 361,
     "metadata": {},
     "output_type": "execute_result"
    }
   ],
   "source": [
    "x[3:] #omit 2nd number to go to end of range"
   ]
  },
  {
   "cell_type": "code",
   "execution_count": 362,
   "id": "ee346e29-1b71-40aa-a39a-4bbd6bb53e85",
   "metadata": {},
   "outputs": [
    {
     "data": {
      "text/plain": [
       "[5, 6]"
      ]
     },
     "execution_count": 362,
     "metadata": {},
     "output_type": "execute_result"
    }
   ],
   "source": [
    "x[-3:-1]"
   ]
  },
  {
   "cell_type": "code",
   "execution_count": 89,
   "id": "24ee56ee-4f96-4995-8464-82d954262a7c",
   "metadata": {},
   "outputs": [
    {
     "data": {
      "text/plain": [
       "[5, 6, 7]"
      ]
     },
     "execution_count": 89,
     "metadata": {},
     "output_type": "execute_result"
    }
   ],
   "source": []
  },
  {
   "cell_type": "code",
   "execution_count": 90,
   "id": "ef39cd2a-ede7-4f08-9846-aac365ac6faa",
   "metadata": {},
   "outputs": [
    {
     "data": {
      "text/plain": [
       "[2, 3, 4]"
      ]
     },
     "execution_count": 90,
     "metadata": {},
     "output_type": "execute_result"
    }
   ],
   "source": [
    "x[1:-3] #won't include -3  "
   ]
  },
  {
   "cell_type": "markdown",
   "id": "472f6047-7481-4779-b787-9a69b1e43c04",
   "metadata": {},
   "source": [
    "Also won't include x[0] becasue it starts at 1. Slice of a list, doesn't have to be continuous."
   ]
  },
  {
   "cell_type": "markdown",
   "id": "e481eabf-c7b9-4daa-b863-2af7fc4f0eef",
   "metadata": {},
   "source": [
    "Choose every other element (step size of 2)."
   ]
  },
  {
   "cell_type": "code",
   "execution_count": 91,
   "id": "fc510cf9-1340-40fa-ad55-1790d14dac03",
   "metadata": {},
   "outputs": [
    {
     "data": {
      "text/plain": [
       "[1, 2, 3, 4, 5, 6, 7]"
      ]
     },
     "execution_count": 91,
     "metadata": {},
     "output_type": "execute_result"
    }
   ],
   "source": [
    "x[:] #entire list"
   ]
  },
  {
   "cell_type": "code",
   "execution_count": 92,
   "id": "fcc54a07-abee-4ddf-a116-6f258eeeb157",
   "metadata": {},
   "outputs": [
    {
     "data": {
      "text/plain": [
       "[1, 3, 5, 7]"
      ]
     },
     "execution_count": 92,
     "metadata": {},
     "output_type": "execute_result"
    }
   ],
   "source": [
    "x[::2] #step size of 2"
   ]
  },
  {
   "cell_type": "markdown",
   "id": "068f92eb-68f8-4deb-9215-8d6cac9c7565",
   "metadata": {},
   "source": [
    "Analzes the whole list."
   ]
  },
  {
   "cell_type": "code",
   "execution_count": 93,
   "id": "a4a19d63-5583-4ba1-9a64-374308a16152",
   "metadata": {},
   "outputs": [],
   "source": [
    "x = [1,1,2,2,3,3,4,4,5,5]"
   ]
  },
  {
   "cell_type": "code",
   "execution_count": 94,
   "id": "ef313230-9af4-4a6e-9096-e45182aa7d8a",
   "metadata": {},
   "outputs": [
    {
     "data": {
      "text/plain": [
       "[1, 1, 2, 2, 3, 3, 4, 4, 5, 5]"
      ]
     },
     "execution_count": 94,
     "metadata": {},
     "output_type": "execute_result"
    }
   ],
   "source": [
    "x"
   ]
  },
  {
   "cell_type": "code",
   "execution_count": 95,
   "id": "6c819ef8-fa26-485a-bb89-ece7dc1a4085",
   "metadata": {},
   "outputs": [
    {
     "data": {
      "text/plain": [
       "[1, 2, 3, 4, 5]"
      ]
     },
     "execution_count": 95,
     "metadata": {},
     "output_type": "execute_result"
    }
   ],
   "source": [
    "x[::2]"
   ]
  },
  {
   "cell_type": "code",
   "execution_count": 96,
   "id": "dda1a9e1-5f67-4634-8e95-5bde323de78a",
   "metadata": {},
   "outputs": [],
   "source": [
    "x = [1, 2, 3, 4, 5, 6, 7]"
   ]
  },
  {
   "cell_type": "code",
   "execution_count": 97,
   "id": "f6826617-4571-4d45-bd09-9d91f21e3ce3",
   "metadata": {},
   "outputs": [
    {
     "data": {
      "text/plain": [
       "[1, 2, 3, 4, 5, 6, 7]"
      ]
     },
     "execution_count": 97,
     "metadata": {},
     "output_type": "execute_result"
    }
   ],
   "source": [
    "x"
   ]
  },
  {
   "cell_type": "code",
   "execution_count": 98,
   "id": "bcb33601-7a3e-4fa7-b4d8-933e835c933b",
   "metadata": {},
   "outputs": [
    {
     "data": {
      "text/plain": [
       "[7, 6, 5, 4, 3, 2, 1]"
      ]
     },
     "execution_count": 98,
     "metadata": {},
     "output_type": "execute_result"
    }
   ],
   "source": [
    "x[::-1] #Had no idea"
   ]
  },
  {
   "cell_type": "markdown",
   "id": "0f945c3e-d247-4963-a9c0-e7ddc2c27288",
   "metadata": {},
   "source": [
    "This reverses the list. Common question in technical interviews."
   ]
  },
  {
   "cell_type": "code",
   "execution_count": 99,
   "id": "f441a29e-b836-45d1-8396-3af9dfaae35e",
   "metadata": {},
   "outputs": [
    {
     "data": {
      "text/plain": [
       "[7, 5, 3, 1]"
      ]
     },
     "execution_count": 99,
     "metadata": {},
     "output_type": "execute_result"
    }
   ],
   "source": [
    "x[::-2] #reverse every other?"
   ]
  },
  {
   "cell_type": "markdown",
   "id": "4836c143-55bc-438d-818b-dbcbea7657f1",
   "metadata": {},
   "source": [
    "Nice!!"
   ]
  },
  {
   "cell_type": "markdown",
   "id": "a410d501-14c1-43ac-aecf-1cb15eaf4daf",
   "metadata": {},
   "source": [
    "Applying step sizes to an entire range"
   ]
  },
  {
   "cell_type": "code",
   "execution_count": 100,
   "id": "9619dace-1d35-48a5-b947-3b0e6f0bb850",
   "metadata": {},
   "outputs": [
    {
     "data": {
      "text/plain": [
       "[]"
      ]
     },
     "execution_count": 100,
     "metadata": {},
     "output_type": "execute_result"
    }
   ],
   "source": [
    "x[5:2]"
   ]
  },
  {
   "cell_type": "code",
   "execution_count": 101,
   "id": "d4e10a46-fbdb-4116-9347-cdd7dc6e28a4",
   "metadata": {},
   "outputs": [
    {
     "data": {
      "text/plain": [
       "[6, 5, 4]"
      ]
     },
     "execution_count": 101,
     "metadata": {},
     "output_type": "execute_result"
    }
   ],
   "source": [
    "x[5:2:-1]"
   ]
  },
  {
   "cell_type": "code",
   "execution_count": 102,
   "id": "8101260c-1a65-4134-8064-d1c135ecbb0e",
   "metadata": {},
   "outputs": [
    {
     "data": {
      "text/plain": [
       "[1, 2, 3, 4, 5, 6, 7]"
      ]
     },
     "execution_count": 102,
     "metadata": {},
     "output_type": "execute_result"
    }
   ],
   "source": [
    "x"
   ]
  },
  {
   "cell_type": "code",
   "execution_count": 103,
   "id": "4a623f89-f429-47ed-9367-791f1a09fe78",
   "metadata": {},
   "outputs": [
    {
     "data": {
      "text/plain": [
       "[3, 5]"
      ]
     },
     "execution_count": 103,
     "metadata": {},
     "output_type": "execute_result"
    }
   ],
   "source": [
    "x[2:6:2]"
   ]
  },
  {
   "cell_type": "code",
   "execution_count": 104,
   "id": "c53555f0-f6e7-4886-b6ea-5f97ff0f6c29",
   "metadata": {},
   "outputs": [
    {
     "data": {
      "text/plain": [
       "[3, 4]"
      ]
     },
     "execution_count": 104,
     "metadata": {},
     "output_type": "execute_result"
    }
   ],
   "source": [
    "x[2:4] # 2=3, 4=5 is not included, so it equals 4"
   ]
  },
  {
   "cell_type": "code",
   "execution_count": 105,
   "id": "23f11266-b1b2-48e8-b7e9-d863f2fc0e16",
   "metadata": {},
   "outputs": [],
   "source": [
    "x[2:4] = ['a','b','c']"
   ]
  },
  {
   "cell_type": "code",
   "execution_count": 106,
   "id": "8eecf4c6-cf84-4716-947a-691be8ed12e0",
   "metadata": {},
   "outputs": [
    {
     "data": {
      "text/plain": [
       "[1, 2, 'a', 'b', 'c', 5, 6, 7]"
      ]
     },
     "execution_count": 106,
     "metadata": {},
     "output_type": "execute_result"
    }
   ],
   "source": [
    "x"
   ]
  },
  {
   "cell_type": "code",
   "execution_count": 107,
   "id": "c51390dd-e066-43f3-9296-5016c1b8b1e8",
   "metadata": {},
   "outputs": [],
   "source": [
    "x[2:5] = ['d']"
   ]
  },
  {
   "cell_type": "code",
   "execution_count": 108,
   "id": "f9c61f85-9b3c-479e-8c0b-6f859da6c2bb",
   "metadata": {},
   "outputs": [
    {
     "data": {
      "text/plain": [
       "[1, 2, 'd', 5, 6, 7]"
      ]
     },
     "execution_count": 108,
     "metadata": {},
     "output_type": "execute_result"
    }
   ],
   "source": [
    "x"
   ]
  },
  {
   "cell_type": "code",
   "execution_count": 109,
   "id": "db552e22-fdad-4a6b-a767-6f04bc4f8ca6",
   "metadata": {},
   "outputs": [
    {
     "data": {
      "text/plain": [
       "tuple"
      ]
     },
     "execution_count": 109,
     "metadata": {},
     "output_type": "execute_result"
    }
   ],
   "source": [
    "tuple"
   ]
  },
  {
   "cell_type": "code",
   "execution_count": 110,
   "id": "575ef959-5f14-4e2f-a8e2-baa9acf31911",
   "metadata": {},
   "outputs": [],
   "source": [
    "t = (1,2,3)"
   ]
  },
  {
   "cell_type": "code",
   "execution_count": 111,
   "id": "16adca85-f1e7-40b1-9bb8-aae8493e1b65",
   "metadata": {},
   "outputs": [
    {
     "data": {
      "text/plain": [
       "(1, 2, 3)"
      ]
     },
     "execution_count": 111,
     "metadata": {},
     "output_type": "execute_result"
    }
   ],
   "source": [
    "t"
   ]
  },
  {
   "cell_type": "code",
   "execution_count": 112,
   "id": "236de2a7-56f5-48ef-827c-1f6a85e9a610",
   "metadata": {},
   "outputs": [
    {
     "ename": "AttributeError",
     "evalue": "'tuple' object has no attribute 'append'",
     "output_type": "error",
     "traceback": [
      "\u001b[0;31m---------------------------------------------------------------------------\u001b[0m",
      "\u001b[0;31mAttributeError\u001b[0m                            Traceback (most recent call last)",
      "Cell \u001b[0;32mIn[112], line 1\u001b[0m\n\u001b[0;32m----> 1\u001b[0m t\u001b[38;5;241m.\u001b[39mappend(\u001b[38;5;241m4\u001b[39m)\n",
      "\u001b[0;31mAttributeError\u001b[0m: 'tuple' object has no attribute 'append'"
     ]
    }
   ],
   "source": [
    "t.append(4)"
   ]
  },
  {
   "cell_type": "code",
   "execution_count": 113,
   "id": "2054e8af-021f-4c25-94b1-734c76714697",
   "metadata": {},
   "outputs": [
    {
     "data": {
      "text/plain": [
       "1"
      ]
     },
     "execution_count": 113,
     "metadata": {},
     "output_type": "execute_result"
    }
   ],
   "source": [
    "t.count(2)"
   ]
  },
  {
   "cell_type": "code",
   "execution_count": 114,
   "id": "2246f66e-d6e5-4bbb-a148-09c9185f879f",
   "metadata": {},
   "outputs": [],
   "source": [
    "t = (1,1,2,2,3,3)"
   ]
  },
  {
   "cell_type": "code",
   "execution_count": 115,
   "id": "13bc2b2e-bf82-44a4-8d68-dd0d163b8fa3",
   "metadata": {},
   "outputs": [
    {
     "data": {
      "text/plain": [
       "2"
      ]
     },
     "execution_count": 115,
     "metadata": {},
     "output_type": "execute_result"
    }
   ],
   "source": [
    "t.count(2)"
   ]
  },
  {
   "cell_type": "code",
   "execution_count": 117,
   "id": "5e85f1d6-4340-4e03-acfa-a6b3bdee027b",
   "metadata": {},
   "outputs": [
    {
     "data": {
      "text/plain": [
       "(1, 1, 2, 2)"
      ]
     },
     "execution_count": 117,
     "metadata": {},
     "output_type": "execute_result"
    }
   ],
   "source": [
    "t[:4]"
   ]
  },
  {
   "cell_type": "code",
   "execution_count": 118,
   "id": "82d00321-a892-44fd-b8a8-c51156c4a7eb",
   "metadata": {},
   "outputs": [
    {
     "ename": "TypeError",
     "evalue": "'tuple' object does not support item assignment",
     "output_type": "error",
     "traceback": [
      "\u001b[0;31m---------------------------------------------------------------------------\u001b[0m",
      "\u001b[0;31mTypeError\u001b[0m                                 Traceback (most recent call last)",
      "Cell \u001b[0;32mIn[118], line 1\u001b[0m\n\u001b[0;32m----> 1\u001b[0m t[\u001b[38;5;241m2\u001b[39m:\u001b[38;5;241m4\u001b[39m] \u001b[38;5;241m=\u001b[39m [\u001b[38;5;241m4\u001b[39m,\u001b[38;5;241m5\u001b[39m]\n",
      "\u001b[0;31mTypeError\u001b[0m: 'tuple' object does not support item assignment"
     ]
    }
   ],
   "source": [
    "t[2:4] = [4,5]"
   ]
  },
  {
   "cell_type": "code",
   "execution_count": 119,
   "id": "8e561903-bea5-43d3-8c9a-0b7cad5508f6",
   "metadata": {},
   "outputs": [
    {
     "data": {
      "text/plain": [
       "(1, 1, 2, 2, 3, 3)"
      ]
     },
     "execution_count": 119,
     "metadata": {},
     "output_type": "execute_result"
    }
   ],
   "source": [
    "t"
   ]
  },
  {
   "cell_type": "code",
   "execution_count": 120,
   "id": "1cd6068f-2233-41b6-8fd1-cc9fe8c43319",
   "metadata": {},
   "outputs": [],
   "source": [
    "t =(1)"
   ]
  },
  {
   "cell_type": "code",
   "execution_count": 121,
   "id": "7fe94691-4d12-4d23-8283-55edf58c8676",
   "metadata": {},
   "outputs": [
    {
     "data": {
      "text/plain": [
       "1"
      ]
     },
     "execution_count": 121,
     "metadata": {},
     "output_type": "execute_result"
    }
   ],
   "source": [
    "t"
   ]
  },
  {
   "cell_type": "code",
   "execution_count": 122,
   "id": "7d8ff000-23af-4af9-a1f2-5dcdfdac53c7",
   "metadata": {},
   "outputs": [
    {
     "data": {
      "text/plain": [
       "int"
      ]
     },
     "execution_count": 122,
     "metadata": {},
     "output_type": "execute_result"
    }
   ],
   "source": [
    "type(t)"
   ]
  },
  {
   "cell_type": "code",
   "execution_count": 123,
   "id": "e7ea838a-2de4-4453-885c-c77b5036f06c",
   "metadata": {},
   "outputs": [],
   "source": [
    "t = (1,)"
   ]
  },
  {
   "cell_type": "code",
   "execution_count": 124,
   "id": "1f51e51a-a808-40af-873f-0d778e26e62b",
   "metadata": {},
   "outputs": [
    {
     "data": {
      "text/plain": [
       "tuple"
      ]
     },
     "execution_count": 124,
     "metadata": {},
     "output_type": "execute_result"
    }
   ],
   "source": [
    "type(t)"
   ]
  },
  {
   "cell_type": "code",
   "execution_count": 125,
   "id": "b7afc072-948e-44be-b131-e6e31fb0dd5d",
   "metadata": {},
   "outputs": [],
   "source": [
    "t = 1,"
   ]
  },
  {
   "cell_type": "code",
   "execution_count": 126,
   "id": "8751537e-fcc3-43ec-b220-31a451a15410",
   "metadata": {},
   "outputs": [
    {
     "data": {
      "text/plain": [
       "tuple"
      ]
     },
     "execution_count": 126,
     "metadata": {},
     "output_type": "execute_result"
    }
   ],
   "source": [
    "type(t)"
   ]
  },
  {
   "cell_type": "code",
   "execution_count": 127,
   "id": "940ddf17-f135-4c46-ab64-27ab7eb58e98",
   "metadata": {},
   "outputs": [],
   "source": [
    "t = 1,2,3"
   ]
  },
  {
   "cell_type": "code",
   "execution_count": 128,
   "id": "edf65398-b991-424c-ad1a-cdc5135dd4d7",
   "metadata": {},
   "outputs": [
    {
     "data": {
      "text/plain": [
       "(1, 2, 3)"
      ]
     },
     "execution_count": 128,
     "metadata": {},
     "output_type": "execute_result"
    }
   ],
   "source": [
    "t"
   ]
  },
  {
   "cell_type": "code",
   "execution_count": 129,
   "id": "8ab3bdbc-1a83-46d9-ac15-e889b47793be",
   "metadata": {},
   "outputs": [],
   "source": [
    "x = 0.125"
   ]
  },
  {
   "cell_type": "code",
   "execution_count": 131,
   "id": "a4e4f8dc-bbba-49be-9567-48840ac22b68",
   "metadata": {},
   "outputs": [
    {
     "data": {
      "text/plain": [
       "(1, 8)"
      ]
     },
     "execution_count": 131,
     "metadata": {},
     "output_type": "execute_result"
    }
   ],
   "source": [
    "x.as_integer_ratio()"
   ]
  },
  {
   "cell_type": "markdown",
   "id": "1eb95ce0-0c67-4112-b4e2-1e32cc60360f",
   "metadata": {},
   "source": [
    "Remember parentheses afteras_integer_ratio"
   ]
  },
  {
   "cell_type": "code",
   "execution_count": 132,
   "id": "c72b49bf-85ce-47ec-b963-38e8986eb0d5",
   "metadata": {},
   "outputs": [
    {
     "data": {
      "text/plain": [
       "tuple"
      ]
     },
     "execution_count": 132,
     "metadata": {},
     "output_type": "execute_result"
    }
   ],
   "source": [
    "type(x.as_integer_ratio())"
   ]
  },
  {
   "cell_type": "code",
   "execution_count": 133,
   "id": "3581f164-c88f-488f-a034-0b3f12265359",
   "metadata": {},
   "outputs": [],
   "source": [
    "a, b = x.as_integer_ratio()"
   ]
  },
  {
   "cell_type": "code",
   "execution_count": 134,
   "id": "2d9ba486-d0cd-4b11-90d9-821c70c79b89",
   "metadata": {},
   "outputs": [
    {
     "data": {
      "text/plain": [
       "(1, 8)"
      ]
     },
     "execution_count": 134,
     "metadata": {},
     "output_type": "execute_result"
    }
   ],
   "source": [
    "a, b"
   ]
  },
  {
   "cell_type": "code",
   "execution_count": 135,
   "id": "cb203eb8-5b51-4367-805e-0b1eed9de5b4",
   "metadata": {},
   "outputs": [
    {
     "data": {
      "text/plain": [
       "1"
      ]
     },
     "execution_count": 135,
     "metadata": {},
     "output_type": "execute_result"
    }
   ],
   "source": [
    "a"
   ]
  },
  {
   "cell_type": "code",
   "execution_count": 136,
   "id": "c8cf661f-c428-471b-a9fb-6be0b525d93c",
   "metadata": {},
   "outputs": [
    {
     "data": {
      "text/plain": [
       "8"
      ]
     },
     "execution_count": 136,
     "metadata": {},
     "output_type": "execute_result"
    }
   ],
   "source": [
    "b"
   ]
  },
  {
   "cell_type": "markdown",
   "id": "4618abb6-1274-4fb5-9f81-3bd617c1fa6d",
   "metadata": {},
   "source": [
    "Dict Type"
   ]
  },
  {
   "cell_type": "code",
   "execution_count": 140,
   "id": "ef848ea6-1dc1-4c42-ba8e-a3772bde553a",
   "metadata": {},
   "outputs": [],
   "source": [
    "x = {'a':1, 'b': 2, 'c': 3}"
   ]
  },
  {
   "cell_type": "code",
   "execution_count": 141,
   "id": "eeda8bb9-d248-4afd-962a-50d426cea79a",
   "metadata": {},
   "outputs": [
    {
     "data": {
      "text/plain": [
       "dict"
      ]
     },
     "execution_count": 141,
     "metadata": {},
     "output_type": "execute_result"
    }
   ],
   "source": [
    "type(x)"
   ]
  },
  {
   "cell_type": "code",
   "execution_count": 142,
   "id": "0441f79b-4724-4f90-9bf2-b97f8ff85e12",
   "metadata": {},
   "outputs": [
    {
     "data": {
      "text/plain": [
       "{'a': 1, 'b': 2, 'c': 3}"
      ]
     },
     "execution_count": 142,
     "metadata": {},
     "output_type": "execute_result"
    }
   ],
   "source": [
    "x"
   ]
  },
  {
   "cell_type": "code",
   "execution_count": 143,
   "id": "dfe56570-eb05-4617-af06-6340793b0298",
   "metadata": {},
   "outputs": [
    {
     "data": {
      "text/plain": [
       "1"
      ]
     },
     "execution_count": 143,
     "metadata": {},
     "output_type": "execute_result"
    }
   ],
   "source": [
    "x['a']"
   ]
  },
  {
   "cell_type": "code",
   "execution_count": 144,
   "id": "ddea3c63-5436-4cb1-b7a3-059b353cb00a",
   "metadata": {},
   "outputs": [
    {
     "data": {
      "text/plain": [
       "2"
      ]
     },
     "execution_count": 144,
     "metadata": {},
     "output_type": "execute_result"
    }
   ],
   "source": [
    "x['b']"
   ]
  },
  {
   "cell_type": "code",
   "execution_count": 145,
   "id": "6a30a5de-75d8-497e-a04a-57753793e102",
   "metadata": {},
   "outputs": [],
   "source": [
    "x['d'] = 4"
   ]
  },
  {
   "cell_type": "code",
   "execution_count": 146,
   "id": "33b7b76e-7667-4093-a692-4160e46f42a5",
   "metadata": {},
   "outputs": [
    {
     "data": {
      "text/plain": [
       "{'a': 1, 'b': 2, 'c': 3, 'd': 4}"
      ]
     },
     "execution_count": 146,
     "metadata": {},
     "output_type": "execute_result"
    }
   ],
   "source": [
    "x"
   ]
  },
  {
   "cell_type": "code",
   "execution_count": 147,
   "id": "1bb063d1-9134-4426-b4eb-7c359b639e71",
   "metadata": {},
   "outputs": [],
   "source": [
    "x['a'] = 5"
   ]
  },
  {
   "cell_type": "code",
   "execution_count": 148,
   "id": "01739d2b-597b-4f6d-9e1b-d6f65d496e83",
   "metadata": {},
   "outputs": [
    {
     "data": {
      "text/plain": [
       "{'a': 5, 'b': 2, 'c': 3, 'd': 4}"
      ]
     },
     "execution_count": 148,
     "metadata": {},
     "output_type": "execute_result"
    }
   ],
   "source": [
    "x"
   ]
  },
  {
   "cell_type": "code",
   "execution_count": 149,
   "id": "d49a7c31-91c2-4aef-9d38-70c9cd1c65d1",
   "metadata": {},
   "outputs": [],
   "source": [
    "x = {'a': 5, 'b': 2, 'c': 3, 'd': 4, 'd':6}"
   ]
  },
  {
   "cell_type": "code",
   "execution_count": 150,
   "id": "0d7479a8-7df6-4252-bfc1-e1737189de2b",
   "metadata": {},
   "outputs": [
    {
     "data": {
      "text/plain": [
       "{'a': 5, 'b': 2, 'c': 3, 'd': 6}"
      ]
     },
     "execution_count": 150,
     "metadata": {},
     "output_type": "execute_result"
    }
   ],
   "source": [
    "x"
   ]
  },
  {
   "cell_type": "markdown",
   "id": "c3fb1858-5b83-4abd-af55-f3f2511c9744",
   "metadata": {},
   "source": [
    "Can't add duplicates, but this is another way to replace a value in a dictionary. Order of a dictionary is not guaranteed."
   ]
  },
  {
   "cell_type": "markdown",
   "id": "142a6e13-cf99-4345-b2d6-6b6f2afc2686",
   "metadata": {},
   "source": [
    "What data types can be used as keys? "
   ]
  },
  {
   "cell_type": "code",
   "execution_count": 151,
   "id": "cc066db1-0465-4821-93e4-a675613ddfba",
   "metadata": {},
   "outputs": [],
   "source": [
    "x = {'a':1, 3:'b'}"
   ]
  },
  {
   "cell_type": "code",
   "execution_count": 152,
   "id": "e0cdb756-828a-434e-9e84-8ab71f6273ca",
   "metadata": {},
   "outputs": [
    {
     "data": {
      "text/plain": [
       "1"
      ]
     },
     "execution_count": 152,
     "metadata": {},
     "output_type": "execute_result"
    }
   ],
   "source": [
    "x['a']"
   ]
  },
  {
   "cell_type": "code",
   "execution_count": 153,
   "id": "d2a15110-035d-42f6-96ab-9b4d825a61ac",
   "metadata": {},
   "outputs": [
    {
     "data": {
      "text/plain": [
       "'b'"
      ]
     },
     "execution_count": 153,
     "metadata": {},
     "output_type": "execute_result"
    }
   ],
   "source": [
    "x[3]"
   ]
  },
  {
   "cell_type": "code",
   "execution_count": 154,
   "id": "87d12ba5-c351-45e0-9727-4b958a2578f6",
   "metadata": {},
   "outputs": [
    {
     "ename": "TypeError",
     "evalue": "unhashable type: 'list'",
     "output_type": "error",
     "traceback": [
      "\u001b[0;31m---------------------------------------------------------------------------\u001b[0m",
      "\u001b[0;31mTypeError\u001b[0m                                 Traceback (most recent call last)",
      "Cell \u001b[0;32mIn[154], line 1\u001b[0m\n\u001b[0;32m----> 1\u001b[0m x \u001b[38;5;241m=\u001b[39m {[\u001b[38;5;241m1\u001b[39m,\u001b[38;5;241m2\u001b[39m]:\u001b[38;5;241m2\u001b[39m}\n",
      "\u001b[0;31mTypeError\u001b[0m: unhashable type: 'list'"
     ]
    }
   ],
   "source": [
    "x = {[1,2]:2}"
   ]
  },
  {
   "cell_type": "markdown",
   "id": "933c1cc7-c266-4fa5-92d2-78d25dd23a2d",
   "metadata": {},
   "source": [
    "Keys should not change, so lists do not work because they are mutable."
   ]
  },
  {
   "cell_type": "code",
   "execution_count": 155,
   "id": "62e2371e-f05c-4974-83cd-ca58fa96386b",
   "metadata": {},
   "outputs": [],
   "source": [
    "x={(1,2):3}"
   ]
  },
  {
   "cell_type": "code",
   "execution_count": 156,
   "id": "6346f3d9-fa1f-43fb-9f56-44bac6d79e92",
   "metadata": {},
   "outputs": [
    {
     "data": {
      "text/plain": [
       "3"
      ]
     },
     "execution_count": 156,
     "metadata": {},
     "output_type": "execute_result"
    }
   ],
   "source": [
    "x[(1,2)]"
   ]
  },
  {
   "cell_type": "code",
   "execution_count": 157,
   "id": "0d263207-8771-49d3-89fb-08f72c92910c",
   "metadata": {},
   "outputs": [],
   "source": [
    "x={(1,2):3, (1,3):5}"
   ]
  },
  {
   "cell_type": "code",
   "execution_count": 158,
   "id": "52d40faf-cf33-430f-99fd-27188d62812f",
   "metadata": {},
   "outputs": [
    {
     "data": {
      "text/plain": [
       "3"
      ]
     },
     "execution_count": 158,
     "metadata": {},
     "output_type": "execute_result"
    }
   ],
   "source": [
    "x[(1,2)]"
   ]
  },
  {
   "cell_type": "code",
   "execution_count": 159,
   "id": "94a85603-e709-4fbe-9b6c-490d9c45ba8e",
   "metadata": {},
   "outputs": [
    {
     "data": {
      "text/plain": [
       "5"
      ]
     },
     "execution_count": 159,
     "metadata": {},
     "output_type": "execute_result"
    }
   ],
   "source": [
    "x[(1,3)]"
   ]
  },
  {
   "cell_type": "code",
   "execution_count": 160,
   "id": "f79d9e04-a8e7-4cfe-bc8d-40d49107fe5d",
   "metadata": {},
   "outputs": [],
   "source": [
    "x = {'a':1, 'b':2, 'c':3}"
   ]
  },
  {
   "cell_type": "code",
   "execution_count": 161,
   "id": "8cc206e4-33e2-497b-b4b1-d1857c433ac3",
   "metadata": {},
   "outputs": [
    {
     "data": {
      "text/plain": [
       "{'a': 1, 'b': 2, 'c': 3}"
      ]
     },
     "execution_count": 161,
     "metadata": {},
     "output_type": "execute_result"
    }
   ],
   "source": [
    "x"
   ]
  },
  {
   "cell_type": "code",
   "execution_count": 163,
   "id": "f1b6c6b6-bb84-4e3f-bdb9-c164037acdfa",
   "metadata": {},
   "outputs": [
    {
     "data": {
      "text/plain": [
       "dict_keys(['a', 'b', 'c'])"
      ]
     },
     "execution_count": 163,
     "metadata": {},
     "output_type": "execute_result"
    }
   ],
   "source": [
    "x.keys()"
   ]
  },
  {
   "cell_type": "code",
   "execution_count": 165,
   "id": "5ae35b84-cfc1-4090-94e1-6ee9350d1ed1",
   "metadata": {},
   "outputs": [
    {
     "data": {
      "text/plain": [
       "dict_keys"
      ]
     },
     "execution_count": 165,
     "metadata": {},
     "output_type": "execute_result"
    }
   ],
   "source": [
    "type(x.keys())"
   ]
  },
  {
   "cell_type": "code",
   "execution_count": 166,
   "id": "09914650-15a6-43a6-9fb6-a08cdd2fda53",
   "metadata": {},
   "outputs": [],
   "source": [
    "y = x.keys()"
   ]
  },
  {
   "cell_type": "code",
   "execution_count": 167,
   "id": "b7a433e8-da7b-4b40-9682-e4c2e6168096",
   "metadata": {},
   "outputs": [
    {
     "data": {
      "text/plain": [
       "dict_keys(['a', 'b', 'c'])"
      ]
     },
     "execution_count": 167,
     "metadata": {},
     "output_type": "execute_result"
    }
   ],
   "source": [
    "y"
   ]
  },
  {
   "cell_type": "code",
   "execution_count": 168,
   "id": "dba4c2ee-f93d-4d86-a43e-11b3a3209e0f",
   "metadata": {},
   "outputs": [],
   "source": [
    "x['d'] = 4"
   ]
  },
  {
   "cell_type": "code",
   "execution_count": 169,
   "id": "5f63d94e-6e0b-4f45-ac70-1cf49ebc495d",
   "metadata": {},
   "outputs": [
    {
     "data": {
      "text/plain": [
       "{'a': 1, 'b': 2, 'c': 3, 'd': 4}"
      ]
     },
     "execution_count": 169,
     "metadata": {},
     "output_type": "execute_result"
    }
   ],
   "source": [
    "x"
   ]
  },
  {
   "cell_type": "code",
   "execution_count": 170,
   "id": "65bf586d-122e-4907-82fc-799814d62361",
   "metadata": {},
   "outputs": [
    {
     "data": {
      "text/plain": [
       "dict_keys(['a', 'b', 'c', 'd'])"
      ]
     },
     "execution_count": 170,
     "metadata": {},
     "output_type": "execute_result"
    }
   ],
   "source": [
    "y"
   ]
  },
  {
   "cell_type": "code",
   "execution_count": 171,
   "id": "90860fda-4a09-422d-9e23-c6b3b47a42c9",
   "metadata": {},
   "outputs": [],
   "source": [
    "x[(2,3)] = 'hello'"
   ]
  },
  {
   "cell_type": "code",
   "execution_count": 172,
   "id": "bc269f05-cb75-461c-a97d-f04dd65b4896",
   "metadata": {},
   "outputs": [
    {
     "data": {
      "text/plain": [
       "{'a': 1, 'b': 2, 'c': 3, 'd': 4, (2, 3): 'hello'}"
      ]
     },
     "execution_count": 172,
     "metadata": {},
     "output_type": "execute_result"
    }
   ],
   "source": [
    "x"
   ]
  },
  {
   "cell_type": "code",
   "execution_count": 173,
   "id": "93f789f4-65ec-45fb-be49-1bcf90ed20d2",
   "metadata": {},
   "outputs": [
    {
     "data": {
      "text/plain": [
       "dict_keys(['a', 'b', 'c', 'd', (2, 3)])"
      ]
     },
     "execution_count": 173,
     "metadata": {},
     "output_type": "execute_result"
    }
   ],
   "source": [
    "y"
   ]
  },
  {
   "cell_type": "code",
   "execution_count": 174,
   "id": "3374e8ea-de44-4fe9-8ecf-54393eb7b5bd",
   "metadata": {},
   "outputs": [],
   "source": [
    "x[6] = 'six'"
   ]
  },
  {
   "cell_type": "code",
   "execution_count": 175,
   "id": "4e782818-7266-4eb1-8eba-e1a65d48206b",
   "metadata": {},
   "outputs": [
    {
     "data": {
      "text/plain": [
       "{'a': 1, 'b': 2, 'c': 3, 'd': 4, (2, 3): 'hello', 6: 'six'}"
      ]
     },
     "execution_count": 175,
     "metadata": {},
     "output_type": "execute_result"
    }
   ],
   "source": [
    "x"
   ]
  },
  {
   "cell_type": "code",
   "execution_count": 176,
   "id": "567445b3-2a9c-4de8-8d45-bf48a3526e91",
   "metadata": {},
   "outputs": [
    {
     "data": {
      "text/plain": [
       "'six'"
      ]
     },
     "execution_count": 176,
     "metadata": {},
     "output_type": "execute_result"
    }
   ],
   "source": [
    "x[6]"
   ]
  },
  {
   "cell_type": "code",
   "execution_count": 177,
   "id": "ffd32bf7-2709-463d-aa7b-935e254487a0",
   "metadata": {},
   "outputs": [],
   "source": [
    "x[100] = 'one hundred'"
   ]
  },
  {
   "cell_type": "code",
   "execution_count": 178,
   "id": "9741f782-e99c-4016-af68-695c3ef749c1",
   "metadata": {},
   "outputs": [
    {
     "data": {
      "text/plain": [
       "{'a': 1, 'b': 2, 'c': 3, 'd': 4, (2, 3): 'hello', 6: 'six', 100: 'one hundred'}"
      ]
     },
     "execution_count": 178,
     "metadata": {},
     "output_type": "execute_result"
    }
   ],
   "source": [
    "x"
   ]
  },
  {
   "cell_type": "code",
   "execution_count": 179,
   "id": "d85556bd-83d3-4db9-945a-4662f4e631af",
   "metadata": {},
   "outputs": [
    {
     "data": {
      "text/plain": [
       "'one hundred'"
      ]
     },
     "execution_count": 179,
     "metadata": {},
     "output_type": "execute_result"
    }
   ],
   "source": [
    "x[100]"
   ]
  },
  {
   "cell_type": "code",
   "execution_count": 180,
   "id": "c05bd274-0501-4b64-ac1b-d0d65b0140fc",
   "metadata": {},
   "outputs": [
    {
     "ename": "TypeError",
     "evalue": "unhashable type: 'dict'",
     "output_type": "error",
     "traceback": [
      "\u001b[0;31m---------------------------------------------------------------------------\u001b[0m",
      "\u001b[0;31mTypeError\u001b[0m                                 Traceback (most recent call last)",
      "Cell \u001b[0;32mIn[180], line 1\u001b[0m\n\u001b[0;32m----> 1\u001b[0m x \u001b[38;5;241m=\u001b[39m {{\u001b[38;5;124m'\u001b[39m\u001b[38;5;124ma\u001b[39m\u001b[38;5;124m'\u001b[39m:\u001b[38;5;241m1\u001b[39m}:\u001b[38;5;241m2\u001b[39m}\n",
      "\u001b[0;31mTypeError\u001b[0m: unhashable type: 'dict'"
     ]
    }
   ],
   "source": [
    "x = {{'a':1}:2}"
   ]
  },
  {
   "cell_type": "code",
   "execution_count": 183,
   "id": "4b027224-501d-4285-a2d5-30693cbcc9b1",
   "metadata": {},
   "outputs": [],
   "source": [
    "x = [1,2,(3,4,{'a':[5,6,{'b':'hello', 'c':10}]})]"
   ]
  },
  {
   "cell_type": "markdown",
   "id": "269c4e9e-5c7f-4bf7-9608-2b036ee5d9fd",
   "metadata": {},
   "source": [
    "^This is a nested list. x is a list that cotains two integers, and an expanded tuple. The tuple includes the key 'a' that maps to a list. The list contains two integers, and a dictionary is mutable so this works in this example."
   ]
  },
  {
   "cell_type": "markdown",
   "id": "17501145-b268-4ffd-81db-44cae91aeecd",
   "metadata": {},
   "source": [
    "The tuple here is a \"curveball\" because it gets you over thinking what is mutable and immutable. The overall item is a list, which is mutable, and the tuple is immutable, and the immutability only applies to the tuple and not the objects that it references."
   ]
  },
  {
   "cell_type": "markdown",
   "id": "fecac611-8967-42db-b6fb-926bc9ffbe65",
   "metadata": {},
   "source": [
    "using indexing and slicing to get 'll'"
   ]
  },
  {
   "cell_type": "code",
   "execution_count": 184,
   "id": "16a221ca-c858-4a15-81a3-0f2c20d61470",
   "metadata": {},
   "outputs": [
    {
     "data": {
      "text/plain": [
       "3"
      ]
     },
     "execution_count": 184,
     "metadata": {},
     "output_type": "execute_result"
    }
   ],
   "source": [
    "len(x)"
   ]
  },
  {
   "cell_type": "code",
   "execution_count": 185,
   "id": "1f3b80ec-37fa-4bc2-9b97-2e41a791c3bd",
   "metadata": {},
   "outputs": [
    {
     "data": {
      "text/plain": [
       "{'a': [5, 6, {'b': 'hello', 'c': 10}]}"
      ]
     },
     "execution_count": 185,
     "metadata": {},
     "output_type": "execute_result"
    }
   ],
   "source": [
    "x[2][2]"
   ]
  },
  {
   "cell_type": "code",
   "execution_count": 187,
   "id": "71af549c-cc02-4ec2-883d-c3931a772f54",
   "metadata": {},
   "outputs": [
    {
     "data": {
      "text/plain": [
       "[5, 6, {'b': 'hello', 'c': 10}]"
      ]
     },
     "execution_count": 187,
     "metadata": {},
     "output_type": "execute_result"
    }
   ],
   "source": [
    "x[2][2]['a']"
   ]
  },
  {
   "cell_type": "code",
   "execution_count": 191,
   "id": "236aa7c9-a7cb-4685-872e-ca61752682fb",
   "metadata": {},
   "outputs": [
    {
     "data": {
      "text/plain": [
       "'ll'"
      ]
     },
     "execution_count": 191,
     "metadata": {},
     "output_type": "execute_result"
    }
   ],
   "source": [
    "x[2][2]['a'][2]['b'][2:4]"
   ]
  },
  {
   "cell_type": "markdown",
   "id": "a5282c51-d140-4051-aa54-af7a607bdbcb",
   "metadata": {},
   "source": [
    "To get to this answer, I had to index the third value(the entire) tuple, and then find the third element of the third element (the dictionary). From there, I located the key of 'a', and accessed the third result of key, which was 'hello'. To slice and find 'll', I got to third letter by using 2, and then I used four based on zero based indexing to ignore the fifth letter, to only select the third and fourth letters. "
   ]
  },
  {
   "cell_type": "code",
   "execution_count": 192,
   "id": "2894f803-7527-4479-bbf3-7c0285dab09a",
   "metadata": {},
   "outputs": [],
   "source": [
    "x = {'a':1, 'b':2, 'c':3}"
   ]
  },
  {
   "cell_type": "code",
   "execution_count": 193,
   "id": "8fe77437-8ec9-4e16-842c-a89984ccc2e1",
   "metadata": {},
   "outputs": [
    {
     "data": {
      "text/plain": [
       "{'a': 1, 'b': 2, 'c': 3}"
      ]
     },
     "execution_count": 193,
     "metadata": {},
     "output_type": "execute_result"
    }
   ],
   "source": [
    "x"
   ]
  },
  {
   "cell_type": "code",
   "execution_count": 195,
   "id": "d78be479-ef77-49b8-8673-e48ccab162e7",
   "metadata": {},
   "outputs": [],
   "source": [
    "y = x.values()"
   ]
  },
  {
   "cell_type": "code",
   "execution_count": 196,
   "id": "049ccc9f-6a97-4316-b32e-2c32a2b8c652",
   "metadata": {},
   "outputs": [
    {
     "data": {
      "text/plain": [
       "dict_values([1, 2, 3])"
      ]
     },
     "execution_count": 196,
     "metadata": {},
     "output_type": "execute_result"
    }
   ],
   "source": [
    "y"
   ]
  },
  {
   "cell_type": "code",
   "execution_count": 197,
   "id": "49fe778c-87ee-4563-ac56-198aaa644920",
   "metadata": {},
   "outputs": [],
   "source": [
    "x['d'] = 4"
   ]
  },
  {
   "cell_type": "code",
   "execution_count": 198,
   "id": "bb169331-953a-4b64-8f77-19ba47714a15",
   "metadata": {},
   "outputs": [
    {
     "data": {
      "text/plain": [
       "{'a': 1, 'b': 2, 'c': 3, 'd': 4}"
      ]
     },
     "execution_count": 198,
     "metadata": {},
     "output_type": "execute_result"
    }
   ],
   "source": [
    "x"
   ]
  },
  {
   "cell_type": "code",
   "execution_count": 199,
   "id": "a6f3ca95-af1b-4f7d-b49d-41e9be8762cb",
   "metadata": {},
   "outputs": [
    {
     "data": {
      "text/plain": [
       "dict_values([1, 2, 3, 4])"
      ]
     },
     "execution_count": 199,
     "metadata": {},
     "output_type": "execute_result"
    }
   ],
   "source": [
    "y"
   ]
  },
  {
   "cell_type": "markdown",
   "id": "80eb8619-0c82-4a43-b5c0-b6c59fc1c7b9",
   "metadata": {},
   "source": [
    "Sets"
   ]
  },
  {
   "cell_type": "code",
   "execution_count": 200,
   "id": "e993df01-46b6-4136-964e-3d6c421e144f",
   "metadata": {},
   "outputs": [],
   "source": [
    "s = {1,2,3}"
   ]
  },
  {
   "cell_type": "code",
   "execution_count": 201,
   "id": "022499bd-e0f0-4c4e-805f-dda5b7c787eb",
   "metadata": {},
   "outputs": [
    {
     "data": {
      "text/plain": [
       "{1, 2, 3}"
      ]
     },
     "execution_count": 201,
     "metadata": {},
     "output_type": "execute_result"
    }
   ],
   "source": [
    "s"
   ]
  },
  {
   "cell_type": "markdown",
   "id": "9dc42aa4-8e5d-45c1-9cd7-f28396a41a2a",
   "metadata": {},
   "source": [
    "Only keys"
   ]
  },
  {
   "cell_type": "code",
   "execution_count": 202,
   "id": "8f31ebb0-e35d-4612-952a-bfc98f2c5dbe",
   "metadata": {},
   "outputs": [],
   "source": [
    "s = {1,2,3,3,3}"
   ]
  },
  {
   "cell_type": "code",
   "execution_count": 203,
   "id": "12e22a3f-bea4-467d-b794-0e019fbf9665",
   "metadata": {},
   "outputs": [
    {
     "data": {
      "text/plain": [
       "{1, 2, 3}"
      ]
     },
     "execution_count": 203,
     "metadata": {},
     "output_type": "execute_result"
    }
   ],
   "source": [
    "s"
   ]
  },
  {
   "cell_type": "markdown",
   "id": "91a9078f-2f0a-4d3f-8a2c-fb6f9fc3cd74",
   "metadata": {},
   "source": [
    "Shows keys only once"
   ]
  },
  {
   "cell_type": "code",
   "execution_count": 204,
   "id": "22dc74fb-7e2b-48ea-a345-75dfd03b3ca6",
   "metadata": {},
   "outputs": [],
   "source": [
    "primes = {2,3,5,7}"
   ]
  },
  {
   "cell_type": "code",
   "execution_count": 205,
   "id": "93b1a0c3-34b0-48f3-a885-d529f48938f7",
   "metadata": {},
   "outputs": [
    {
     "data": {
      "text/plain": [
       "{2, 3, 5, 7}"
      ]
     },
     "execution_count": 205,
     "metadata": {},
     "output_type": "execute_result"
    }
   ],
   "source": [
    "primes"
   ]
  },
  {
   "cell_type": "code",
   "execution_count": 206,
   "id": "606ad6b9-085f-4b2a-b382-8d11ac68a152",
   "metadata": {},
   "outputs": [],
   "source": [
    "odds = {1,3,5,7,9}"
   ]
  },
  {
   "cell_type": "code",
   "execution_count": 208,
   "id": "b151c582-e697-4061-9afb-32dbb045b63e",
   "metadata": {},
   "outputs": [
    {
     "data": {
      "text/plain": [
       "{1, 3, 5, 7, 9}"
      ]
     },
     "execution_count": 208,
     "metadata": {},
     "output_type": "execute_result"
    }
   ],
   "source": [
    "odds"
   ]
  },
  {
   "cell_type": "code",
   "execution_count": 209,
   "id": "55ead1e9-5710-45d8-92a1-5874e6c5f0c5",
   "metadata": {},
   "outputs": [
    {
     "data": {
      "text/plain": [
       "{1, 2, 3, 5, 7, 9}"
      ]
     },
     "execution_count": 209,
     "metadata": {},
     "output_type": "execute_result"
    }
   ],
   "source": [
    "primes.union(odds)"
   ]
  },
  {
   "cell_type": "markdown",
   "id": "9ab155f9-57cc-46bc-ac5e-4f1f630db6cd",
   "metadata": {},
   "source": [
    "Duplicates are removed from both sets. So 7 showing up twice only gets shown once."
   ]
  },
  {
   "cell_type": "code",
   "execution_count": 210,
   "id": "8a0545f1-4eb2-4e42-a770-9ca53d5a7311",
   "metadata": {},
   "outputs": [
    {
     "data": {
      "text/plain": [
       "{1, 2, 3, 5, 7, 9}"
      ]
     },
     "execution_count": 210,
     "metadata": {},
     "output_type": "execute_result"
    }
   ],
   "source": [
    "primes | odds #same as union function"
   ]
  },
  {
   "cell_type": "code",
   "execution_count": 211,
   "id": "f2cc5b2c-95ee-45c9-9540-3844d2f988a5",
   "metadata": {},
   "outputs": [
    {
     "data": {
      "text/plain": [
       "{1, 2, 3, 5, 7, 9}"
      ]
     },
     "execution_count": 211,
     "metadata": {},
     "output_type": "execute_result"
    }
   ],
   "source": [
    "odds | primes #same result"
   ]
  },
  {
   "cell_type": "code",
   "execution_count": 213,
   "id": "7f0b9f8f-c868-411b-89a7-3b8d5b6b4c4a",
   "metadata": {},
   "outputs": [],
   "source": [
    "x = odds.union(primes)"
   ]
  },
  {
   "cell_type": "markdown",
   "id": "b3441228-5666-43d6-9aef-7371e73222a8",
   "metadata": {},
   "source": [
    "Creates a new set each time."
   ]
  },
  {
   "cell_type": "code",
   "execution_count": 214,
   "id": "cdfefd6a-2ee1-4bc8-96cd-3d3f5e19a07d",
   "metadata": {},
   "outputs": [
    {
     "data": {
      "text/plain": [
       "{1, 2, 3, 5, 7, 9}"
      ]
     },
     "execution_count": 214,
     "metadata": {},
     "output_type": "execute_result"
    }
   ],
   "source": [
    "x"
   ]
  },
  {
   "cell_type": "code",
   "execution_count": 215,
   "id": "ba8829d3-f82a-4a5f-ae41-d7d4cbd39580",
   "metadata": {},
   "outputs": [
    {
     "data": {
      "text/plain": [
       "{1, 3, 5, 7, 9}"
      ]
     },
     "execution_count": 215,
     "metadata": {},
     "output_type": "execute_result"
    }
   ],
   "source": [
    "odds"
   ]
  },
  {
   "cell_type": "code",
   "execution_count": 216,
   "id": "0e3d00c9-41f8-4316-affa-2d37c43b61af",
   "metadata": {},
   "outputs": [
    {
     "data": {
      "text/plain": [
       "{2, 3, 5, 7}"
      ]
     },
     "execution_count": 216,
     "metadata": {},
     "output_type": "execute_result"
    }
   ],
   "source": [
    "primes"
   ]
  },
  {
   "cell_type": "code",
   "execution_count": 219,
   "id": "475c3f9e-8c55-4770-a1c4-0e46b7fc6580",
   "metadata": {},
   "outputs": [
    {
     "data": {
      "text/plain": [
       "{3, 5, 7}"
      ]
     },
     "execution_count": 219,
     "metadata": {},
     "output_type": "execute_result"
    }
   ],
   "source": [
    "odds & primes #intersection example"
   ]
  },
  {
   "cell_type": "markdown",
   "id": "21ccbe54-f1f7-40ea-873c-df3320ff8f94",
   "metadata": {},
   "source": [
    "Make sure to use bitwise & and not 'and'. 'and' and 'or' are used for logical comparisons only, must be true or not empty."
   ]
  },
  {
   "cell_type": "code",
   "execution_count": 218,
   "id": "08d89875-e15e-4986-8989-49cd66f29fe9",
   "metadata": {},
   "outputs": [
    {
     "data": {
      "text/plain": [
       "{3, 5, 7}"
      ]
     },
     "execution_count": 218,
     "metadata": {},
     "output_type": "execute_result"
    }
   ],
   "source": [
    "primes & odds"
   ]
  },
  {
   "cell_type": "markdown",
   "id": "e241e864-e51b-4888-9c97-3229d1c2fb24",
   "metadata": {},
   "source": [
    "Retrieves the only intersections between both sets, even though 1 still technically counts here. Use ampersand to only look at what is in the sets."
   ]
  },
  {
   "cell_type": "code",
   "execution_count": 220,
   "id": "11c94c30-35f0-41d4-b92f-ccc1e1cdd897",
   "metadata": {},
   "outputs": [
    {
     "data": {
      "text/plain": [
       "{1, 3, 5, 7, 9}"
      ]
     },
     "execution_count": 220,
     "metadata": {},
     "output_type": "execute_result"
    }
   ],
   "source": [
    "primes and odds"
   ]
  },
  {
   "cell_type": "markdown",
   "id": "48a2f7c1-521a-4166-b32c-499433e837ac",
   "metadata": {},
   "source": [
    "This function return odds if there are any values in primes. This is an example of truthiness in python, and relates to boolean values. So as long as primes contains values, odds gets returned."
   ]
  },
  {
   "cell_type": "code",
   "execution_count": 221,
   "id": "2a00ec21-d68d-47ee-a5c9-decb6fc4eb29",
   "metadata": {},
   "outputs": [
    {
     "data": {
      "text/plain": [
       "{2, 3, 5, 7}"
      ]
     },
     "execution_count": 221,
     "metadata": {},
     "output_type": "execute_result"
    }
   ],
   "source": [
    "odds and primes"
   ]
  },
  {
   "cell_type": "markdown",
   "id": "9801e050-474a-4d13-a417-86ffa07e979d",
   "metadata": {},
   "source": [
    "keeps primes set and verifies if the odds function contains anything in primes"
   ]
  },
  {
   "cell_type": "markdown",
   "id": "132b334e-a488-46b1-b48f-a2167063d289",
   "metadata": {},
   "source": [
    "Difference"
   ]
  },
  {
   "cell_type": "code",
   "execution_count": 222,
   "id": "06bb3358-5c96-4d83-9914-8b0bf6c1765c",
   "metadata": {},
   "outputs": [
    {
     "data": {
      "text/plain": [
       "{2, 3, 5, 7}"
      ]
     },
     "execution_count": 222,
     "metadata": {},
     "output_type": "execute_result"
    }
   ],
   "source": [
    "primes"
   ]
  },
  {
   "cell_type": "code",
   "execution_count": 223,
   "id": "ae84596f-5693-433b-8253-c7bcbfe08ddb",
   "metadata": {},
   "outputs": [
    {
     "data": {
      "text/plain": [
       "{1, 3, 5, 7, 9}"
      ]
     },
     "execution_count": 223,
     "metadata": {},
     "output_type": "execute_result"
    }
   ],
   "source": [
    "odds"
   ]
  },
  {
   "cell_type": "code",
   "execution_count": 224,
   "id": "07c750f2-1949-47c9-ba49-aeba720bf72b",
   "metadata": {},
   "outputs": [
    {
     "data": {
      "text/plain": [
       "{1, 9}"
      ]
     },
     "execution_count": 224,
     "metadata": {},
     "output_type": "execute_result"
    }
   ],
   "source": [
    "odds - primes"
   ]
  },
  {
   "cell_type": "markdown",
   "id": "e76a8625-2129-4da0-bb11-5058251719eb",
   "metadata": {},
   "source": [
    "This got rid of 3,5,7 from primes (2,3,5,7) and left 1,9 remaining in odds. 2 does not show up in both, so it gets ignored in thsi case."
   ]
  },
  {
   "cell_type": "code",
   "execution_count": 225,
   "id": "47001fbb-e172-495b-8005-b6fb6339c96a",
   "metadata": {},
   "outputs": [
    {
     "data": {
      "text/plain": [
       "{2}"
      ]
     },
     "execution_count": 225,
     "metadata": {},
     "output_type": "execute_result"
    }
   ],
   "source": [
    "primes - odds"
   ]
  },
  {
   "cell_type": "markdown",
   "id": "1249eb6a-c1a4-4242-bcb8-312f4bc3ce9f",
   "metadata": {},
   "source": [
    "This also got rid of 3,5,7 from primes (2,3,5,7), and displayed 2 because that's what was remaining. 1 and 9 do not show up in primes, so they get ignored."
   ]
  },
  {
   "cell_type": "code",
   "execution_count": 227,
   "id": "e7b880bc-0773-421e-b284-1701b073b0e4",
   "metadata": {},
   "outputs": [
    {
     "data": {
      "text/plain": [
       "{2}"
      ]
     },
     "execution_count": 227,
     "metadata": {},
     "output_type": "execute_result"
    }
   ],
   "source": [
    "primes.difference(odds) #same thing"
   ]
  },
  {
   "cell_type": "code",
   "execution_count": 228,
   "id": "452386a7-967e-4553-b3e6-99aca669f866",
   "metadata": {},
   "outputs": [
    {
     "data": {
      "text/plain": [
       "{1, 9}"
      ]
     },
     "execution_count": 228,
     "metadata": {},
     "output_type": "execute_result"
    }
   ],
   "source": [
    "odds.difference(primes)"
   ]
  },
  {
   "cell_type": "markdown",
   "id": "c350cad2-4287-4a8c-b462-4d17cad09f6f",
   "metadata": {},
   "source": [
    "symmetric difference, operator^"
   ]
  },
  {
   "cell_type": "code",
   "execution_count": 229,
   "id": "6dd1dc0e-e1ea-4996-9a16-5f8c47e2c3fd",
   "metadata": {},
   "outputs": [
    {
     "data": {
      "text/plain": [
       "{1, 2, 9}"
      ]
     },
     "execution_count": 229,
     "metadata": {},
     "output_type": "execute_result"
    }
   ],
   "source": [
    "primes ^ odds"
   ]
  },
  {
   "cell_type": "markdown",
   "id": "72a90f32-006f-4a33-9b75-49466d78b94d",
   "metadata": {},
   "source": [
    "1, 2, and 9 only exist in one of the sets, but not both, so they get returned here."
   ]
  },
  {
   "cell_type": "code",
   "execution_count": 231,
   "id": "3d26e907-a924-4c5e-83d8-8d5de7877d94",
   "metadata": {},
   "outputs": [
    {
     "data": {
      "text/plain": [
       "{1, 2, 9}"
      ]
     },
     "execution_count": 231,
     "metadata": {},
     "output_type": "execute_result"
    }
   ],
   "source": [
    "odds ^ primes #same thing"
   ]
  },
  {
   "cell_type": "code",
   "execution_count": 232,
   "id": "397ec0af-e8b9-4f85-95fe-67ca73faeed3",
   "metadata": {},
   "outputs": [
    {
     "data": {
      "text/plain": [
       "{1, 2, 9}"
      ]
     },
     "execution_count": 232,
     "metadata": {},
     "output_type": "execute_result"
    }
   ],
   "source": [
    "primes.symmetric_difference(odds)"
   ]
  },
  {
   "cell_type": "code",
   "execution_count": 233,
   "id": "fca6dc79-8167-4dcd-ad1f-83efeed71a10",
   "metadata": {},
   "outputs": [
    {
     "data": {
      "text/plain": [
       "{1, 2, 9}"
      ]
     },
     "execution_count": 233,
     "metadata": {},
     "output_type": "execute_result"
    }
   ],
   "source": [
    "odds.symmetric_difference(primes)"
   ]
  },
  {
   "cell_type": "markdown",
   "id": "26744270-4596-48ce-8f68-e6a9935bd692",
   "metadata": {},
   "source": [
    "CONTROL FLOW"
   ]
  },
  {
   "cell_type": "code",
   "execution_count": 235,
   "id": "2da287c5-0d59-4e5b-aff2-704759c23b3d",
   "metadata": {},
   "outputs": [
    {
     "name": "stdout",
     "output_type": "stream",
     "text": [
      "10 is positive\n"
     ]
    }
   ],
   "source": [
    "x = 10\n",
    "if(x == 0):\n",
    "    print(x, 'is zero')\n",
    "elif x >0:\n",
    "    print(x, 'is positive')\n",
    "else:\n",
    "    print(x, \"is negative\")"
   ]
  },
  {
   "cell_type": "code",
   "execution_count": 241,
   "id": "6cdec261-84df-4b3d-be6f-0eca3810a3f8",
   "metadata": {},
   "outputs": [
    {
     "name": "stdout",
     "output_type": "stream",
     "text": [
      "0\n",
      "1\n",
      "2\n",
      "3\n",
      "4\n",
      "5\n"
     ]
    }
   ],
   "source": [
    "for i in range(6):\n",
    "    print(i)"
   ]
  },
  {
   "cell_type": "markdown",
   "id": "738110b0-1823-4af6-96e4-5f64bc997203",
   "metadata": {},
   "source": [
    "For loops work with dictionaries and lists. for i inrange(60: is an iterable range. Functions like range and map and structures like dictionaries, lists, tuples, and sets are also iterable. They can be iterated over."
   ]
  },
  {
   "cell_type": "code",
   "execution_count": 243,
   "id": "2a265f2c-6343-45a9-b56f-b7d27300da28",
   "metadata": {},
   "outputs": [],
   "source": [
    "L = ['a','b','c']"
   ]
  },
  {
   "cell_type": "code",
   "execution_count": 244,
   "id": "8b64985f-64d8-4a81-ba50-b1c9cffe64ac",
   "metadata": {},
   "outputs": [
    {
     "data": {
      "text/plain": [
       "['a', 'b', 'c']"
      ]
     },
     "execution_count": 244,
     "metadata": {},
     "output_type": "execute_result"
    }
   ],
   "source": [
    "L"
   ]
  },
  {
   "cell_type": "code",
   "execution_count": 247,
   "id": "29bda68d-8138-42e2-bb55-2f6a55b340a6",
   "metadata": {},
   "outputs": [
    {
     "name": "stdout",
     "output_type": "stream",
     "text": [
      "a\n",
      "b\n",
      "c\n"
     ]
    }
   ],
   "source": [
    "for i in L:\n",
    "    print(i)"
   ]
  },
  {
   "cell_type": "markdown",
   "id": "05aed11e-be93-4c50-acac-bdb5f3b1c8c3",
   "metadata": {},
   "source": [
    "For the list to work, you have to say in list, don't try to paste it into the range."
   ]
  },
  {
   "cell_type": "code",
   "execution_count": 248,
   "id": "3137431c-d7bf-4ed0-a32f-d059baf3c5c5",
   "metadata": {},
   "outputs": [
    {
     "name": "stdout",
     "output_type": "stream",
     "text": [
      "2\n",
      "3\n",
      "5\n",
      "7\n"
     ]
    }
   ],
   "source": [
    "for i in primes:\n",
    "    print(i)"
   ]
  },
  {
   "cell_type": "code",
   "execution_count": 249,
   "id": "007e6148-8a3c-4b18-8de3-2c3d5b291cfc",
   "metadata": {},
   "outputs": [],
   "source": [
    "t = 1,2,3"
   ]
  },
  {
   "cell_type": "code",
   "execution_count": 250,
   "id": "fe26c97e-8e68-4200-9ca2-7dbc183a7411",
   "metadata": {},
   "outputs": [
    {
     "data": {
      "text/plain": [
       "(1, 2, 3)"
      ]
     },
     "execution_count": 250,
     "metadata": {},
     "output_type": "execute_result"
    }
   ],
   "source": [
    "t"
   ]
  },
  {
   "cell_type": "code",
   "execution_count": 251,
   "id": "99e7e449-6b27-4258-91f4-792406ced9e8",
   "metadata": {},
   "outputs": [
    {
     "name": "stdout",
     "output_type": "stream",
     "text": [
      "1\n",
      "2\n",
      "3\n"
     ]
    }
   ],
   "source": [
    "for i in t:\n",
    "    print(i)"
   ]
  },
  {
   "cell_type": "markdown",
   "id": "01a3b660-cc1f-4cbf-a768-e5fd3907a412",
   "metadata": {},
   "source": [
    "While loop"
   ]
  },
  {
   "cell_type": "code",
   "execution_count": 252,
   "id": "1d9b8113-b82b-4d0f-b2a5-f5f949045a72",
   "metadata": {},
   "outputs": [
    {
     "name": "stdout",
     "output_type": "stream",
     "text": [
      "0\n",
      "1\n",
      "2\n",
      "3\n",
      "4\n",
      "5\n",
      "6\n",
      "7\n",
      "8\n",
      "9\n"
     ]
    }
   ],
   "source": [
    "i = 0\n",
    "while i < 10:\n",
    "    print(i)\n",
    "    i+=1"
   ]
  },
  {
   "cell_type": "markdown",
   "id": "0a3e0723-c7b1-4af3-83f7-27fbc022c55b",
   "metadata": {},
   "source": [
    "For loop has iterations that are pre-determined. While loop runs until a condition is not ture."
   ]
  },
  {
   "cell_type": "code",
   "execution_count": 259,
   "id": "e76da3f5-8a0f-4c46-b988-843eeeb0030f",
   "metadata": {},
   "outputs": [
    {
     "name": "stdout",
     "output_type": "stream",
     "text": [
      "1\n",
      "2\n",
      "3\n",
      "4\n",
      "5\n",
      "6\n",
      "7\n",
      "8\n",
      "9\n"
     ]
    }
   ],
   "source": [
    "for n in range(1, 100): #goes up to 99\n",
    "    if(n%10 == 0):\n",
    "        break\n",
    "    print(n)"
   ]
  },
  {
   "cell_type": "markdown",
   "id": "5ffe28d2-cd9d-42fc-91c1-c62d3cc3f4ce",
   "metadata": {},
   "source": [
    "For modulus operator (%), if the first number is less than the second number, it just returns the inital number. In this for loop, the modulus operator returns 1-9 since they are less than 10, and stops at 10 because 10/10 has no remainder."
   ]
  },
  {
   "cell_type": "markdown",
   "id": "b7116e6d-5e5a-457e-b425-69509cc80a02",
   "metadata": {},
   "source": [
    "Flag: else clause in a for loop. If flag is set earlier, you can execute a differnt action, If loop completes without interruption, the else block executes. If loop is interrupted, else is skipped."
   ]
  },
  {
   "cell_type": "code",
   "execution_count": 261,
   "id": "25e9a376-45d8-4ef1-9ecf-51977678ba8f",
   "metadata": {},
   "outputs": [
    {
     "name": "stdout",
     "output_type": "stream",
     "text": [
      "[2, 3, 5, 7, 11, 13, 17, 19, 23, 29]\n"
     ]
    }
   ],
   "source": [
    "L = []\n",
    "nmax = 30\n",
    "for n in range (2, nmax+1):\n",
    "    for p in L:\n",
    "        if (n%p == 0):\n",
    "            break\n",
    "    else:\n",
    "        L.append(n)\n",
    "\n",
    "print(L)"
   ]
  },
  {
   "cell_type": "markdown",
   "id": "1ee57c02-e56c-470a-ab15-e8fcd2538f3d",
   "metadata": {},
   "source": [
    "includes 30"
   ]
  },
  {
   "cell_type": "markdown",
   "id": "229446d5-5c3f-4d43-8a24-5e03fe4eac5e",
   "metadata": {},
   "source": [
    "Functions"
   ]
  },
  {
   "cell_type": "code",
   "execution_count": 266,
   "id": "87f555fa-e4a5-4df8-92db-4fef7678f5e8",
   "metadata": {},
   "outputs": [],
   "source": [
    "def fibonacci(N:int)->list:\n",
    "    L = []\n",
    "    a = 0\n",
    "    b = 1\n",
    "    while len(L) <N:\n",
    "        temp = b\n",
    "        b = a+b\n",
    "        a = temp\n",
    "        L.append(a)\n",
    "    return L"
   ]
  },
  {
   "cell_type": "code",
   "execution_count": 267,
   "id": "4322527c-e519-4e21-a8f0-ea763fd080be",
   "metadata": {},
   "outputs": [
    {
     "data": {
      "text/plain": [
       "[1, 1, 2, 3, 5]"
      ]
     },
     "execution_count": 267,
     "metadata": {},
     "output_type": "execute_result"
    }
   ],
   "source": [
    "fibonacci(5)"
   ]
  },
  {
   "cell_type": "code",
   "execution_count": 269,
   "id": "e6f83104-2569-40a1-a986-62b0cf6f0f02",
   "metadata": {},
   "outputs": [],
   "source": [
    "def fib(N:int)->list:\n",
    "    L = []\n",
    "    a = 0\n",
    "    b = 1\n",
    "    while len(L) <N:\n",
    "        temp = b\n",
    "        b = a+b\n",
    "        a = temp\n",
    "        L.append(a)\n",
    "    return (L, max(L))"
   ]
  },
  {
   "cell_type": "code",
   "execution_count": 270,
   "id": "0b769cea-8bcb-4209-855d-6d2f48088ef6",
   "metadata": {},
   "outputs": [
    {
     "data": {
      "text/plain": [
       "([1, 1, 2, 3, 5], 5)"
      ]
     },
     "execution_count": 270,
     "metadata": {},
     "output_type": "execute_result"
    }
   ],
   "source": [
    "fib(5)"
   ]
  },
  {
   "cell_type": "code",
   "execution_count": 271,
   "id": "5b433d0d-39de-4f58-a24b-9b3257c4f1f8",
   "metadata": {},
   "outputs": [
    {
     "data": {
      "text/plain": [
       "[1, 1, 2, 3, 5]"
      ]
     },
     "execution_count": 271,
     "metadata": {},
     "output_type": "execute_result"
    }
   ],
   "source": [
    "fibonacci(5)"
   ]
  },
  {
   "cell_type": "code",
   "execution_count": 274,
   "id": "997e9579-5da9-448d-bb90-df3709ee5a81",
   "metadata": {},
   "outputs": [],
   "source": [
    "def fibonacc(N:int)->list:\n",
    "    L = []\n",
    "    a, b= 0, 1\n",
    "    while len(L) <N:\n",
    "        a, b = b, a+b\n",
    "        L.append(a)\n",
    "    return (L, max(L))"
   ]
  },
  {
   "cell_type": "code",
   "execution_count": 275,
   "id": "caad5e69-8d8c-4d88-97b2-6b83528d92d8",
   "metadata": {},
   "outputs": [
    {
     "data": {
      "text/plain": [
       "([1, 1, 2, 3, 5], 5)"
      ]
     },
     "execution_count": 275,
     "metadata": {},
     "output_type": "execute_result"
    }
   ],
   "source": [
    "fibonacc(5)"
   ]
  },
  {
   "cell_type": "code",
   "execution_count": 276,
   "id": "532f65bd-ac27-4078-9e33-b507174a5923",
   "metadata": {},
   "outputs": [],
   "source": [
    "def fibonc(N, a = 0, b = 1):\n",
    "    L = []\n",
    "    while len(L) <N:\n",
    "        a, b = b, a+b\n",
    "        L.append(a)\n",
    "    return (L, max(L))"
   ]
  },
  {
   "cell_type": "code",
   "execution_count": 277,
   "id": "afbddb84-9565-4ec1-96c6-2b00d41fe11d",
   "metadata": {},
   "outputs": [
    {
     "data": {
      "text/plain": [
       "([2, 4, 6, 10, 16], 16)"
      ]
     },
     "execution_count": 277,
     "metadata": {},
     "output_type": "execute_result"
    }
   ],
   "source": [
    "fibonc(5, 2,2)"
   ]
  },
  {
   "cell_type": "code",
   "execution_count": 278,
   "id": "3c03db75-3ccb-4eeb-ad1a-7a3e2e55c71f",
   "metadata": {},
   "outputs": [
    {
     "name": "stdout",
     "output_type": "stream",
     "text": [
      "3\n"
     ]
    }
   ],
   "source": [
    "print(3)"
   ]
  },
  {
   "cell_type": "markdown",
   "id": "6f813eb8-5fc2-45a2-86a1-30fac4c2579e",
   "metadata": {},
   "source": [
    "Print is a function"
   ]
  },
  {
   "cell_type": "markdown",
   "id": "9d45619d-a7f1-4d8c-92b5-28c3db6c395f",
   "metadata": {},
   "source": [
    "*args = arguments **kwargs = keyword arguments"
   ]
  },
  {
   "cell_type": "code",
   "execution_count": 279,
   "id": "b79d0331-8cf8-4306-8133-784a9c1537a5",
   "metadata": {},
   "outputs": [],
   "source": [
    "def fun(*args, **kwargs):\n",
    "    print(\"args=\", args)\n",
    "    print(\"kwargs\", kwargs)"
   ]
  },
  {
   "cell_type": "code",
   "execution_count": 280,
   "id": "a8df5db1-d078-4506-9315-135d017923e1",
   "metadata": {},
   "outputs": [
    {
     "name": "stdout",
     "output_type": "stream",
     "text": [
      "args= (1, 2, 3, 4, 5)\n",
      "kwargs {'a': 1, 'b': 2, 'c': 3, 'd': 5}\n"
     ]
    }
   ],
   "source": [
    "fun(1,2,3,4,5, a=1, b=2, c=3, d=5)"
   ]
  },
  {
   "cell_type": "markdown",
   "id": "97b5f45d-10d9-42c0-ba21-258a07973853",
   "metadata": {},
   "source": [
    "args create a tuple, kwargs create a dictionary."
   ]
  },
  {
   "cell_type": "code",
   "execution_count": 286,
   "id": "097f2f95-397f-4486-a453-e1bfaa0dfdf8",
   "metadata": {},
   "outputs": [],
   "source": [
    "myargs = (1,2,3,4,5)\n",
    "mykwargs = {'a':1,'b':2,'c':3}"
   ]
  },
  {
   "cell_type": "code",
   "execution_count": 284,
   "id": "20c44904-180e-473d-90b9-c8ab30a14cb9",
   "metadata": {},
   "outputs": [
    {
     "data": {
      "text/plain": [
       "(1, 2, 3, 4, 5)"
      ]
     },
     "execution_count": 284,
     "metadata": {},
     "output_type": "execute_result"
    }
   ],
   "source": [
    "myargs"
   ]
  },
  {
   "cell_type": "code",
   "execution_count": 287,
   "id": "16dd5898-16d0-4003-931b-9fea9a710b62",
   "metadata": {},
   "outputs": [
    {
     "data": {
      "text/plain": [
       "{'a': 1, 'b': 2, 'c': 3}"
      ]
     },
     "execution_count": 287,
     "metadata": {},
     "output_type": "execute_result"
    }
   ],
   "source": [
    "mykwargs"
   ]
  },
  {
   "cell_type": "code",
   "execution_count": 288,
   "id": "73b55e74-f975-423f-a41d-14825c51c0f2",
   "metadata": {},
   "outputs": [
    {
     "name": "stdout",
     "output_type": "stream",
     "text": [
      "args= (1, 2, 3, 4, 5)\n",
      "kwargs {'a': 1, 'b': 2, 'c': 3}\n"
     ]
    }
   ],
   "source": [
    "fun(*myargs,**mykwargs)"
   ]
  },
  {
   "cell_type": "code",
   "execution_count": 292,
   "id": "a467944e-9cbb-4bee-ace3-1f1ac29d066d",
   "metadata": {},
   "outputs": [],
   "source": [
    "L = [[1,2],[2,3],[3,4],[3,2]]"
   ]
  },
  {
   "cell_type": "code",
   "execution_count": 293,
   "id": "781eddeb-bfa4-489e-971b-9205c409b81b",
   "metadata": {},
   "outputs": [
    {
     "data": {
      "text/plain": [
       "[[1, 2], [2, 3], [3, 4], [3, 2]]"
      ]
     },
     "execution_count": 293,
     "metadata": {},
     "output_type": "execute_result"
    }
   ],
   "source": [
    "L"
   ]
  },
  {
   "cell_type": "code",
   "execution_count": 294,
   "id": "7b872b7b-b7a1-439e-a4c5-66a3e8491634",
   "metadata": {},
   "outputs": [],
   "source": [
    "L.sort()"
   ]
  },
  {
   "cell_type": "code",
   "execution_count": 295,
   "id": "47453646-c644-4526-b23d-4625d1c8b955",
   "metadata": {},
   "outputs": [
    {
     "data": {
      "text/plain": [
       "[[1, 2], [2, 3], [3, 2], [3, 4]]"
      ]
     },
     "execution_count": 295,
     "metadata": {},
     "output_type": "execute_result"
    }
   ],
   "source": [
    "L"
   ]
  },
  {
   "cell_type": "markdown",
   "id": "45bf610a-369d-4296-a200-6a9a3446bbc5",
   "metadata": {},
   "source": [
    "Had to Run L once and then sort once I ran it."
   ]
  },
  {
   "cell_type": "code",
   "execution_count": 296,
   "id": "14a38b11-92c8-4add-bf2c-fa3381674653",
   "metadata": {},
   "outputs": [
    {
     "data": {
      "text/plain": [
       "3"
      ]
     },
     "execution_count": 296,
     "metadata": {},
     "output_type": "execute_result"
    }
   ],
   "source": [
    "max([1,2,3])"
   ]
  },
  {
   "cell_type": "code",
   "execution_count": 297,
   "id": "cfe10d93-5d23-4263-be78-8eed619b2c92",
   "metadata": {},
   "outputs": [],
   "source": [
    "L.sort(key=max)"
   ]
  },
  {
   "cell_type": "code",
   "execution_count": 298,
   "id": "26b5bb66-4f06-4b07-8e2c-7644a59fd6e6",
   "metadata": {},
   "outputs": [
    {
     "data": {
      "text/plain": [
       "[[1, 2], [2, 3], [3, 2], [3, 4]]"
      ]
     },
     "execution_count": 298,
     "metadata": {},
     "output_type": "execute_result"
    }
   ],
   "source": [
    "L"
   ]
  },
  {
   "cell_type": "markdown",
   "id": "35729c47-d985-4a00-897b-995d75df5e74",
   "metadata": {},
   "source": [
    "lambda"
   ]
  },
  {
   "cell_type": "markdown",
   "id": "51e1cc92-6538-40f3-a948-8f643d3eac44",
   "metadata": {},
   "source": [
    "Function without a name"
   ]
  },
  {
   "cell_type": "code",
   "execution_count": 363,
   "id": "bdd438f0-53b3-4b63-b635-b4d72ad03420",
   "metadata": {},
   "outputs": [],
   "source": [
    "add = lambda x,y: x+y"
   ]
  },
  {
   "cell_type": "markdown",
   "id": "1df7bebc-3c4c-460a-adeb-2922a3e7125b",
   "metadata": {},
   "source": [
    "same as def add(x,y): return x+y"
   ]
  },
  {
   "cell_type": "code",
   "execution_count": 364,
   "id": "a2dc0a67-1864-409a-b1a3-b5533e185f16",
   "metadata": {},
   "outputs": [
    {
     "data": {
      "text/plain": [
       "4"
      ]
     },
     "execution_count": 364,
     "metadata": {},
     "output_type": "execute_result"
    }
   ],
   "source": [
    "add(1,3)"
   ]
  },
  {
   "cell_type": "code",
   "execution_count": 365,
   "id": "1d153c9d-29be-4aa6-a5c1-e1ecbcfa2234",
   "metadata": {},
   "outputs": [],
   "source": [
    "L.sort(key = lambda item: min(item))"
   ]
  },
  {
   "cell_type": "markdown",
   "id": "7f3fcdd2-820c-4b16-ab4f-05310f34b652",
   "metadata": {},
   "source": [
    "lambda item is a key, min(item) is the value."
   ]
  },
  {
   "cell_type": "code",
   "execution_count": 366,
   "id": "201a0305-d391-4ea6-bb5a-0c1499ea6f9b",
   "metadata": {},
   "outputs": [],
   "source": [
    "L.sort(key=min)"
   ]
  },
  {
   "cell_type": "code",
   "execution_count": 306,
   "id": "c6f6a197-c400-4ae8-8bb5-08cf606dd8a0",
   "metadata": {},
   "outputs": [],
   "source": [
    "data = [{'first': 'Guido', 'last': 'Van Rousen', 'YOB': 1956},\n",
    "{'first': 'Grace', 'last': 'Hopper', 'YOB': 1906},\n",
    "{'first': 'Alan', 'last': 'Turing', 'YOB': 1912}]"
   ]
  },
  {
   "cell_type": "code",
   "execution_count": 307,
   "id": "1a20c7fc-efb9-4338-8f97-ad62ecbbc216",
   "metadata": {},
   "outputs": [
    {
     "ename": "TypeError",
     "evalue": "'<' not supported between instances of 'dict' and 'dict'",
     "output_type": "error",
     "traceback": [
      "\u001b[0;31m---------------------------------------------------------------------------\u001b[0m",
      "\u001b[0;31mTypeError\u001b[0m                                 Traceback (most recent call last)",
      "Cell \u001b[0;32mIn[307], line 1\u001b[0m\n\u001b[0;32m----> 1\u001b[0m data\u001b[38;5;241m.\u001b[39msort()\n",
      "\u001b[0;31mTypeError\u001b[0m: '<' not supported between instances of 'dict' and 'dict'"
     ]
    }
   ],
   "source": [
    "data.sort()"
   ]
  },
  {
   "cell_type": "code",
   "execution_count": 309,
   "id": "d7f8ff03-e1d5-4f4e-a2ae-dd1b3b9d7427",
   "metadata": {},
   "outputs": [],
   "source": [
    "data.sort(key = lambda item: item['YOB'])"
   ]
  },
  {
   "cell_type": "markdown",
   "id": "5374478f-aee6-4880-b492-7c7f411122b3",
   "metadata": {},
   "source": [
    "Lambda here let's you sort dictionaries that you could not sort otherwise."
   ]
  },
  {
   "cell_type": "code",
   "execution_count": 310,
   "id": "0d3d4d14-b700-4b5a-b480-e4b71731a065",
   "metadata": {},
   "outputs": [
    {
     "data": {
      "text/plain": [
       "[{'first': 'Grace', 'last': 'Hopper', 'YOB': 1906},\n",
       " {'first': 'Alan', 'last': 'Turing', 'YOB': 1912},\n",
       " {'first': 'Guido', 'last': 'Van Rousen', 'YOB': 1956}]"
      ]
     },
     "execution_count": 310,
     "metadata": {},
     "output_type": "execute_result"
    }
   ],
   "source": [
    "data"
   ]
  },
  {
   "cell_type": "code",
   "execution_count": 311,
   "id": "65ba8a55-0722-4661-a6dc-d59844df01c8",
   "metadata": {},
   "outputs": [],
   "source": [
    "data.sort(key = lambda item: item['first'])"
   ]
  },
  {
   "cell_type": "code",
   "execution_count": 312,
   "id": "a12ae88a-775d-4ccb-af08-913059cbcd44",
   "metadata": {},
   "outputs": [
    {
     "data": {
      "text/plain": [
       "[{'first': 'Alan', 'last': 'Turing', 'YOB': 1912},\n",
       " {'first': 'Grace', 'last': 'Hopper', 'YOB': 1906},\n",
       " {'first': 'Guido', 'last': 'Van Rousen', 'YOB': 1956}]"
      ]
     },
     "execution_count": 312,
     "metadata": {},
     "output_type": "execute_result"
    }
   ],
   "source": [
    "data"
   ]
  },
  {
   "cell_type": "code",
   "execution_count": 313,
   "id": "ba2c0a89-b718-42ec-be5d-c3e627c939db",
   "metadata": {},
   "outputs": [],
   "source": [
    "data.append( {'first': 'Guido', 'last': 'Van Rousen2', 'YOB': 1956})"
   ]
  },
  {
   "cell_type": "code",
   "execution_count": 314,
   "id": "e3b427d4-218c-4314-ad59-a41e82e9c223",
   "metadata": {},
   "outputs": [
    {
     "data": {
      "text/plain": [
       "[{'first': 'Alan', 'last': 'Turing', 'YOB': 1912},\n",
       " {'first': 'Grace', 'last': 'Hopper', 'YOB': 1906},\n",
       " {'first': 'Guido', 'last': 'Van Rousen', 'YOB': 1956},\n",
       " {'first': 'Guido', 'last': 'Van Rousen2', 'YOB': 1956}]"
      ]
     },
     "execution_count": 314,
     "metadata": {},
     "output_type": "execute_result"
    }
   ],
   "source": [
    "data"
   ]
  },
  {
   "cell_type": "code",
   "execution_count": 315,
   "id": "5878b91f-424b-4f9c-a596-c5c993bfb51f",
   "metadata": {},
   "outputs": [],
   "source": [
    "data.sort(key = lambda item: item['last'])"
   ]
  },
  {
   "cell_type": "code",
   "execution_count": 316,
   "id": "f4c9cedc-e02f-4b92-a7d3-841094c43c9a",
   "metadata": {},
   "outputs": [
    {
     "data": {
      "text/plain": [
       "[{'first': 'Grace', 'last': 'Hopper', 'YOB': 1906},\n",
       " {'first': 'Alan', 'last': 'Turing', 'YOB': 1912},\n",
       " {'first': 'Guido', 'last': 'Van Rousen', 'YOB': 1956},\n",
       " {'first': 'Guido', 'last': 'Van Rousen2', 'YOB': 1956}]"
      ]
     },
     "execution_count": 316,
     "metadata": {},
     "output_type": "execute_result"
    }
   ],
   "source": [
    "data"
   ]
  },
  {
   "cell_type": "code",
   "execution_count": 317,
   "id": "b7cfd8a5-9a28-4956-a069-4101219d66a6",
   "metadata": {},
   "outputs": [],
   "source": [
    "data.append( {'first': 'Guido', 'last': 'Van Rous', 'YOB': 1956})"
   ]
  },
  {
   "cell_type": "code",
   "execution_count": 318,
   "id": "e1190c0f-fb4d-4b90-ad1b-e8258186ea0d",
   "metadata": {},
   "outputs": [
    {
     "data": {
      "text/plain": [
       "[{'first': 'Grace', 'last': 'Hopper', 'YOB': 1906},\n",
       " {'first': 'Alan', 'last': 'Turing', 'YOB': 1912},\n",
       " {'first': 'Guido', 'last': 'Van Rousen', 'YOB': 1956},\n",
       " {'first': 'Guido', 'last': 'Van Rousen2', 'YOB': 1956},\n",
       " {'first': 'Guido', 'last': 'Van Rous', 'YOB': 1956}]"
      ]
     },
     "execution_count": 318,
     "metadata": {},
     "output_type": "execute_result"
    }
   ],
   "source": [
    "data"
   ]
  },
  {
   "cell_type": "code",
   "execution_count": 319,
   "id": "5ea976c4-6023-41c1-9964-73821b27b34b",
   "metadata": {},
   "outputs": [],
   "source": [
    "data.sort(key = lambda item: item['last'])"
   ]
  },
  {
   "cell_type": "code",
   "execution_count": 320,
   "id": "1f2bf0e5-76c9-422d-8d13-4d76993f26db",
   "metadata": {},
   "outputs": [
    {
     "data": {
      "text/plain": [
       "[{'first': 'Grace', 'last': 'Hopper', 'YOB': 1906},\n",
       " {'first': 'Alan', 'last': 'Turing', 'YOB': 1912},\n",
       " {'first': 'Guido', 'last': 'Van Rous', 'YOB': 1956},\n",
       " {'first': 'Guido', 'last': 'Van Rousen', 'YOB': 1956},\n",
       " {'first': 'Guido', 'last': 'Van Rousen2', 'YOB': 1956}]"
      ]
     },
     "execution_count": 320,
     "metadata": {},
     "output_type": "execute_result"
    }
   ],
   "source": [
    "data"
   ]
  },
  {
   "cell_type": "markdown",
   "id": "ec9b39cf-22ad-4bcd-8b41-f4e8839e46c7",
   "metadata": {},
   "source": [
    "Errors and Exceptions"
   ]
  },
  {
   "cell_type": "code",
   "execution_count": 321,
   "id": "8e363139-2eb0-4027-a20a-f093ba6e50c8",
   "metadata": {},
   "outputs": [
    {
     "ename": "ZeroDivisionError",
     "evalue": "division by zero",
     "output_type": "error",
     "traceback": [
      "\u001b[0;31m---------------------------------------------------------------------------\u001b[0m",
      "\u001b[0;31mZeroDivisionError\u001b[0m                         Traceback (most recent call last)",
      "Cell \u001b[0;32mIn[321], line 1\u001b[0m\n\u001b[0;32m----> 1\u001b[0m \u001b[38;5;241m1\u001b[39m\u001b[38;5;241m/\u001b[39m\u001b[38;5;241m0\u001b[39m\n",
      "\u001b[0;31mZeroDivisionError\u001b[0m: division by zero"
     ]
    }
   ],
   "source": [
    "1/0"
   ]
  },
  {
   "cell_type": "code",
   "execution_count": 340,
   "id": "c85f2205-65da-45b8-8e37-9b6c46d1ccba",
   "metadata": {},
   "outputs": [],
   "source": [
    "def cc():\n",
    "    try:\n",
    "        1/c\n",
    "    except NameError as e:\n",
    "        print(\"error!\", e)"
   ]
  },
  {
   "cell_type": "code",
   "execution_count": 341,
   "id": "67e6b709-3d3d-4f60-9b85-240c58ad7c04",
   "metadata": {},
   "outputs": [
    {
     "name": "stdout",
     "output_type": "stream",
     "text": [
      "error! name 'c' is not defined\n"
     ]
    }
   ],
   "source": [
    "cc()"
   ]
  },
  {
   "cell_type": "markdown",
   "id": "ba32b903-6f9e-4434-a83b-8d798171f541",
   "metadata": {},
   "source": [
    "Was missing an 'as' here"
   ]
  },
  {
   "cell_type": "code",
   "execution_count": 342,
   "id": "0dbe0329-1983-4051-8436-d6cb3ead671f",
   "metadata": {},
   "outputs": [],
   "source": [
    "def ():\n",
    "    try:\n",
    "        1/0\n",
    "    except ZeroDivisionError as e:\n",
    "        print(\"error!\", e)"
   ]
  },
  {
   "cell_type": "code",
   "execution_count": 343,
   "id": "90c37c3d-7a8e-4989-a3e2-e2877508c923",
   "metadata": {},
   "outputs": [
    {
     "name": "stdout",
     "output_type": "stream",
     "text": [
      "error! division by zero\n"
     ]
    }
   ],
   "source": [
    "dd()"
   ]
  },
  {
   "cell_type": "markdown",
   "id": "203f4a1a-6b28-40f8-8432-b72c564cde2f",
   "metadata": {},
   "source": [
    "try except else finally"
   ]
  },
  {
   "cell_type": "code",
   "execution_count": 344,
   "id": "7182b0c7-6fe0-48d5-a71c-e662de6723bd",
   "metadata": {},
   "outputs": [
    {
     "name": "stdout",
     "output_type": "stream",
     "text": [
      "try something here\n",
      "this happens only if it succeeds\n",
      "this happens no matter what\n"
     ]
    }
   ],
   "source": [
    "try:\n",
    "    print(\"try something here\")\n",
    "except:\n",
    "    print(\"this happens only if it fails\")\n",
    "else:\n",
    "    print(\"this happens only if it succeeds\")\n",
    "finally:\n",
    "    print(\"this happens no matter what\")"
   ]
  },
  {
   "cell_type": "markdown",
   "id": "00e24fa4-dc4c-40c4-bbae-dc38bc81adc3",
   "metadata": {},
   "source": [
    "CODING EXERCISE"
   ]
  },
  {
   "cell_type": "markdown",
   "id": "42eecddc-9a9a-4ada-9908-666044bc0bd1",
   "metadata": {},
   "source": [
    "Find the largest prime factor of a positive integer n (assume n>1)\n",
    "\n",
    "For example: if n = 28, your answer should be 7, since 28 = 2^2 * 7\n",
    "\n",
    "Note: You need a list of prime numbers"
   ]
  },
  {
   "cell_type": "code",
   "execution_count": 348,
   "id": "d2567aaa-96b8-4b32-b3a1-9b0aca03af00",
   "metadata": {},
   "outputs": [
    {
     "data": {
      "text/plain": [
       "5"
      ]
     },
     "execution_count": 348,
     "metadata": {},
     "output_type": "execute_result"
    }
   ],
   "source": [
    "int(28**0.5)\n",
    "        "
   ]
  },
  {
   "cell_type": "code",
   "execution_count": 350,
   "id": "97487709-4cbd-44f3-9920-e9a7d6bc307d",
   "metadata": {},
   "outputs": [],
   "source": [
    "import math"
   ]
  },
  {
   "cell_type": "code",
   "execution_count": 351,
   "id": "f894d071-192a-460c-8986-d21e22c443a2",
   "metadata": {},
   "outputs": [
    {
     "data": {
      "text/plain": [
       "5.291502622129181"
      ]
     },
     "execution_count": 351,
     "metadata": {},
     "output_type": "execute_result"
    }
   ],
   "source": [
    "math.sqrt(28)"
   ]
  },
  {
   "cell_type": "code",
   "execution_count": 377,
   "id": "31e6a88b-7e27-4599-b2d6-100ac5a9bc83",
   "metadata": {},
   "outputs": [
    {
     "ename": "IndentationError",
     "evalue": "unindent does not match any outer indentation level (<string>, line 4)",
     "output_type": "error",
     "traceback": [
      "\u001b[0;36m  File \u001b[0;32m<string>:4\u001b[0;36m\u001b[0m\n\u001b[0;31m    except SyntaxError as e:\u001b[0m\n\u001b[0m                            ^\u001b[0m\n\u001b[0;31mIndentationError\u001b[0m\u001b[0;31m:\u001b[0m unindent does not match any outer indentation level\n"
     ]
    }
   ],
   "source": [
    "def forgot_bracket():\n",
    "       try:\n",
    "        L=[1,2,3,4,5''}\n",
    "        except SyntaxError as e:"
   ]
  },
  {
   "cell_type": "code",
   "execution_count": null,
   "id": "b8634ad6-27c7-4476-a55d-d544dfd56c5e",
   "metadata": {},
   "outputs": [],
   "source": []
  }
 ],
 "metadata": {
  "kernelspec": {
   "display_name": "Python [conda env:base] *",
   "language": "python",
   "name": "conda-base-py"
  },
  "language_info": {
   "codemirror_mode": {
    "name": "ipython",
    "version": 3
   },
   "file_extension": ".py",
   "mimetype": "text/x-python",
   "name": "python",
   "nbconvert_exporter": "python",
   "pygments_lexer": "ipython3",
   "version": "3.13.5"
  }
 },
 "nbformat": 4,
 "nbformat_minor": 5
}
