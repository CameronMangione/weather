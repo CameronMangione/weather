# Import pands, numpy, and matplotlib
import pandas as pd
import numpy as np
import matplotlib.pyplot as plt

# seaborn is a data visualization library built on matplotlib
import seaborn as sns

#set the plotting style
sns.set_style("whitegrid")


# Importing Pittsburgh & Seattle CSV datasets for analysis.


df_seattle = pd.read_csv('https://raw.githubusercontent.com/CameronMangione/weather/refs/heads/main/data/seattle_rain.csv')

type(df_seattle)


df_pittsburgh = pd.read_csv('https://raw.githubusercontent.com/CameronMangione/weather/refs/heads/main/data/pittsburgh_rain.csv')

type(df_pittsburgh)


# This section checks identifies key differences between the Seattle and Pittsburgh datasets.


df_seattle.head(10)


df_pittsburgh.head(10)


df_seattle.columns


df_pittsburgh.columns


df_seattle.info()


df_pittsburgh.info()


print(df_seattle.shape)


print(df_pittsburgh.shape)


df_seattle['STATION']


df_seattle['STATION'].unique


df_seattle['STATION'].nunique()


df_pittsburgh['STATION']


df_pittsburgh['STATION'].unique


df_pittsburgh['STATION'].nunique()


# Dates need to bw updated here because Pittsburgh is in a DateTime format and Seattle is in a String format.


df_seattle['DATE']


df_pittsburgh['DATE']


df_seattle['DATE'].max()


df_pittsburgh['DATE'].max()


# Seattle data needs to be converted from string to datetime format
df_seattle['DATE'] = pd.to_datetime(df_seattle['DATE'])


df_pittsburgh['DATE'] = pd.to_datetime(df_pittsburgh['DATE'])


# Checks if update was made properly
df_seattle['DATE'].min()


df_seattle['DATE'].max()


df_pittsburgh['DATE'].min()


df_pittsburgh['DATE'].max()


df_seattle['DATE'].agg(['min','max'])


df_pittsburgh['DATE'].agg(['min','max'])


# Dataplots show a difference between the Seattle and Pittsburgh datasets, and identify a key issue in Seattle's data collection.


plt.figure(figsize=(20,5))

sns.lineplot(data=df_seattle, x='DATE', y='PRCP')

plt.xlabel('Date', fontsize=18)
plt.ylabel('Precipitation (inches)', fontsize=18)

plt.tick_params(labelsize=15)

plt.show()


plt.figure(figsize=(20,5))

sns.lineplot(data=df_pittsburgh, x='DATE', y='PRCP')

plt.xlabel('Date', fontsize=18)
plt.ylabel('Precipitation (inches)', fontsize=18)

plt.tick_params(labelsize=15)

plt.show()


df_pittsburgh.head()


df_pittsburgh = df_pittsburgh.loc[df_pittsburgh['NAME'] == 'PITTSBURGH INTERNATIONAL AIRPORT, PA US']


df_pittsburgh['STATION'].unique()


df_pittsburgh.info()


df_seattle.head(2)


df_pittsburgh.head(2)


# outer join merge because we want to directly compare every day(w/ nulls) of SEA & PIT.
# inner join merge would apply if we only wantedto assess non-nulls directly.
df = df_pittsburgh[['DATE', 'PRCP']].merge(df_seattle[['DATE','PRCP']], on='DATE', how='outer')


df.head()


df


# We use melt to combine both datasets, along with updating the format of the table as well.


df = pd.melt(df, id_vars='DATE', var_name='city', value_name='precipitation')


df.head()


df.tail()


df.loc[df['city'] == 'PRCP_x', 'city'] = 'PIT'


df.loc[df['city'] == 'PRCP_y', 'city'] = 'SEA'


df.head(10)


df.tail(10)


df = df.rename(columns={'DATE': 'date'})


df.head()


df.info()


# NaN analysis conducted


df.notna().sum()


df.isna().sum()


df.loc[df['city'] == 'PIT', 'precipitation'].isna().sum()


df.loc[df['city'] == 'SEA', 'precipitation'].isna().sum()





df['day_of_year'] = pd.DatetimeIndex(df['date']).day_of_year


df.head(10)


mean_day_precipitation = df.loc[df['city'] == 'SEA',['precipitation','day_of_year']].groupby('day_of_year').mean()


plt.figure(figsize=(20, 5))

sns.lineplot(data=mean_day_precipitation, x='day_of_year',y='precipitation')

plt.xlabel('Day of the year', fontsize=18)
plt.ylabel('Mean precipitation (inches)', fontsize=18)

plt.tick_params(labelsize=15)

plt.show()


df.head()


df.tail()


df['precipitation'].isna() == True


# indexes let you see where your calculations actually show up in df
# [0] respresents first time indexed value shows up
indices = np.where(df['precipitation'].isna() == True) [0]


indices


for index in indices:
    df.loc[index, 'precipitation'] = mean_day_precipitation.loc[df.loc[index,'day_of_year']].values[0]


df.isna().sum()



