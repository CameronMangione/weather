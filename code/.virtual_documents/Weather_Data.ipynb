# Import pandas, numpy, and matplotlib
import pandas as pd
import numpy as np
import matplotlib.pyplot as plt

# seaborn is a data visualization library built on matplotlib
import seaborn as sns

#set the plotting style
sns.set_style("whitegrid")


df_seattle = pd.read_csv('https://raw.githubusercontent.com/brian-fischer/DATA-5100/main/weather/seattle_rain.csv')

type(df_seattle)


df_stlouis = pd.read_csv('https://raw.githubusercontent.com/brian-fischer/DATA-5100/main/weather/stl_rain.csv')

type (df_stlouis)


df_seattle.head()


df_stlouis.head(10)


df_seattle.columns


df_stlouis.columns


df_seattle.info()


df_stlouis.info()


print(df_seattle.shape)


print(df_stlouis.shape)


df_stlouis['STATION']


df_stlouis['STATION'].unique()


df_stlouis['STATION'].nunique()


df_seattle['STATION'].nunique()


df_seattle['DATE']


df_stlouis['DATE']


df_seattle['DATE'].max()


df_seattle['DATE'].tail()


df_seattle['DATE'] = pd.to_datetime(df_seattle['DATE'])


df_stlouis['DATE'] = pd.to_datetime(df_stlouis['DATE'])


df_seattle['DATE']


df_stlouis['DATE']


df_seattle['DATE'].min()


df_seattle['DATE'].max()


df_stlouis['DATE'].min()


df_stlouis['DATE'].max()


df_seattle['DATE'].agg(['min','max'])


df_stlouis['DATE'].agg(['min','max'])


plt.figure(figsize=(20,5))

sns.lineplot(data=df_seattle, x='DATE', y='PRCP')

plt.xlabel('Date', fontsize=18)
plt.ylabel('Precipitation (inches)', fontsize=18)

plt.tick_params(labelsize=15)

plt.show()



plt.figure(figsize=(20,5))

sns.lineplot(data=df_stlouis, x='DATE', y='PRCP')

plt.xlabel('Date', fontsize=18)
plt.ylabel('Precipitation (inches)', fontsize=18)

plt.tick_params(labelsize=15)

plt.show()


df_stlouis.head()


df_stlouis = df_stlouis.loc[df_stlouis['DATE'] >= '2018-01-01']


df_stlouis.head()


df_stlouis = df_stlouis.loc[df_stlouis['NAME'] == 'ST LOUIS LAMBERT INTERNATIONAL AIRPORT, MO US']


df_stlouis['STATION'].unique()


df_stlouis.info()


df_seattle.head(2)


df_stlouis.head(2)


df = df_stlouis[['DATE', 'PRCP']].merge(df_seattle[['DATE','PRCP']], on='DATE', how='outer')


df.head()


df


df = pd.melt(df, id_vars='DATE', var_name='city', value_name='precipitation')



