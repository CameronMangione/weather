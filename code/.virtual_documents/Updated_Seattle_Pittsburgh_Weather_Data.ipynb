














# Import pands, numpy, and matplotlib
import pandas as pd
import numpy as np
import matplotlib.pyplot as plt

# seaborn is a data visualization library built on matplotlib
import seaborn as sns

import calendar
import scipy as sp
from scipy import stats
from statsmodels.stats.proportion import proportions_ztest

#set the plotting style
sns.set_style("whitegrid")








df_seattle = pd.read_csv('https://raw.githubusercontent.com/CameronMangione/weather/refs/heads/main/data/seattle_rain.csv')

type(df_seattle)


df_pittsburgh = pd.read_csv('https://raw.githubusercontent.com/CameronMangione/weather/refs/heads/main/data/pittsburgh_rain.csv')

type(df_pittsburgh)





df_seattle.head()


df_pittsburgh.head()











df_seattle.info()


df_pittsburgh.info()




















df_seattle['DATE']


df_pittsburgh['DATE']











df_seattle['DATE'] = pd.to_datetime(df_seattle['DATE'])


df_pittsburgh['DATE'] = pd.to_datetime(df_pittsburgh['DATE'])





df_seattle['DATE'].agg(['min','max'])














plt.figure(figsize=(20,5))

sns.lineplot(data=df_pittsburgh, x='DATE', y='PRCP')

plt.xlabel('Date', fontsize=15)
plt.ylabel('Precipitation (inches)', fontsize=18)

plt.tick_params(labelsize=15)

plt.show()


plt.figure(figsize=(20,5))

sns.lineplot(data=df_seattle, x='DATE', y='PRCP', color='orange')

plt.xlabel('Date', fontsize=15)
plt.ylabel('Precipitation (inches)', fontsize=15)

plt.tick_params(labelsize=15)

plt.show()


























df = df_pittsburgh[['DATE', 'PRCP']].merge(df_seattle[['DATE','PRCP']], on='DATE', how='outer')


df











df = pd.melt(df, id_vars='DATE', var_name='city', value_name='precipitation')











df.loc[df['city'] == 'PRCP_x', 'city'] = 'PIT'


df.loc[df['city'] == 'PRCP_y', 'city'] = 'SEA'





df = df.rename(columns={'DATE': 'date'})














df.loc[df['city'] == 'PIT', 'precipitation'].isna().sum()


df.loc[df['city'] == 'SEA', 'precipitation'].isna().sum()











df['day_of_year'] = pd.DatetimeIndex(df['date']).day_of_year





mean_day_precipitation = df.loc[df['city'] == 'SEA',['precipitation','day_of_year']].groupby('day_of_year').mean()





plt.figure(figsize=(20, 5))

sns.lineplot(data=mean_day_precipitation, x='day_of_year',y='precipitation', color='orange')

plt.xlabel('Day of the year', fontsize=18)
plt.ylabel('Mean precipitation (inches)', fontsize=18)

plt.tick_params(labelsize=15)

plt.show()











indices = np.where(df['precipitation'].isna() == True) [0]





for index in indices:
    df.loc[index, 'precipitation'] = mean_day_precipitation.loc[df.loc[index,'day_of_year']].values[0]














plt.figure(figsize=(20,5))

sns.lineplot(data=df, x='date',y='precipitation', hue='city')

plt.xlabel('Date', fontsize=18)
plt.ylabel('Daily precipitation (inches)', fontsize=18)

plt.tick_params(labelsize=18)

plt.show()





df[['city', 'precipitation']].groupby('city').describe()


df[['city', 'precipitation']].groupby('city').mean()








sns.barplot(data=df, x='city', y='precipitation', hue='city')

plt.ylabel('Precipitation (inches)', fontsize=18)
plt.xlabel('City', fontsize=18)
plt.title('Mean Daily Precipitation', fontsize=18)

plt.tick_params(labelsize=18)

plt.show()











df['month'] = pd.DatetimeIndex(df['date']).month











plt.figure(figsize=(20,4))

sns.boxplot(data=df, x='month', y='precipitation', hue='city')

plt.xlabel('Month', fontsize=18)
plt.ylabel('Precipitation (inches)', fontsize=18)

plt.tick_params(labelsize=18)

# Get month names and set as x-axis tick labels
import calendar
month_names = list(calendar.month_name[1:]) #Get month names
plt.xticks(ticks=range(12), labels=month_names) #Set x-axis ticks to month names

plt.ylim(0, 0.4) #zoom in

plt.show()





plt.figure(figsize=(15,8))

sns.boxplot(data=df, y='month', x='precipitation', hue='city', orient='h')

plt.ylabel('Month', fontsize=18)
plt.xlabel('Precipitation (inches)', fontsize=18)

plt.tick_params(labelsize=18)

# Get month names and set as x-axis tick labels
import calendar
month_names = list(calendar.month_name[1:]) #Get month names
plt.yticks(ticks=range(12), labels=month_names) #Set y-axis ticks to month names

plt.show()











plt.figure(figsize=(20,4))

sns.barplot(data=df, x='month', y='precipitation', hue='city')

plt.xlabel('Month', fontsize=18)
plt.ylabel('Precipitation (inches)', fontsize=18)

plt.tick_params(labelsize=18)

plt.xticks(ticks=range(12), labels=month_names)

plt.show()





df[['month', 'precipitation','city']].groupby(['city', 'month']).mean()





df['any precipitation'] = df['precipitation'] > 0





sns.barplot(data=df, x='city', y='any precipitation', hue='city', errorbar=None)

plt.xlabel('City', fontsize=18)
plt.ylabel('Proportion days with precipitation', fontsize=18)

plt.tick_params(labelsize=18)

plt.show()





plt.figure(figsize=(20,4))

sns.barplot(data=df, x='month', y='any precipitation', hue='city')

plt.xlabel(None)
plt.ylabel('Proportion days with precipitation', fontsize=18)
plt.xticks(ticks=range(12), labels=month_names)
plt.tick_params(labelsize=18)

plt.show()














plt.figure(figsize=(5,4))

sns.histplot(data=df.loc[df['month'] == 1], x='precipitation', hue = 'city')

plt.xlabel('Precipitation (inches)', fontsize=18)
plt.ylabel('Number of days', fontsize=18)
plt.title('Precipitation in January', fontsize=18)

plt.tick_params(labelsize=18)

plt.show()











significance_level = 0.05
significantly_different = np.zeros(12)

#Perform t-test for each month
for month in range (1,13):
    #Get precipitation data for Seattle and Pittsburgh for the current month
    sea_data = df.loc[(df['city'] == 'SEA') & (df['month'] == month), 'precipitation']
    pit_data = df.loc[(df['city'] == 'PIT') & (df['month'] == month), 'precipitation']

    t_statistic, p_value = stats.ttest_ind(sea_data, pit_data, equal_var=False)

    if p_value < significance_level:
        significantly_different[month-1] = 1

    print(f"Month {month}:")
    print(f" t-statistic = {t_statistic: .2f}")
    print(f" p-value t test= {p_value:.3f}")
    print("-" * 20)





plt.figure(figsize=(20,4))

sns.barplot(data=df, x='month', y='precipitation', hue='city', alpha=0.75)

plt.xlabel('Month', fontsize=15)
plt.ylabel('Precipitation (inches)', fontsize=15)
plt.title('Mean monthly precipitation', fontsize=15)

plt.tick_params(labelsize=15)

plt.xticks(ticks=range(12), labels=month_names)

#Add star for significantly different months
for month in range(12):
    if significantly_different[month] == 1:

        #Add a star
        plt.text(month, 0.27, '*', ha='center', fontsize=25)

plt.show()











contingency_table = pd.crosstab(df.loc[df['month'] == month, 'city'], df.loc[df['month'] == month, 'any precipitation'])

contingency_table





siginifcance_level = 0.05
significantly_different_proportion = np.zeros(12)

#Perform t-test for each month
for month in range(1,13):

    #Create a contingency table for Seattle and Pittsburgh for the current month:
    contingency_table = pd.crosstab(df.loc[df['month'] == month, 'city'], df.loc[df['month'] == month, 'any precipitation'])

    #Calculate the number of True values (days with precipitation) for each city
    days_with_precipitation = contingency_table[True]

    #Calculate the total number of days for each city
    total_counts = contingency_table.sum(axis=1)

    #Hypothesis Test
    zstat, p_value = proportions_ztest(count=days_with_precipitation, nobs=total_counts, alternative='two-sided')

    if p_value < significance_level:
        significantly_different_proportion[month-1]=1

    print(f"Month {month}:")
    print(f" t-statistic = {t_statistic: .2f}")
    print(f" p-value t test= {p_value:.3f}")
    print("-" * 20)









