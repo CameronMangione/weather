{
 "cells": [
  {
   "cell_type": "code",
   "execution_count": 2,
   "id": "963b5f03-19d3-401d-a7c9-4222247a96c2",
   "metadata": {},
   "outputs": [],
   "source": [
    "# Import pands, numpy, and matplotlib\n",
    "import pandas as pd\n",
    "import numpy as np\n",
    "import matplotlib.pyplot as plt\n",
    "\n",
    "# seaborn is a data visualization library built on matplotlib\n",
    "import seaborn as sns\n",
    "\n",
    "#set the plotting style\n",
    "sns.set_style(\"whitegrid\")"
   ]
  },
  {
   "cell_type": "code",
   "execution_count": 96,
   "id": "7fdc79c4-186c-42e8-bccc-d0970af4e7ec",
   "metadata": {},
   "outputs": [],
   "source": [
    "# Importing Pittsburgh & Seattle CSV datasets for analysis."
   ]
  },
  {
   "cell_type": "code",
   "execution_count": 7,
   "id": "74c55a13-6166-4ea8-accb-a8b4ca58c21a",
   "metadata": {},
   "outputs": [
    {
     "data": {
      "text/plain": [
       "pandas.core.frame.DataFrame"
      ]
     },
     "execution_count": 7,
     "metadata": {},
     "output_type": "execute_result"
    }
   ],
   "source": [
    "df_seattle = pd.read_csv('https://raw.githubusercontent.com/CameronMangione/weather/refs/heads/main/data/seattle_rain.csv')\n",
    "\n",
    "type(df_seattle)"
   ]
  },
  {
   "cell_type": "code",
   "execution_count": 8,
   "id": "e4885821-c603-4dd4-b789-c8fecdcb98c5",
   "metadata": {},
   "outputs": [
    {
     "data": {
      "text/plain": [
       "pandas.core.frame.DataFrame"
      ]
     },
     "execution_count": 8,
     "metadata": {},
     "output_type": "execute_result"
    }
   ],
   "source": [
    "df_pittsburgh = pd.read_csv('https://raw.githubusercontent.com/CameronMangione/weather/refs/heads/main/data/pittsburgh_rain.csv')\n",
    "\n",
    "type(df_pittsburgh)"
   ]
  },
  {
   "cell_type": "code",
   "execution_count": null,
   "id": "1f6cafc8-9d13-4b93-85de-e64367ca517e",
   "metadata": {},
   "outputs": [],
   "source": [
    "# This section checks identifies key differences between the Seattle and Pittsburgh datasets."
   ]
  },
  {
   "cell_type": "code",
   "execution_count": 11,
   "id": "baf6a3c1-9ade-4f66-b05f-9ac6cde50e38",
   "metadata": {},
   "outputs": [
    {
     "data": {
      "text/html": [
       "<div>\n",
       "<style scoped>\n",
       "    .dataframe tbody tr th:only-of-type {\n",
       "        vertical-align: middle;\n",
       "    }\n",
       "\n",
       "    .dataframe tbody tr th {\n",
       "        vertical-align: top;\n",
       "    }\n",
       "\n",
       "    .dataframe thead th {\n",
       "        text-align: right;\n",
       "    }\n",
       "</style>\n",
       "<table border=\"1\" class=\"dataframe\">\n",
       "  <thead>\n",
       "    <tr style=\"text-align: right;\">\n",
       "      <th></th>\n",
       "      <th>STATION</th>\n",
       "      <th>NAME</th>\n",
       "      <th>DATE</th>\n",
       "      <th>DAPR</th>\n",
       "      <th>MDPR</th>\n",
       "      <th>PRCP</th>\n",
       "      <th>SNOW</th>\n",
       "      <th>SNWD</th>\n",
       "      <th>WESD</th>\n",
       "      <th>WESF</th>\n",
       "    </tr>\n",
       "  </thead>\n",
       "  <tbody>\n",
       "    <tr>\n",
       "      <th>0</th>\n",
       "      <td>US1WAKG0225</td>\n",
       "      <td>SEATTLE 2.1 ESE, WA US</td>\n",
       "      <td>1/1/18</td>\n",
       "      <td>NaN</td>\n",
       "      <td>NaN</td>\n",
       "      <td>0.00</td>\n",
       "      <td>NaN</td>\n",
       "      <td>NaN</td>\n",
       "      <td>NaN</td>\n",
       "      <td>NaN</td>\n",
       "    </tr>\n",
       "    <tr>\n",
       "      <th>1</th>\n",
       "      <td>US1WAKG0225</td>\n",
       "      <td>SEATTLE 2.1 ESE, WA US</td>\n",
       "      <td>1/2/18</td>\n",
       "      <td>NaN</td>\n",
       "      <td>NaN</td>\n",
       "      <td>0.00</td>\n",
       "      <td>NaN</td>\n",
       "      <td>NaN</td>\n",
       "      <td>NaN</td>\n",
       "      <td>NaN</td>\n",
       "    </tr>\n",
       "    <tr>\n",
       "      <th>2</th>\n",
       "      <td>US1WAKG0225</td>\n",
       "      <td>SEATTLE 2.1 ESE, WA US</td>\n",
       "      <td>1/3/18</td>\n",
       "      <td>NaN</td>\n",
       "      <td>NaN</td>\n",
       "      <td>0.00</td>\n",
       "      <td>NaN</td>\n",
       "      <td>NaN</td>\n",
       "      <td>NaN</td>\n",
       "      <td>NaN</td>\n",
       "    </tr>\n",
       "    <tr>\n",
       "      <th>3</th>\n",
       "      <td>US1WAKG0225</td>\n",
       "      <td>SEATTLE 2.1 ESE, WA US</td>\n",
       "      <td>1/4/18</td>\n",
       "      <td>NaN</td>\n",
       "      <td>NaN</td>\n",
       "      <td>0.00</td>\n",
       "      <td>NaN</td>\n",
       "      <td>NaN</td>\n",
       "      <td>NaN</td>\n",
       "      <td>NaN</td>\n",
       "    </tr>\n",
       "    <tr>\n",
       "      <th>4</th>\n",
       "      <td>US1WAKG0225</td>\n",
       "      <td>SEATTLE 2.1 ESE, WA US</td>\n",
       "      <td>1/5/18</td>\n",
       "      <td>NaN</td>\n",
       "      <td>NaN</td>\n",
       "      <td>0.25</td>\n",
       "      <td>NaN</td>\n",
       "      <td>NaN</td>\n",
       "      <td>NaN</td>\n",
       "      <td>NaN</td>\n",
       "    </tr>\n",
       "    <tr>\n",
       "      <th>5</th>\n",
       "      <td>US1WAKG0225</td>\n",
       "      <td>SEATTLE 2.1 ESE, WA US</td>\n",
       "      <td>1/6/18</td>\n",
       "      <td>NaN</td>\n",
       "      <td>NaN</td>\n",
       "      <td>0.57</td>\n",
       "      <td>NaN</td>\n",
       "      <td>NaN</td>\n",
       "      <td>NaN</td>\n",
       "      <td>NaN</td>\n",
       "    </tr>\n",
       "    <tr>\n",
       "      <th>6</th>\n",
       "      <td>US1WAKG0225</td>\n",
       "      <td>SEATTLE 2.1 ESE, WA US</td>\n",
       "      <td>1/7/18</td>\n",
       "      <td>NaN</td>\n",
       "      <td>NaN</td>\n",
       "      <td>0.23</td>\n",
       "      <td>NaN</td>\n",
       "      <td>NaN</td>\n",
       "      <td>NaN</td>\n",
       "      <td>NaN</td>\n",
       "    </tr>\n",
       "    <tr>\n",
       "      <th>7</th>\n",
       "      <td>US1WAKG0225</td>\n",
       "      <td>SEATTLE 2.1 ESE, WA US</td>\n",
       "      <td>1/8/18</td>\n",
       "      <td>NaN</td>\n",
       "      <td>NaN</td>\n",
       "      <td>0.41</td>\n",
       "      <td>NaN</td>\n",
       "      <td>NaN</td>\n",
       "      <td>NaN</td>\n",
       "      <td>NaN</td>\n",
       "    </tr>\n",
       "    <tr>\n",
       "      <th>8</th>\n",
       "      <td>US1WAKG0225</td>\n",
       "      <td>SEATTLE 2.1 ESE, WA US</td>\n",
       "      <td>3/12/18</td>\n",
       "      <td>NaN</td>\n",
       "      <td>NaN</td>\n",
       "      <td>0.00</td>\n",
       "      <td>NaN</td>\n",
       "      <td>NaN</td>\n",
       "      <td>NaN</td>\n",
       "      <td>NaN</td>\n",
       "    </tr>\n",
       "    <tr>\n",
       "      <th>9</th>\n",
       "      <td>US1WAKG0225</td>\n",
       "      <td>SEATTLE 2.1 ESE, WA US</td>\n",
       "      <td>3/13/18</td>\n",
       "      <td>NaN</td>\n",
       "      <td>NaN</td>\n",
       "      <td>0.00</td>\n",
       "      <td>NaN</td>\n",
       "      <td>NaN</td>\n",
       "      <td>NaN</td>\n",
       "      <td>NaN</td>\n",
       "    </tr>\n",
       "  </tbody>\n",
       "</table>\n",
       "</div>"
      ],
      "text/plain": [
       "       STATION                    NAME     DATE  DAPR  MDPR  PRCP  SNOW  SNWD  \\\n",
       "0  US1WAKG0225  SEATTLE 2.1 ESE, WA US   1/1/18   NaN   NaN  0.00   NaN   NaN   \n",
       "1  US1WAKG0225  SEATTLE 2.1 ESE, WA US   1/2/18   NaN   NaN  0.00   NaN   NaN   \n",
       "2  US1WAKG0225  SEATTLE 2.1 ESE, WA US   1/3/18   NaN   NaN  0.00   NaN   NaN   \n",
       "3  US1WAKG0225  SEATTLE 2.1 ESE, WA US   1/4/18   NaN   NaN  0.00   NaN   NaN   \n",
       "4  US1WAKG0225  SEATTLE 2.1 ESE, WA US   1/5/18   NaN   NaN  0.25   NaN   NaN   \n",
       "5  US1WAKG0225  SEATTLE 2.1 ESE, WA US   1/6/18   NaN   NaN  0.57   NaN   NaN   \n",
       "6  US1WAKG0225  SEATTLE 2.1 ESE, WA US   1/7/18   NaN   NaN  0.23   NaN   NaN   \n",
       "7  US1WAKG0225  SEATTLE 2.1 ESE, WA US   1/8/18   NaN   NaN  0.41   NaN   NaN   \n",
       "8  US1WAKG0225  SEATTLE 2.1 ESE, WA US  3/12/18   NaN   NaN  0.00   NaN   NaN   \n",
       "9  US1WAKG0225  SEATTLE 2.1 ESE, WA US  3/13/18   NaN   NaN  0.00   NaN   NaN   \n",
       "\n",
       "   WESD  WESF  \n",
       "0   NaN   NaN  \n",
       "1   NaN   NaN  \n",
       "2   NaN   NaN  \n",
       "3   NaN   NaN  \n",
       "4   NaN   NaN  \n",
       "5   NaN   NaN  \n",
       "6   NaN   NaN  \n",
       "7   NaN   NaN  \n",
       "8   NaN   NaN  \n",
       "9   NaN   NaN  "
      ]
     },
     "execution_count": 11,
     "metadata": {},
     "output_type": "execute_result"
    }
   ],
   "source": [
    "df_seattle.head(10)"
   ]
  },
  {
   "cell_type": "code",
   "execution_count": 12,
   "id": "215f58ef-7f07-45f5-a7ba-77310af8a2ca",
   "metadata": {},
   "outputs": [
    {
     "data": {
      "text/html": [
       "<div>\n",
       "<style scoped>\n",
       "    .dataframe tbody tr th:only-of-type {\n",
       "        vertical-align: middle;\n",
       "    }\n",
       "\n",
       "    .dataframe tbody tr th {\n",
       "        vertical-align: top;\n",
       "    }\n",
       "\n",
       "    .dataframe thead th {\n",
       "        text-align: right;\n",
       "    }\n",
       "</style>\n",
       "<table border=\"1\" class=\"dataframe\">\n",
       "  <thead>\n",
       "    <tr style=\"text-align: right;\">\n",
       "      <th></th>\n",
       "      <th>STATION</th>\n",
       "      <th>NAME</th>\n",
       "      <th>DATE</th>\n",
       "      <th>PRCP</th>\n",
       "      <th>SNOW</th>\n",
       "      <th>SNWD</th>\n",
       "    </tr>\n",
       "  </thead>\n",
       "  <tbody>\n",
       "    <tr>\n",
       "      <th>0</th>\n",
       "      <td>USW00094823</td>\n",
       "      <td>PITTSBURGH INTERNATIONAL AIRPORT, PA US</td>\n",
       "      <td>2018-01-01</td>\n",
       "      <td>0.00</td>\n",
       "      <td>0.0</td>\n",
       "      <td>3.1</td>\n",
       "    </tr>\n",
       "    <tr>\n",
       "      <th>1</th>\n",
       "      <td>USW00094823</td>\n",
       "      <td>PITTSBURGH INTERNATIONAL AIRPORT, PA US</td>\n",
       "      <td>2018-01-02</td>\n",
       "      <td>0.00</td>\n",
       "      <td>0.0</td>\n",
       "      <td>2.0</td>\n",
       "    </tr>\n",
       "    <tr>\n",
       "      <th>2</th>\n",
       "      <td>USW00094823</td>\n",
       "      <td>PITTSBURGH INTERNATIONAL AIRPORT, PA US</td>\n",
       "      <td>2018-01-03</td>\n",
       "      <td>0.00</td>\n",
       "      <td>0.0</td>\n",
       "      <td>2.0</td>\n",
       "    </tr>\n",
       "    <tr>\n",
       "      <th>3</th>\n",
       "      <td>USW00094823</td>\n",
       "      <td>PITTSBURGH INTERNATIONAL AIRPORT, PA US</td>\n",
       "      <td>2018-01-04</td>\n",
       "      <td>0.00</td>\n",
       "      <td>0.9</td>\n",
       "      <td>2.0</td>\n",
       "    </tr>\n",
       "    <tr>\n",
       "      <th>4</th>\n",
       "      <td>USW00094823</td>\n",
       "      <td>PITTSBURGH INTERNATIONAL AIRPORT, PA US</td>\n",
       "      <td>2018-01-05</td>\n",
       "      <td>0.00</td>\n",
       "      <td>0.0</td>\n",
       "      <td>2.0</td>\n",
       "    </tr>\n",
       "    <tr>\n",
       "      <th>5</th>\n",
       "      <td>USW00094823</td>\n",
       "      <td>PITTSBURGH INTERNATIONAL AIRPORT, PA US</td>\n",
       "      <td>2018-01-06</td>\n",
       "      <td>0.00</td>\n",
       "      <td>0.1</td>\n",
       "      <td>2.0</td>\n",
       "    </tr>\n",
       "    <tr>\n",
       "      <th>6</th>\n",
       "      <td>USW00094823</td>\n",
       "      <td>PITTSBURGH INTERNATIONAL AIRPORT, PA US</td>\n",
       "      <td>2018-01-07</td>\n",
       "      <td>0.00</td>\n",
       "      <td>0.0</td>\n",
       "      <td>2.0</td>\n",
       "    </tr>\n",
       "    <tr>\n",
       "      <th>7</th>\n",
       "      <td>USW00094823</td>\n",
       "      <td>PITTSBURGH INTERNATIONAL AIRPORT, PA US</td>\n",
       "      <td>2018-01-08</td>\n",
       "      <td>0.24</td>\n",
       "      <td>2.0</td>\n",
       "      <td>2.0</td>\n",
       "    </tr>\n",
       "    <tr>\n",
       "      <th>8</th>\n",
       "      <td>USW00094823</td>\n",
       "      <td>PITTSBURGH INTERNATIONAL AIRPORT, PA US</td>\n",
       "      <td>2018-01-09</td>\n",
       "      <td>0.00</td>\n",
       "      <td>0.0</td>\n",
       "      <td>3.1</td>\n",
       "    </tr>\n",
       "    <tr>\n",
       "      <th>9</th>\n",
       "      <td>USW00094823</td>\n",
       "      <td>PITTSBURGH INTERNATIONAL AIRPORT, PA US</td>\n",
       "      <td>2018-01-10</td>\n",
       "      <td>0.00</td>\n",
       "      <td>0.0</td>\n",
       "      <td>3.1</td>\n",
       "    </tr>\n",
       "  </tbody>\n",
       "</table>\n",
       "</div>"
      ],
      "text/plain": [
       "       STATION                                     NAME        DATE  PRCP  \\\n",
       "0  USW00094823  PITTSBURGH INTERNATIONAL AIRPORT, PA US  2018-01-01  0.00   \n",
       "1  USW00094823  PITTSBURGH INTERNATIONAL AIRPORT, PA US  2018-01-02  0.00   \n",
       "2  USW00094823  PITTSBURGH INTERNATIONAL AIRPORT, PA US  2018-01-03  0.00   \n",
       "3  USW00094823  PITTSBURGH INTERNATIONAL AIRPORT, PA US  2018-01-04  0.00   \n",
       "4  USW00094823  PITTSBURGH INTERNATIONAL AIRPORT, PA US  2018-01-05  0.00   \n",
       "5  USW00094823  PITTSBURGH INTERNATIONAL AIRPORT, PA US  2018-01-06  0.00   \n",
       "6  USW00094823  PITTSBURGH INTERNATIONAL AIRPORT, PA US  2018-01-07  0.00   \n",
       "7  USW00094823  PITTSBURGH INTERNATIONAL AIRPORT, PA US  2018-01-08  0.24   \n",
       "8  USW00094823  PITTSBURGH INTERNATIONAL AIRPORT, PA US  2018-01-09  0.00   \n",
       "9  USW00094823  PITTSBURGH INTERNATIONAL AIRPORT, PA US  2018-01-10  0.00   \n",
       "\n",
       "   SNOW  SNWD  \n",
       "0   0.0   3.1  \n",
       "1   0.0   2.0  \n",
       "2   0.0   2.0  \n",
       "3   0.9   2.0  \n",
       "4   0.0   2.0  \n",
       "5   0.1   2.0  \n",
       "6   0.0   2.0  \n",
       "7   2.0   2.0  \n",
       "8   0.0   3.1  \n",
       "9   0.0   3.1  "
      ]
     },
     "execution_count": 12,
     "metadata": {},
     "output_type": "execute_result"
    }
   ],
   "source": [
    "df_pittsburgh.head(10)"
   ]
  },
  {
   "cell_type": "code",
   "execution_count": 13,
   "id": "f0ad3afc-3196-441b-8afc-d4d60a9d06a5",
   "metadata": {},
   "outputs": [
    {
     "data": {
      "text/plain": [
       "Index(['STATION', 'NAME', 'DATE', 'DAPR', 'MDPR', 'PRCP', 'SNOW', 'SNWD',\n",
       "       'WESD', 'WESF'],\n",
       "      dtype='object')"
      ]
     },
     "execution_count": 13,
     "metadata": {},
     "output_type": "execute_result"
    }
   ],
   "source": [
    "df_seattle.columns"
   ]
  },
  {
   "cell_type": "code",
   "execution_count": 14,
   "id": "0107c313-c6c1-42b7-80ea-b991fa893d1c",
   "metadata": {},
   "outputs": [
    {
     "data": {
      "text/plain": [
       "Index(['STATION', 'NAME', 'DATE', 'PRCP', 'SNOW', 'SNWD'], dtype='object')"
      ]
     },
     "execution_count": 14,
     "metadata": {},
     "output_type": "execute_result"
    }
   ],
   "source": [
    "df_pittsburgh.columns"
   ]
  },
  {
   "cell_type": "code",
   "execution_count": 15,
   "id": "deaa5245-273f-44fa-84da-347edc105156",
   "metadata": {},
   "outputs": [
    {
     "name": "stdout",
     "output_type": "stream",
     "text": [
      "<class 'pandas.core.frame.DataFrame'>\n",
      "RangeIndex: 1658 entries, 0 to 1657\n",
      "Data columns (total 10 columns):\n",
      " #   Column   Non-Null Count  Dtype  \n",
      "---  ------   --------------  -----  \n",
      " 0   STATION  1658 non-null   object \n",
      " 1   NAME     1658 non-null   object \n",
      " 2   DATE     1658 non-null   object \n",
      " 3   DAPR     23 non-null     float64\n",
      " 4   MDPR     23 non-null     float64\n",
      " 5   PRCP     1636 non-null   float64\n",
      " 6   SNOW     353 non-null    float64\n",
      " 7   SNWD     66 non-null     float64\n",
      " 8   WESD     15 non-null     float64\n",
      " 9   WESF     28 non-null     float64\n",
      "dtypes: float64(7), object(3)\n",
      "memory usage: 129.7+ KB\n"
     ]
    }
   ],
   "source": [
    "df_seattle.info()"
   ]
  },
  {
   "cell_type": "code",
   "execution_count": 16,
   "id": "77d54075-7141-4aee-9ba1-fb129a232fd9",
   "metadata": {},
   "outputs": [
    {
     "name": "stdout",
     "output_type": "stream",
     "text": [
      "<class 'pandas.core.frame.DataFrame'>\n",
      "RangeIndex: 1826 entries, 0 to 1825\n",
      "Data columns (total 6 columns):\n",
      " #   Column   Non-Null Count  Dtype  \n",
      "---  ------   --------------  -----  \n",
      " 0   STATION  1826 non-null   object \n",
      " 1   NAME     1826 non-null   object \n",
      " 2   DATE     1826 non-null   object \n",
      " 3   PRCP     1826 non-null   float64\n",
      " 4   SNOW     1826 non-null   float64\n",
      " 5   SNWD     1826 non-null   float64\n",
      "dtypes: float64(3), object(3)\n",
      "memory usage: 85.7+ KB\n"
     ]
    }
   ],
   "source": [
    "df_pittsburgh.info()"
   ]
  },
  {
   "cell_type": "code",
   "execution_count": 17,
   "id": "f5dc2a6e-2ab5-4e08-b84a-28c2ae12648a",
   "metadata": {},
   "outputs": [
    {
     "name": "stdout",
     "output_type": "stream",
     "text": [
      "(1658, 10)\n"
     ]
    }
   ],
   "source": [
    "print(df_seattle.shape)"
   ]
  },
  {
   "cell_type": "code",
   "execution_count": 18,
   "id": "2a76be21-84cc-4a2d-943f-c485f8baeb55",
   "metadata": {},
   "outputs": [
    {
     "name": "stdout",
     "output_type": "stream",
     "text": [
      "(1826, 6)\n"
     ]
    }
   ],
   "source": [
    "print(df_pittsburgh.shape)"
   ]
  },
  {
   "cell_type": "code",
   "execution_count": 23,
   "id": "7adc4e9c-af40-4313-9b47-43d5fb737cae",
   "metadata": {},
   "outputs": [
    {
     "data": {
      "text/plain": [
       "0       US1WAKG0225\n",
       "1       US1WAKG0225\n",
       "2       US1WAKG0225\n",
       "3       US1WAKG0225\n",
       "4       US1WAKG0225\n",
       "           ...     \n",
       "1653    US1WAKG0225\n",
       "1654    US1WAKG0225\n",
       "1655    US1WAKG0225\n",
       "1656    US1WAKG0225\n",
       "1657    US1WAKG0225\n",
       "Name: STATION, Length: 1658, dtype: object"
      ]
     },
     "execution_count": 23,
     "metadata": {},
     "output_type": "execute_result"
    }
   ],
   "source": [
    "df_seattle['STATION']"
   ]
  },
  {
   "cell_type": "code",
   "execution_count": 24,
   "id": "79788252-eee2-4710-ae58-396ddfbf69b1",
   "metadata": {},
   "outputs": [
    {
     "data": {
      "text/plain": [
       "<bound method Series.unique of 0       US1WAKG0225\n",
       "1       US1WAKG0225\n",
       "2       US1WAKG0225\n",
       "3       US1WAKG0225\n",
       "4       US1WAKG0225\n",
       "           ...     \n",
       "1653    US1WAKG0225\n",
       "1654    US1WAKG0225\n",
       "1655    US1WAKG0225\n",
       "1656    US1WAKG0225\n",
       "1657    US1WAKG0225\n",
       "Name: STATION, Length: 1658, dtype: object>"
      ]
     },
     "execution_count": 24,
     "metadata": {},
     "output_type": "execute_result"
    }
   ],
   "source": [
    "df_seattle['STATION'].unique"
   ]
  },
  {
   "cell_type": "code",
   "execution_count": 26,
   "id": "592a79cb-3cd1-4acf-858c-fa06d05b7cb9",
   "metadata": {},
   "outputs": [
    {
     "data": {
      "text/plain": [
       "1"
      ]
     },
     "execution_count": 26,
     "metadata": {},
     "output_type": "execute_result"
    }
   ],
   "source": [
    "df_seattle['STATION'].nunique()"
   ]
  },
  {
   "cell_type": "code",
   "execution_count": 27,
   "id": "86f15905-e8ff-4033-af46-56a54abb410a",
   "metadata": {},
   "outputs": [
    {
     "data": {
      "text/plain": [
       "0       USW00094823\n",
       "1       USW00094823\n",
       "2       USW00094823\n",
       "3       USW00094823\n",
       "4       USW00094823\n",
       "           ...     \n",
       "1821    USW00094823\n",
       "1822    USW00094823\n",
       "1823    USW00094823\n",
       "1824    USW00094823\n",
       "1825    USW00094823\n",
       "Name: STATION, Length: 1826, dtype: object"
      ]
     },
     "execution_count": 27,
     "metadata": {},
     "output_type": "execute_result"
    }
   ],
   "source": [
    "df_pittsburgh['STATION']"
   ]
  },
  {
   "cell_type": "code",
   "execution_count": 29,
   "id": "2ac619c4-85c1-471d-8802-c7cba5d450ec",
   "metadata": {},
   "outputs": [
    {
     "data": {
      "text/plain": [
       "<bound method Series.unique of 0       USW00094823\n",
       "1       USW00094823\n",
       "2       USW00094823\n",
       "3       USW00094823\n",
       "4       USW00094823\n",
       "           ...     \n",
       "1821    USW00094823\n",
       "1822    USW00094823\n",
       "1823    USW00094823\n",
       "1824    USW00094823\n",
       "1825    USW00094823\n",
       "Name: STATION, Length: 1826, dtype: object>"
      ]
     },
     "execution_count": 29,
     "metadata": {},
     "output_type": "execute_result"
    }
   ],
   "source": [
    "df_pittsburgh['STATION'].unique"
   ]
  },
  {
   "cell_type": "code",
   "execution_count": 30,
   "id": "9ebbd102-fadd-4f00-9dfc-8a88a14f6619",
   "metadata": {},
   "outputs": [
    {
     "data": {
      "text/plain": [
       "1"
      ]
     },
     "execution_count": 30,
     "metadata": {},
     "output_type": "execute_result"
    }
   ],
   "source": [
    "df_pittsburgh['STATION'].nunique()"
   ]
  },
  {
   "cell_type": "code",
   "execution_count": null,
   "id": "987cc270-1988-4c9c-a860-dd4005367918",
   "metadata": {},
   "outputs": [],
   "source": [
    "# Dates need to bw updated here because Pittsburgh is in a DateTime format and Seattle is in a String format."
   ]
  },
  {
   "cell_type": "code",
   "execution_count": 31,
   "id": "c74991dc-80f1-4770-b3ad-dad3bf510ae3",
   "metadata": {},
   "outputs": [
    {
     "data": {
      "text/plain": [
       "0         1/1/18\n",
       "1         1/2/18\n",
       "2         1/3/18\n",
       "3         1/4/18\n",
       "4         1/5/18\n",
       "          ...   \n",
       "1653    12/27/22\n",
       "1654    12/28/22\n",
       "1655    12/29/22\n",
       "1656    12/30/22\n",
       "1657    12/31/22\n",
       "Name: DATE, Length: 1658, dtype: object"
      ]
     },
     "execution_count": 31,
     "metadata": {},
     "output_type": "execute_result"
    }
   ],
   "source": [
    "df_seattle['DATE']"
   ]
  },
  {
   "cell_type": "code",
   "execution_count": 32,
   "id": "5ff81d26-486f-42c7-814b-e5e0c2deb12a",
   "metadata": {},
   "outputs": [
    {
     "data": {
      "text/plain": [
       "0       2018-01-01\n",
       "1       2018-01-02\n",
       "2       2018-01-03\n",
       "3       2018-01-04\n",
       "4       2018-01-05\n",
       "           ...    \n",
       "1821    2022-12-27\n",
       "1822    2022-12-28\n",
       "1823    2022-12-29\n",
       "1824    2022-12-30\n",
       "1825    2022-12-31\n",
       "Name: DATE, Length: 1826, dtype: object"
      ]
     },
     "execution_count": 32,
     "metadata": {},
     "output_type": "execute_result"
    }
   ],
   "source": [
    "df_pittsburgh['DATE']"
   ]
  },
  {
   "cell_type": "code",
   "execution_count": 33,
   "id": "9e4083d5-f832-43a1-9d13-51aec18b8cb7",
   "metadata": {},
   "outputs": [
    {
     "data": {
      "text/plain": [
       "'9/9/22'"
      ]
     },
     "execution_count": 33,
     "metadata": {},
     "output_type": "execute_result"
    }
   ],
   "source": [
    "df_seattle['DATE'].max()"
   ]
  },
  {
   "cell_type": "code",
   "execution_count": 34,
   "id": "64ad3ebc-c537-4889-bacf-c3bf05fdcc6f",
   "metadata": {},
   "outputs": [
    {
     "data": {
      "text/plain": [
       "'2022-12-31'"
      ]
     },
     "execution_count": 34,
     "metadata": {},
     "output_type": "execute_result"
    }
   ],
   "source": [
    "df_pittsburgh['DATE'].max()"
   ]
  },
  {
   "cell_type": "code",
   "execution_count": 35,
   "id": "acf4b6a7-404b-463a-b605-c655e05a0779",
   "metadata": {},
   "outputs": [
    {
     "name": "stderr",
     "output_type": "stream",
     "text": [
      "/var/folders/j8/rt19hmcs2rx__jyns29v73q40000gn/T/ipykernel_56760/1899654232.py:2: UserWarning: Could not infer format, so each element will be parsed individually, falling back to `dateutil`. To ensure parsing is consistent and as-expected, please specify a format.\n",
      "  df_seattle['DATE'] = pd.to_datetime(df_seattle['DATE'])\n"
     ]
    }
   ],
   "source": [
    "# Seattle data needs to be converted from string to datetime format\n",
    "df_seattle['DATE'] = pd.to_datetime(df_seattle['DATE'])"
   ]
  },
  {
   "cell_type": "code",
   "execution_count": 37,
   "id": "b14f0f74-cf94-477d-a3c8-5d2c607974d5",
   "metadata": {},
   "outputs": [],
   "source": [
    "df_pittsburgh['DATE'] = pd.to_datetime(df_pittsburgh['DATE'])"
   ]
  },
  {
   "cell_type": "code",
   "execution_count": 39,
   "id": "da9bfc9e-3e22-4c84-a7b7-3026d0db80a5",
   "metadata": {},
   "outputs": [
    {
     "data": {
      "text/plain": [
       "Timestamp('2018-01-01 00:00:00')"
      ]
     },
     "execution_count": 39,
     "metadata": {},
     "output_type": "execute_result"
    }
   ],
   "source": [
    "# Checks if update was made properly\n",
    "df_seattle['DATE'].min()"
   ]
  },
  {
   "cell_type": "code",
   "execution_count": 40,
   "id": "15239201-1220-467d-9bd8-4ed9d4a6f2a9",
   "metadata": {},
   "outputs": [
    {
     "data": {
      "text/plain": [
       "Timestamp('2022-12-31 00:00:00')"
      ]
     },
     "execution_count": 40,
     "metadata": {},
     "output_type": "execute_result"
    }
   ],
   "source": [
    "df_seattle['DATE'].max()"
   ]
  },
  {
   "cell_type": "code",
   "execution_count": 41,
   "id": "7cd957b2-0315-4909-ac9a-b9d63950787b",
   "metadata": {},
   "outputs": [
    {
     "data": {
      "text/plain": [
       "Timestamp('2018-01-01 00:00:00')"
      ]
     },
     "execution_count": 41,
     "metadata": {},
     "output_type": "execute_result"
    }
   ],
   "source": [
    "df_pittsburgh['DATE'].min()"
   ]
  },
  {
   "cell_type": "code",
   "execution_count": 42,
   "id": "d6b34681-05b8-4ef0-8a75-68acd3f99ff1",
   "metadata": {},
   "outputs": [
    {
     "data": {
      "text/plain": [
       "Timestamp('2022-12-31 00:00:00')"
      ]
     },
     "execution_count": 42,
     "metadata": {},
     "output_type": "execute_result"
    }
   ],
   "source": [
    "df_pittsburgh['DATE'].max()"
   ]
  },
  {
   "cell_type": "code",
   "execution_count": 43,
   "id": "3398bdfd-c5a2-45da-88a2-f30fe48ad515",
   "metadata": {},
   "outputs": [
    {
     "data": {
      "text/plain": [
       "min   2018-01-01\n",
       "max   2022-12-31\n",
       "Name: DATE, dtype: datetime64[ns]"
      ]
     },
     "execution_count": 43,
     "metadata": {},
     "output_type": "execute_result"
    }
   ],
   "source": [
    "df_seattle['DATE'].agg(['min','max'])"
   ]
  },
  {
   "cell_type": "code",
   "execution_count": 44,
   "id": "bdce608b-4148-4695-85fc-6dbdb90cc05f",
   "metadata": {},
   "outputs": [
    {
     "data": {
      "text/plain": [
       "min   2018-01-01\n",
       "max   2022-12-31\n",
       "Name: DATE, dtype: datetime64[ns]"
      ]
     },
     "execution_count": 44,
     "metadata": {},
     "output_type": "execute_result"
    }
   ],
   "source": [
    "df_pittsburgh['DATE'].agg(['min','max'])"
   ]
  },
  {
   "cell_type": "code",
   "execution_count": null,
   "id": "5c77a278-4de8-4491-851c-686f67d18972",
   "metadata": {},
   "outputs": [],
   "source": [
    "# Dataplots show a difference between the Seattle and Pittsburgh datasets, and identify a key issue in Seattle's data collection."
   ]
  },
  {
   "cell_type": "code",
   "execution_count": 45,
   "id": "19e5638a-6ef2-47bb-bcac-c84695997147",
   "metadata": {},
   "outputs": [
    {
     "data": {
      "image/png": "[encoded data removed]",
      "text/plain": [
       "<Figure size 2000x500 with 1 Axes>"
      ]
     },
     "metadata": {},
     "output_type": "display_data"
    }
   ],
   "source": [
    "plt.figure(figsize=(20,5))\n",
    "\n",
    "sns.lineplot(data=df_seattle, x='DATE', y='PRCP')\n",
    "\n",
    "plt.xlabel('Date', fontsize=18)\n",
    "plt.ylabel('Precipitation (inches)', fontsize=18)\n",
    "\n",
    "plt.tick_params(labelsize=15)\n",
    "\n",
    "plt.show()"
   ]
  },
  {
   "cell_type": "code",
   "execution_count": 46,
   "id": "aaa1ff93-8d34-478d-a1e5-f48123c58092",
   "metadata": {},
   "outputs": [
    {
     "data": {
      "image/png": "[encoded data removed]",
      "text/plain": [
       "<Figure size 2000x500 with 1 Axes>"
      ]
     },
     "metadata": {},
     "output_type": "display_data"
    }
   ],
   "source": [
    "plt.figure(figsize=(20,5))\n",
    "\n",
    "sns.lineplot(data=df_pittsburgh, x='DATE', y='PRCP')\n",
    "\n",
    "plt.xlabel('Date', fontsize=18)\n",
    "plt.ylabel('Precipitation (inches)', fontsize=18)\n",
    "\n",
    "plt.tick_params(labelsize=15)\n",
    "\n",
    "plt.show()"
   ]
  },
  {
   "cell_type": "code",
   "execution_count": 47,
   "id": "e522a761-07f5-45bf-afa0-d24a927dc027",
   "metadata": {},
   "outputs": [
    {
     "data": {
      "text/html": [
       "<div>\n",
       "<style scoped>\n",
       "    .dataframe tbody tr th:only-of-type {\n",
       "        vertical-align: middle;\n",
       "    }\n",
       "\n",
       "    .dataframe tbody tr th {\n",
       "        vertical-align: top;\n",
       "    }\n",
       "\n",
       "    .dataframe thead th {\n",
       "        text-align: right;\n",
       "    }\n",
       "</style>\n",
       "<table border=\"1\" class=\"dataframe\">\n",
       "  <thead>\n",
       "    <tr style=\"text-align: right;\">\n",
       "      <th></th>\n",
       "      <th>STATION</th>\n",
       "      <th>NAME</th>\n",
       "      <th>DATE</th>\n",
       "      <th>PRCP</th>\n",
       "      <th>SNOW</th>\n",
       "      <th>SNWD</th>\n",
       "    </tr>\n",
       "  </thead>\n",
       "  <tbody>\n",
       "    <tr>\n",
       "      <th>0</th>\n",
       "      <td>USW00094823</td>\n",
       "      <td>PITTSBURGH INTERNATIONAL AIRPORT, PA US</td>\n",
       "      <td>2018-01-01</td>\n",
       "      <td>0.0</td>\n",
       "      <td>0.0</td>\n",
       "      <td>3.1</td>\n",
       "    </tr>\n",
       "    <tr>\n",
       "      <th>1</th>\n",
       "      <td>USW00094823</td>\n",
       "      <td>PITTSBURGH INTERNATIONAL AIRPORT, PA US</td>\n",
       "      <td>2018-01-02</td>\n",
       "      <td>0.0</td>\n",
       "      <td>0.0</td>\n",
       "      <td>2.0</td>\n",
       "    </tr>\n",
       "    <tr>\n",
       "      <th>2</th>\n",
       "      <td>USW00094823</td>\n",
       "      <td>PITTSBURGH INTERNATIONAL AIRPORT, PA US</td>\n",
       "      <td>2018-01-03</td>\n",
       "      <td>0.0</td>\n",
       "      <td>0.0</td>\n",
       "      <td>2.0</td>\n",
       "    </tr>\n",
       "    <tr>\n",
       "      <th>3</th>\n",
       "      <td>USW00094823</td>\n",
       "      <td>PITTSBURGH INTERNATIONAL AIRPORT, PA US</td>\n",
       "      <td>2018-01-04</td>\n",
       "      <td>0.0</td>\n",
       "      <td>0.9</td>\n",
       "      <td>2.0</td>\n",
       "    </tr>\n",
       "    <tr>\n",
       "      <th>4</th>\n",
       "      <td>USW00094823</td>\n",
       "      <td>PITTSBURGH INTERNATIONAL AIRPORT, PA US</td>\n",
       "      <td>2018-01-05</td>\n",
       "      <td>0.0</td>\n",
       "      <td>0.0</td>\n",
       "      <td>2.0</td>\n",
       "    </tr>\n",
       "  </tbody>\n",
       "</table>\n",
       "</div>"
      ],
      "text/plain": [
       "       STATION                                     NAME       DATE  PRCP  \\\n",
       "0  USW00094823  PITTSBURGH INTERNATIONAL AIRPORT, PA US 2018-01-01   0.0   \n",
       "1  USW00094823  PITTSBURGH INTERNATIONAL AIRPORT, PA US 2018-01-02   0.0   \n",
       "2  USW00094823  PITTSBURGH INTERNATIONAL AIRPORT, PA US 2018-01-03   0.0   \n",
       "3  USW00094823  PITTSBURGH INTERNATIONAL AIRPORT, PA US 2018-01-04   0.0   \n",
       "4  USW00094823  PITTSBURGH INTERNATIONAL AIRPORT, PA US 2018-01-05   0.0   \n",
       "\n",
       "   SNOW  SNWD  \n",
       "0   0.0   3.1  \n",
       "1   0.0   2.0  \n",
       "2   0.0   2.0  \n",
       "3   0.9   2.0  \n",
       "4   0.0   2.0  "
      ]
     },
     "execution_count": 47,
     "metadata": {},
     "output_type": "execute_result"
    }
   ],
   "source": [
    "df_pittsburgh.head()"
   ]
  },
  {
   "cell_type": "code",
   "execution_count": 48,
   "id": "7df57b36-5d0d-4d07-94a4-8ddd25c09a22",
   "metadata": {},
   "outputs": [],
   "source": [
    "df_pittsburgh = df_pittsburgh.loc[df_pittsburgh['NAME'] == 'PITTSBURGH INTERNATIONAL AIRPORT, PA US']"
   ]
  },
  {
   "cell_type": "code",
   "execution_count": 51,
   "id": "b9781184-876d-4113-b8e4-583f937a624c",
   "metadata": {},
   "outputs": [
    {
     "data": {
      "text/plain": [
       "array(['USW00094823'], dtype=object)"
      ]
     },
     "execution_count": 51,
     "metadata": {},
     "output_type": "execute_result"
    }
   ],
   "source": [
    "df_pittsburgh['STATION'].unique()"
   ]
  },
  {
   "cell_type": "code",
   "execution_count": 52,
   "id": "9ab6a4a0-d5de-4eae-b4ea-177b65cf16ee",
   "metadata": {},
   "outputs": [
    {
     "name": "stdout",
     "output_type": "stream",
     "text": [
      "<class 'pandas.core.frame.DataFrame'>\n",
      "Index: 1826 entries, 0 to 1825\n",
      "Data columns (total 6 columns):\n",
      " #   Column   Non-Null Count  Dtype         \n",
      "---  ------   --------------  -----         \n",
      " 0   STATION  1826 non-null   object        \n",
      " 1   NAME     1826 non-null   object        \n",
      " 2   DATE     1826 non-null   datetime64[ns]\n",
      " 3   PRCP     1826 non-null   float64       \n",
      " 4   SNOW     1826 non-null   float64       \n",
      " 5   SNWD     1826 non-null   float64       \n",
      "dtypes: datetime64[ns](1), float64(3), object(2)\n",
      "memory usage: 99.9+ KB\n"
     ]
    }
   ],
   "source": [
    "df_pittsburgh.info()"
   ]
  },
  {
   "cell_type": "code",
   "execution_count": 53,
   "id": "7c6f5449-1608-4c8c-a4b2-11af35612937",
   "metadata": {},
   "outputs": [
    {
     "data": {
      "text/html": [
       "<div>\n",
       "<style scoped>\n",
       "    .dataframe tbody tr th:only-of-type {\n",
       "        vertical-align: middle;\n",
       "    }\n",
       "\n",
       "    .dataframe tbody tr th {\n",
       "        vertical-align: top;\n",
       "    }\n",
       "\n",
       "    .dataframe thead th {\n",
       "        text-align: right;\n",
       "    }\n",
       "</style>\n",
       "<table border=\"1\" class=\"dataframe\">\n",
       "  <thead>\n",
       "    <tr style=\"text-align: right;\">\n",
       "      <th></th>\n",
       "      <th>STATION</th>\n",
       "      <th>NAME</th>\n",
       "      <th>DATE</th>\n",
       "      <th>DAPR</th>\n",
       "      <th>MDPR</th>\n",
       "      <th>PRCP</th>\n",
       "      <th>SNOW</th>\n",
       "      <th>SNWD</th>\n",
       "      <th>WESD</th>\n",
       "      <th>WESF</th>\n",
       "    </tr>\n",
       "  </thead>\n",
       "  <tbody>\n",
       "    <tr>\n",
       "      <th>0</th>\n",
       "      <td>US1WAKG0225</td>\n",
       "      <td>SEATTLE 2.1 ESE, WA US</td>\n",
       "      <td>2018-01-01</td>\n",
       "      <td>NaN</td>\n",
       "      <td>NaN</td>\n",
       "      <td>0.0</td>\n",
       "      <td>NaN</td>\n",
       "      <td>NaN</td>\n",
       "      <td>NaN</td>\n",
       "      <td>NaN</td>\n",
       "    </tr>\n",
       "    <tr>\n",
       "      <th>1</th>\n",
       "      <td>US1WAKG0225</td>\n",
       "      <td>SEATTLE 2.1 ESE, WA US</td>\n",
       "      <td>2018-01-02</td>\n",
       "      <td>NaN</td>\n",
       "      <td>NaN</td>\n",
       "      <td>0.0</td>\n",
       "      <td>NaN</td>\n",
       "      <td>NaN</td>\n",
       "      <td>NaN</td>\n",
       "      <td>NaN</td>\n",
       "    </tr>\n",
       "  </tbody>\n",
       "</table>\n",
       "</div>"
      ],
      "text/plain": [
       "       STATION                    NAME       DATE  DAPR  MDPR  PRCP  SNOW  \\\n",
       "0  US1WAKG0225  SEATTLE 2.1 ESE, WA US 2018-01-01   NaN   NaN   0.0   NaN   \n",
       "1  US1WAKG0225  SEATTLE 2.1 ESE, WA US 2018-01-02   NaN   NaN   0.0   NaN   \n",
       "\n",
       "   SNWD  WESD  WESF  \n",
       "0   NaN   NaN   NaN  \n",
       "1   NaN   NaN   NaN  "
      ]
     },
     "execution_count": 53,
     "metadata": {},
     "output_type": "execute_result"
    }
   ],
   "source": [
    "df_seattle.head(2)"
   ]
  },
  {
   "cell_type": "code",
   "execution_count": 54,
   "id": "e9eeeb43-ece4-4929-8fed-b4ff37279893",
   "metadata": {},
   "outputs": [
    {
     "data": {
      "text/html": [
       "<div>\n",
       "<style scoped>\n",
       "    .dataframe tbody tr th:only-of-type {\n",
       "        vertical-align: middle;\n",
       "    }\n",
       "\n",
       "    .dataframe tbody tr th {\n",
       "        vertical-align: top;\n",
       "    }\n",
       "\n",
       "    .dataframe thead th {\n",
       "        text-align: right;\n",
       "    }\n",
       "</style>\n",
       "<table border=\"1\" class=\"dataframe\">\n",
       "  <thead>\n",
       "    <tr style=\"text-align: right;\">\n",
       "      <th></th>\n",
       "      <th>STATION</th>\n",
       "      <th>NAME</th>\n",
       "      <th>DATE</th>\n",
       "      <th>PRCP</th>\n",
       "      <th>SNOW</th>\n",
       "      <th>SNWD</th>\n",
       "    </tr>\n",
       "  </thead>\n",
       "  <tbody>\n",
       "    <tr>\n",
       "      <th>0</th>\n",
       "      <td>USW00094823</td>\n",
       "      <td>PITTSBURGH INTERNATIONAL AIRPORT, PA US</td>\n",
       "      <td>2018-01-01</td>\n",
       "      <td>0.0</td>\n",
       "      <td>0.0</td>\n",
       "      <td>3.1</td>\n",
       "    </tr>\n",
       "    <tr>\n",
       "      <th>1</th>\n",
       "      <td>USW00094823</td>\n",
       "      <td>PITTSBURGH INTERNATIONAL AIRPORT, PA US</td>\n",
       "      <td>2018-01-02</td>\n",
       "      <td>0.0</td>\n",
       "      <td>0.0</td>\n",
       "      <td>2.0</td>\n",
       "    </tr>\n",
       "  </tbody>\n",
       "</table>\n",
       "</div>"
      ],
      "text/plain": [
       "       STATION                                     NAME       DATE  PRCP  \\\n",
       "0  USW00094823  PITTSBURGH INTERNATIONAL AIRPORT, PA US 2018-01-01   0.0   \n",
       "1  USW00094823  PITTSBURGH INTERNATIONAL AIRPORT, PA US 2018-01-02   0.0   \n",
       "\n",
       "   SNOW  SNWD  \n",
       "0   0.0   3.1  \n",
       "1   0.0   2.0  "
      ]
     },
     "execution_count": 54,
     "metadata": {},
     "output_type": "execute_result"
    }
   ],
   "source": [
    "df_pittsburgh.head(2)"
   ]
  },
  {
   "cell_type": "code",
   "execution_count": 58,
   "id": "a716499d-0384-4567-94c2-50d5ef80d41d",
   "metadata": {},
   "outputs": [],
   "source": [
    "# outer join merge because we want to directly compare every day(w/ nulls) of SEA & PIT.\n",
    "# inner join merge would apply if we only wantedto assess non-nulls directly.\n",
    "df = df_pittsburgh[['DATE', 'PRCP']].merge(df_seattle[['DATE','PRCP']], on='DATE', how='outer')"
   ]
  },
  {
   "cell_type": "code",
   "execution_count": 59,
   "id": "9cec2466-f195-4e13-9cc8-3c3af57b9d4a",
   "metadata": {},
   "outputs": [
    {
     "data": {
      "text/html": [
       "<div>\n",
       "<style scoped>\n",
       "    .dataframe tbody tr th:only-of-type {\n",
       "        vertical-align: middle;\n",
       "    }\n",
       "\n",
       "    .dataframe tbody tr th {\n",
       "        vertical-align: top;\n",
       "    }\n",
       "\n",
       "    .dataframe thead th {\n",
       "        text-align: right;\n",
       "    }\n",
       "</style>\n",
       "<table border=\"1\" class=\"dataframe\">\n",
       "  <thead>\n",
       "    <tr style=\"text-align: right;\">\n",
       "      <th></th>\n",
       "      <th>DATE</th>\n",
       "      <th>PRCP_x</th>\n",
       "      <th>PRCP_y</th>\n",
       "    </tr>\n",
       "  </thead>\n",
       "  <tbody>\n",
       "    <tr>\n",
       "      <th>0</th>\n",
       "      <td>2018-01-01</td>\n",
       "      <td>0.0</td>\n",
       "      <td>0.00</td>\n",
       "    </tr>\n",
       "    <tr>\n",
       "      <th>1</th>\n",
       "      <td>2018-01-02</td>\n",
       "      <td>0.0</td>\n",
       "      <td>0.00</td>\n",
       "    </tr>\n",
       "    <tr>\n",
       "      <th>2</th>\n",
       "      <td>2018-01-03</td>\n",
       "      <td>0.0</td>\n",
       "      <td>0.00</td>\n",
       "    </tr>\n",
       "    <tr>\n",
       "      <th>3</th>\n",
       "      <td>2018-01-04</td>\n",
       "      <td>0.0</td>\n",
       "      <td>0.00</td>\n",
       "    </tr>\n",
       "    <tr>\n",
       "      <th>4</th>\n",
       "      <td>2018-01-05</td>\n",
       "      <td>0.0</td>\n",
       "      <td>0.25</td>\n",
       "    </tr>\n",
       "  </tbody>\n",
       "</table>\n",
       "</div>"
      ],
      "text/plain": [
       "        DATE  PRCP_x  PRCP_y\n",
       "0 2018-01-01     0.0    0.00\n",
       "1 2018-01-02     0.0    0.00\n",
       "2 2018-01-03     0.0    0.00\n",
       "3 2018-01-04     0.0    0.00\n",
       "4 2018-01-05     0.0    0.25"
      ]
     },
     "execution_count": 59,
     "metadata": {},
     "output_type": "execute_result"
    }
   ],
   "source": [
    "df.head()"
   ]
  },
  {
   "cell_type": "code",
   "execution_count": 60,
   "id": "ea114a99-6b73-42b1-bfe5-877e8b67d870",
   "metadata": {},
   "outputs": [
    {
     "data": {
      "text/html": [
       "<div>\n",
       "<style scoped>\n",
       "    .dataframe tbody tr th:only-of-type {\n",
       "        vertical-align: middle;\n",
       "    }\n",
       "\n",
       "    .dataframe tbody tr th {\n",
       "        vertical-align: top;\n",
       "    }\n",
       "\n",
       "    .dataframe thead th {\n",
       "        text-align: right;\n",
       "    }\n",
       "</style>\n",
       "<table border=\"1\" class=\"dataframe\">\n",
       "  <thead>\n",
       "    <tr style=\"text-align: right;\">\n",
       "      <th></th>\n",
       "      <th>DATE</th>\n",
       "      <th>PRCP_x</th>\n",
       "      <th>PRCP_y</th>\n",
       "    </tr>\n",
       "  </thead>\n",
       "  <tbody>\n",
       "    <tr>\n",
       "      <th>0</th>\n",
       "      <td>2018-01-01</td>\n",
       "      <td>0.00</td>\n",
       "      <td>0.00</td>\n",
       "    </tr>\n",
       "    <tr>\n",
       "      <th>1</th>\n",
       "      <td>2018-01-02</td>\n",
       "      <td>0.00</td>\n",
       "      <td>0.00</td>\n",
       "    </tr>\n",
       "    <tr>\n",
       "      <th>2</th>\n",
       "      <td>2018-01-03</td>\n",
       "      <td>0.00</td>\n",
       "      <td>0.00</td>\n",
       "    </tr>\n",
       "    <tr>\n",
       "      <th>3</th>\n",
       "      <td>2018-01-04</td>\n",
       "      <td>0.00</td>\n",
       "      <td>0.00</td>\n",
       "    </tr>\n",
       "    <tr>\n",
       "      <th>4</th>\n",
       "      <td>2018-01-05</td>\n",
       "      <td>0.00</td>\n",
       "      <td>0.25</td>\n",
       "    </tr>\n",
       "    <tr>\n",
       "      <th>...</th>\n",
       "      <td>...</td>\n",
       "      <td>...</td>\n",
       "      <td>...</td>\n",
       "    </tr>\n",
       "    <tr>\n",
       "      <th>1821</th>\n",
       "      <td>2022-12-27</td>\n",
       "      <td>0.00</td>\n",
       "      <td>0.78</td>\n",
       "    </tr>\n",
       "    <tr>\n",
       "      <th>1822</th>\n",
       "      <td>2022-12-28</td>\n",
       "      <td>0.00</td>\n",
       "      <td>0.40</td>\n",
       "    </tr>\n",
       "    <tr>\n",
       "      <th>1823</th>\n",
       "      <td>2022-12-29</td>\n",
       "      <td>0.00</td>\n",
       "      <td>0.03</td>\n",
       "    </tr>\n",
       "    <tr>\n",
       "      <th>1824</th>\n",
       "      <td>2022-12-30</td>\n",
       "      <td>0.00</td>\n",
       "      <td>0.62</td>\n",
       "    </tr>\n",
       "    <tr>\n",
       "      <th>1825</th>\n",
       "      <td>2022-12-31</td>\n",
       "      <td>0.12</td>\n",
       "      <td>0.17</td>\n",
       "    </tr>\n",
       "  </tbody>\n",
       "</table>\n",
       "<p>1826 rows × 3 columns</p>\n",
       "</div>"
      ],
      "text/plain": [
       "           DATE  PRCP_x  PRCP_y\n",
       "0    2018-01-01    0.00    0.00\n",
       "1    2018-01-02    0.00    0.00\n",
       "2    2018-01-03    0.00    0.00\n",
       "3    2018-01-04    0.00    0.00\n",
       "4    2018-01-05    0.00    0.25\n",
       "...         ...     ...     ...\n",
       "1821 2022-12-27    0.00    0.78\n",
       "1822 2022-12-28    0.00    0.40\n",
       "1823 2022-12-29    0.00    0.03\n",
       "1824 2022-12-30    0.00    0.62\n",
       "1825 2022-12-31    0.12    0.17\n",
       "\n",
       "[1826 rows x 3 columns]"
      ]
     },
     "execution_count": 60,
     "metadata": {},
     "output_type": "execute_result"
    }
   ],
   "source": [
    "df"
   ]
  },
  {
   "cell_type": "code",
   "execution_count": null,
   "id": "6f29ea36-48ff-450e-ade9-3b5888374c78",
   "metadata": {},
   "outputs": [],
   "source": [
    "# We use melt to combine both datasets, along with updating the format of the table as well."
   ]
  },
  {
   "cell_type": "code",
   "execution_count": 61,
   "id": "9f650388-01f2-4437-9bb6-ed41d58d27b7",
   "metadata": {},
   "outputs": [],
   "source": [
    "df = pd.melt(df, id_vars='DATE', var_name='city', value_name='precipitation')"
   ]
  },
  {
   "cell_type": "code",
   "execution_count": 62,
   "id": "8a5cc1f9-3040-4bf7-bcfb-b64c8c4c0503",
   "metadata": {},
   "outputs": [
    {
     "data": {
      "text/html": [
       "<div>\n",
       "<style scoped>\n",
       "    .dataframe tbody tr th:only-of-type {\n",
       "        vertical-align: middle;\n",
       "    }\n",
       "\n",
       "    .dataframe tbody tr th {\n",
       "        vertical-align: top;\n",
       "    }\n",
       "\n",
       "    .dataframe thead th {\n",
       "        text-align: right;\n",
       "    }\n",
       "</style>\n",
       "<table border=\"1\" class=\"dataframe\">\n",
       "  <thead>\n",
       "    <tr style=\"text-align: right;\">\n",
       "      <th></th>\n",
       "      <th>DATE</th>\n",
       "      <th>city</th>\n",
       "      <th>precipitation</th>\n",
       "    </tr>\n",
       "  </thead>\n",
       "  <tbody>\n",
       "    <tr>\n",
       "      <th>0</th>\n",
       "      <td>2018-01-01</td>\n",
       "      <td>PRCP_x</td>\n",
       "      <td>0.0</td>\n",
       "    </tr>\n",
       "    <tr>\n",
       "      <th>1</th>\n",
       "      <td>2018-01-02</td>\n",
       "      <td>PRCP_x</td>\n",
       "      <td>0.0</td>\n",
       "    </tr>\n",
       "    <tr>\n",
       "      <th>2</th>\n",
       "      <td>2018-01-03</td>\n",
       "      <td>PRCP_x</td>\n",
       "      <td>0.0</td>\n",
       "    </tr>\n",
       "    <tr>\n",
       "      <th>3</th>\n",
       "      <td>2018-01-04</td>\n",
       "      <td>PRCP_x</td>\n",
       "      <td>0.0</td>\n",
       "    </tr>\n",
       "    <tr>\n",
       "      <th>4</th>\n",
       "      <td>2018-01-05</td>\n",
       "      <td>PRCP_x</td>\n",
       "      <td>0.0</td>\n",
       "    </tr>\n",
       "  </tbody>\n",
       "</table>\n",
       "</div>"
      ],
      "text/plain": [
       "        DATE    city  precipitation\n",
       "0 2018-01-01  PRCP_x            0.0\n",
       "1 2018-01-02  PRCP_x            0.0\n",
       "2 2018-01-03  PRCP_x            0.0\n",
       "3 2018-01-04  PRCP_x            0.0\n",
       "4 2018-01-05  PRCP_x            0.0"
      ]
     },
     "execution_count": 62,
     "metadata": {},
     "output_type": "execute_result"
    }
   ],
   "source": [
    "df.head()"
   ]
  },
  {
   "cell_type": "code",
   "execution_count": 63,
   "id": "706f2e25-f29a-4d43-9ada-650ebeed985e",
   "metadata": {},
   "outputs": [
    {
     "data": {
      "text/html": [
       "<div>\n",
       "<style scoped>\n",
       "    .dataframe tbody tr th:only-of-type {\n",
       "        vertical-align: middle;\n",
       "    }\n",
       "\n",
       "    .dataframe tbody tr th {\n",
       "        vertical-align: top;\n",
       "    }\n",
       "\n",
       "    .dataframe thead th {\n",
       "        text-align: right;\n",
       "    }\n",
       "</style>\n",
       "<table border=\"1\" class=\"dataframe\">\n",
       "  <thead>\n",
       "    <tr style=\"text-align: right;\">\n",
       "      <th></th>\n",
       "      <th>DATE</th>\n",
       "      <th>city</th>\n",
       "      <th>precipitation</th>\n",
       "    </tr>\n",
       "  </thead>\n",
       "  <tbody>\n",
       "    <tr>\n",
       "      <th>3647</th>\n",
       "      <td>2022-12-27</td>\n",
       "      <td>PRCP_y</td>\n",
       "      <td>0.78</td>\n",
       "    </tr>\n",
       "    <tr>\n",
       "      <th>3648</th>\n",
       "      <td>2022-12-28</td>\n",
       "      <td>PRCP_y</td>\n",
       "      <td>0.40</td>\n",
       "    </tr>\n",
       "    <tr>\n",
       "      <th>3649</th>\n",
       "      <td>2022-12-29</td>\n",
       "      <td>PRCP_y</td>\n",
       "      <td>0.03</td>\n",
       "    </tr>\n",
       "    <tr>\n",
       "      <th>3650</th>\n",
       "      <td>2022-12-30</td>\n",
       "      <td>PRCP_y</td>\n",
       "      <td>0.62</td>\n",
       "    </tr>\n",
       "    <tr>\n",
       "      <th>3651</th>\n",
       "      <td>2022-12-31</td>\n",
       "      <td>PRCP_y</td>\n",
       "      <td>0.17</td>\n",
       "    </tr>\n",
       "  </tbody>\n",
       "</table>\n",
       "</div>"
      ],
      "text/plain": [
       "           DATE    city  precipitation\n",
       "3647 2022-12-27  PRCP_y           0.78\n",
       "3648 2022-12-28  PRCP_y           0.40\n",
       "3649 2022-12-29  PRCP_y           0.03\n",
       "3650 2022-12-30  PRCP_y           0.62\n",
       "3651 2022-12-31  PRCP_y           0.17"
      ]
     },
     "execution_count": 63,
     "metadata": {},
     "output_type": "execute_result"
    }
   ],
   "source": [
    "df.tail()"
   ]
  },
  {
   "cell_type": "code",
   "execution_count": 74,
   "id": "1f37a274-48d4-4b99-baf4-5f9b2714b9fa",
   "metadata": {},
   "outputs": [],
   "source": [
    "df.loc[df['city'] == 'PRCP_x', 'city'] = 'PIT'"
   ]
  },
  {
   "cell_type": "code",
   "execution_count": 75,
   "id": "ee613ea0-d36a-4999-9cb3-d1052211e9c6",
   "metadata": {},
   "outputs": [],
   "source": [
    "df.loc[df['city'] == 'PRCP_y', 'city'] = 'SEA'"
   ]
  },
  {
   "cell_type": "code",
   "execution_count": 76,
   "id": "1cd32c7e-832b-414f-8519-e42794bb09f1",
   "metadata": {},
   "outputs": [
    {
     "data": {
      "text/html": [
       "<div>\n",
       "<style scoped>\n",
       "    .dataframe tbody tr th:only-of-type {\n",
       "        vertical-align: middle;\n",
       "    }\n",
       "\n",
       "    .dataframe tbody tr th {\n",
       "        vertical-align: top;\n",
       "    }\n",
       "\n",
       "    .dataframe thead th {\n",
       "        text-align: right;\n",
       "    }\n",
       "</style>\n",
       "<table border=\"1\" class=\"dataframe\">\n",
       "  <thead>\n",
       "    <tr style=\"text-align: right;\">\n",
       "      <th></th>\n",
       "      <th>DATE</th>\n",
       "      <th>city</th>\n",
       "      <th>precipitation</th>\n",
       "    </tr>\n",
       "  </thead>\n",
       "  <tbody>\n",
       "    <tr>\n",
       "      <th>0</th>\n",
       "      <td>2018-01-01</td>\n",
       "      <td>PIT</td>\n",
       "      <td>0.00</td>\n",
       "    </tr>\n",
       "    <tr>\n",
       "      <th>1</th>\n",
       "      <td>2018-01-02</td>\n",
       "      <td>PIT</td>\n",
       "      <td>0.00</td>\n",
       "    </tr>\n",
       "    <tr>\n",
       "      <th>2</th>\n",
       "      <td>2018-01-03</td>\n",
       "      <td>PIT</td>\n",
       "      <td>0.00</td>\n",
       "    </tr>\n",
       "    <tr>\n",
       "      <th>3</th>\n",
       "      <td>2018-01-04</td>\n",
       "      <td>PIT</td>\n",
       "      <td>0.00</td>\n",
       "    </tr>\n",
       "    <tr>\n",
       "      <th>4</th>\n",
       "      <td>2018-01-05</td>\n",
       "      <td>PIT</td>\n",
       "      <td>0.00</td>\n",
       "    </tr>\n",
       "    <tr>\n",
       "      <th>5</th>\n",
       "      <td>2018-01-06</td>\n",
       "      <td>PIT</td>\n",
       "      <td>0.00</td>\n",
       "    </tr>\n",
       "    <tr>\n",
       "      <th>6</th>\n",
       "      <td>2018-01-07</td>\n",
       "      <td>PIT</td>\n",
       "      <td>0.00</td>\n",
       "    </tr>\n",
       "    <tr>\n",
       "      <th>7</th>\n",
       "      <td>2018-01-08</td>\n",
       "      <td>PIT</td>\n",
       "      <td>0.24</td>\n",
       "    </tr>\n",
       "    <tr>\n",
       "      <th>8</th>\n",
       "      <td>2018-01-09</td>\n",
       "      <td>PIT</td>\n",
       "      <td>0.00</td>\n",
       "    </tr>\n",
       "    <tr>\n",
       "      <th>9</th>\n",
       "      <td>2018-01-10</td>\n",
       "      <td>PIT</td>\n",
       "      <td>0.00</td>\n",
       "    </tr>\n",
       "  </tbody>\n",
       "</table>\n",
       "</div>"
      ],
      "text/plain": [
       "        DATE city  precipitation\n",
       "0 2018-01-01  PIT           0.00\n",
       "1 2018-01-02  PIT           0.00\n",
       "2 2018-01-03  PIT           0.00\n",
       "3 2018-01-04  PIT           0.00\n",
       "4 2018-01-05  PIT           0.00\n",
       "5 2018-01-06  PIT           0.00\n",
       "6 2018-01-07  PIT           0.00\n",
       "7 2018-01-08  PIT           0.24\n",
       "8 2018-01-09  PIT           0.00\n",
       "9 2018-01-10  PIT           0.00"
      ]
     },
     "execution_count": 76,
     "metadata": {},
     "output_type": "execute_result"
    }
   ],
   "source": [
    "df.head(10)"
   ]
  },
  {
   "cell_type": "code",
   "execution_count": 79,
   "id": "387c9509-fca3-4ce6-9f53-d870d46f93b2",
   "metadata": {},
   "outputs": [
    {
     "data": {
      "text/html": [
       "<div>\n",
       "<style scoped>\n",
       "    .dataframe tbody tr th:only-of-type {\n",
       "        vertical-align: middle;\n",
       "    }\n",
       "\n",
       "    .dataframe tbody tr th {\n",
       "        vertical-align: top;\n",
       "    }\n",
       "\n",
       "    .dataframe thead th {\n",
       "        text-align: right;\n",
       "    }\n",
       "</style>\n",
       "<table border=\"1\" class=\"dataframe\">\n",
       "  <thead>\n",
       "    <tr style=\"text-align: right;\">\n",
       "      <th></th>\n",
       "      <th>DATE</th>\n",
       "      <th>city</th>\n",
       "      <th>precipitation</th>\n",
       "    </tr>\n",
       "  </thead>\n",
       "  <tbody>\n",
       "    <tr>\n",
       "      <th>3642</th>\n",
       "      <td>2022-12-22</td>\n",
       "      <td>SEA</td>\n",
       "      <td>0.03</td>\n",
       "    </tr>\n",
       "    <tr>\n",
       "      <th>3643</th>\n",
       "      <td>2022-12-23</td>\n",
       "      <td>SEA</td>\n",
       "      <td>0.27</td>\n",
       "    </tr>\n",
       "    <tr>\n",
       "      <th>3644</th>\n",
       "      <td>2022-12-24</td>\n",
       "      <td>SEA</td>\n",
       "      <td>0.52</td>\n",
       "    </tr>\n",
       "    <tr>\n",
       "      <th>3645</th>\n",
       "      <td>2022-12-25</td>\n",
       "      <td>SEA</td>\n",
       "      <td>0.86</td>\n",
       "    </tr>\n",
       "    <tr>\n",
       "      <th>3646</th>\n",
       "      <td>2022-12-26</td>\n",
       "      <td>SEA</td>\n",
       "      <td>1.37</td>\n",
       "    </tr>\n",
       "    <tr>\n",
       "      <th>3647</th>\n",
       "      <td>2022-12-27</td>\n",
       "      <td>SEA</td>\n",
       "      <td>0.78</td>\n",
       "    </tr>\n",
       "    <tr>\n",
       "      <th>3648</th>\n",
       "      <td>2022-12-28</td>\n",
       "      <td>SEA</td>\n",
       "      <td>0.40</td>\n",
       "    </tr>\n",
       "    <tr>\n",
       "      <th>3649</th>\n",
       "      <td>2022-12-29</td>\n",
       "      <td>SEA</td>\n",
       "      <td>0.03</td>\n",
       "    </tr>\n",
       "    <tr>\n",
       "      <th>3650</th>\n",
       "      <td>2022-12-30</td>\n",
       "      <td>SEA</td>\n",
       "      <td>0.62</td>\n",
       "    </tr>\n",
       "    <tr>\n",
       "      <th>3651</th>\n",
       "      <td>2022-12-31</td>\n",
       "      <td>SEA</td>\n",
       "      <td>0.17</td>\n",
       "    </tr>\n",
       "  </tbody>\n",
       "</table>\n",
       "</div>"
      ],
      "text/plain": [
       "           DATE city  precipitation\n",
       "3642 2022-12-22  SEA           0.03\n",
       "3643 2022-12-23  SEA           0.27\n",
       "3644 2022-12-24  SEA           0.52\n",
       "3645 2022-12-25  SEA           0.86\n",
       "3646 2022-12-26  SEA           1.37\n",
       "3647 2022-12-27  SEA           0.78\n",
       "3648 2022-12-28  SEA           0.40\n",
       "3649 2022-12-29  SEA           0.03\n",
       "3650 2022-12-30  SEA           0.62\n",
       "3651 2022-12-31  SEA           0.17"
      ]
     },
     "execution_count": 79,
     "metadata": {},
     "output_type": "execute_result"
    }
   ],
   "source": [
    "df.tail(10)"
   ]
  },
  {
   "cell_type": "code",
   "execution_count": 81,
   "id": "b27183cf-9790-4bdb-a6a1-4dd9e1618f6a",
   "metadata": {},
   "outputs": [],
   "source": [
    "df = df.rename(columns={'DATE': 'date'})"
   ]
  },
  {
   "cell_type": "code",
   "execution_count": 82,
   "id": "c8bc0f6b-b9c6-40a3-92c1-f99d140c7af5",
   "metadata": {},
   "outputs": [
    {
     "data": {
      "text/html": [
       "<div>\n",
       "<style scoped>\n",
       "    .dataframe tbody tr th:only-of-type {\n",
       "        vertical-align: middle;\n",
       "    }\n",
       "\n",
       "    .dataframe tbody tr th {\n",
       "        vertical-align: top;\n",
       "    }\n",
       "\n",
       "    .dataframe thead th {\n",
       "        text-align: right;\n",
       "    }\n",
       "</style>\n",
       "<table border=\"1\" class=\"dataframe\">\n",
       "  <thead>\n",
       "    <tr style=\"text-align: right;\">\n",
       "      <th></th>\n",
       "      <th>date</th>\n",
       "      <th>city</th>\n",
       "      <th>precipitation</th>\n",
       "    </tr>\n",
       "  </thead>\n",
       "  <tbody>\n",
       "    <tr>\n",
       "      <th>0</th>\n",
       "      <td>2018-01-01</td>\n",
       "      <td>PIT</td>\n",
       "      <td>0.0</td>\n",
       "    </tr>\n",
       "    <tr>\n",
       "      <th>1</th>\n",
       "      <td>2018-01-02</td>\n",
       "      <td>PIT</td>\n",
       "      <td>0.0</td>\n",
       "    </tr>\n",
       "    <tr>\n",
       "      <th>2</th>\n",
       "      <td>2018-01-03</td>\n",
       "      <td>PIT</td>\n",
       "      <td>0.0</td>\n",
       "    </tr>\n",
       "    <tr>\n",
       "      <th>3</th>\n",
       "      <td>2018-01-04</td>\n",
       "      <td>PIT</td>\n",
       "      <td>0.0</td>\n",
       "    </tr>\n",
       "    <tr>\n",
       "      <th>4</th>\n",
       "      <td>2018-01-05</td>\n",
       "      <td>PIT</td>\n",
       "      <td>0.0</td>\n",
       "    </tr>\n",
       "  </tbody>\n",
       "</table>\n",
       "</div>"
      ],
      "text/plain": [
       "        date city  precipitation\n",
       "0 2018-01-01  PIT            0.0\n",
       "1 2018-01-02  PIT            0.0\n",
       "2 2018-01-03  PIT            0.0\n",
       "3 2018-01-04  PIT            0.0\n",
       "4 2018-01-05  PIT            0.0"
      ]
     },
     "execution_count": 82,
     "metadata": {},
     "output_type": "execute_result"
    }
   ],
   "source": [
    "df.head()"
   ]
  },
  {
   "cell_type": "code",
   "execution_count": 77,
   "id": "72fe1aac-a01e-40b1-9643-45d23bc4ab81",
   "metadata": {},
   "outputs": [
    {
     "name": "stdout",
     "output_type": "stream",
     "text": [
      "<class 'pandas.core.frame.DataFrame'>\n",
      "RangeIndex: 3652 entries, 0 to 3651\n",
      "Data columns (total 3 columns):\n",
      " #   Column         Non-Null Count  Dtype         \n",
      "---  ------         --------------  -----         \n",
      " 0   DATE           3652 non-null   datetime64[ns]\n",
      " 1   city           3652 non-null   object        \n",
      " 2   precipitation  3462 non-null   float64       \n",
      "dtypes: datetime64[ns](1), float64(1), object(1)\n",
      "memory usage: 85.7+ KB\n"
     ]
    }
   ],
   "source": [
    "df.info()"
   ]
  },
  {
   "cell_type": "code",
   "execution_count": null,
   "id": "ee509f30-8a3d-4652-83ba-db028dbd3f41",
   "metadata": {},
   "outputs": [],
   "source": [
    "# NaN analysis conducted"
   ]
  },
  {
   "cell_type": "code",
   "execution_count": 68,
   "id": "152505dd-48dd-48dc-b1cf-450d849ad7e8",
   "metadata": {},
   "outputs": [
    {
     "data": {
      "text/plain": [
       "DATE             3652\n",
       "city             3652\n",
       "precipitation    3462\n",
       "dtype: int64"
      ]
     },
     "execution_count": 68,
     "metadata": {},
     "output_type": "execute_result"
    }
   ],
   "source": [
    "df.notna().sum()"
   ]
  },
  {
   "cell_type": "code",
   "execution_count": 69,
   "id": "c0e3010e-fc30-44d3-ba32-0bae06684739",
   "metadata": {},
   "outputs": [
    {
     "data": {
      "text/plain": [
       "DATE               0\n",
       "city               0\n",
       "precipitation    190\n",
       "dtype: int64"
      ]
     },
     "execution_count": 69,
     "metadata": {},
     "output_type": "execute_result"
    }
   ],
   "source": [
    "df.isna().sum()"
   ]
  },
  {
   "cell_type": "code",
   "execution_count": 78,
   "id": "7774afad-ce93-4549-bc03-9f5a15033e34",
   "metadata": {},
   "outputs": [
    {
     "data": {
      "text/plain": [
       "np.int64(0)"
      ]
     },
     "execution_count": 78,
     "metadata": {},
     "output_type": "execute_result"
    }
   ],
   "source": [
    "df.loc[df['city'] == 'PIT', 'precipitation'].isna().sum()"
   ]
  },
  {
   "cell_type": "code",
   "execution_count": 71,
   "id": "1719815c-a8e0-468e-813d-944f994861e7",
   "metadata": {},
   "outputs": [
    {
     "data": {
      "text/plain": [
       "np.int64(190)"
      ]
     },
     "execution_count": 71,
     "metadata": {},
     "output_type": "execute_result"
    }
   ],
   "source": [
    "df.loc[df['city'] == 'SEA', 'precipitation'].isna().sum()"
   ]
  },
  {
   "cell_type": "code",
   "execution_count": null,
   "id": "c70c9745-227d-4db3-8b60-e4621c826e9b",
   "metadata": {},
   "outputs": [],
   "source": [
    "# We took the average precipitation per day of the year for our dataframe, and imputed that information to clean our missing Seattle dates."
   ]
  },
  {
   "cell_type": "code",
   "execution_count": 84,
   "id": "bd51a8c9-0c43-47b9-9e7f-2f5c110dde43",
   "metadata": {},
   "outputs": [],
   "source": [
    "df['day_of_year'] = pd.DatetimeIndex(df['date']).day_of_year"
   ]
  },
  {
   "cell_type": "code",
   "execution_count": 85,
   "id": "9e33c5fe-dcbd-4269-a34a-0177b91bbc60",
   "metadata": {},
   "outputs": [
    {
     "data": {
      "text/html": [
       "<div>\n",
       "<style scoped>\n",
       "    .dataframe tbody tr th:only-of-type {\n",
       "        vertical-align: middle;\n",
       "    }\n",
       "\n",
       "    .dataframe tbody tr th {\n",
       "        vertical-align: top;\n",
       "    }\n",
       "\n",
       "    .dataframe thead th {\n",
       "        text-align: right;\n",
       "    }\n",
       "</style>\n",
       "<table border=\"1\" class=\"dataframe\">\n",
       "  <thead>\n",
       "    <tr style=\"text-align: right;\">\n",
       "      <th></th>\n",
       "      <th>date</th>\n",
       "      <th>city</th>\n",
       "      <th>precipitation</th>\n",
       "      <th>day_of_year</th>\n",
       "    </tr>\n",
       "  </thead>\n",
       "  <tbody>\n",
       "    <tr>\n",
       "      <th>0</th>\n",
       "      <td>2018-01-01</td>\n",
       "      <td>PIT</td>\n",
       "      <td>0.00</td>\n",
       "      <td>1</td>\n",
       "    </tr>\n",
       "    <tr>\n",
       "      <th>1</th>\n",
       "      <td>2018-01-02</td>\n",
       "      <td>PIT</td>\n",
       "      <td>0.00</td>\n",
       "      <td>2</td>\n",
       "    </tr>\n",
       "    <tr>\n",
       "      <th>2</th>\n",
       "      <td>2018-01-03</td>\n",
       "      <td>PIT</td>\n",
       "      <td>0.00</td>\n",
       "      <td>3</td>\n",
       "    </tr>\n",
       "    <tr>\n",
       "      <th>3</th>\n",
       "      <td>2018-01-04</td>\n",
       "      <td>PIT</td>\n",
       "      <td>0.00</td>\n",
       "      <td>4</td>\n",
       "    </tr>\n",
       "    <tr>\n",
       "      <th>4</th>\n",
       "      <td>2018-01-05</td>\n",
       "      <td>PIT</td>\n",
       "      <td>0.00</td>\n",
       "      <td>5</td>\n",
       "    </tr>\n",
       "    <tr>\n",
       "      <th>5</th>\n",
       "      <td>2018-01-06</td>\n",
       "      <td>PIT</td>\n",
       "      <td>0.00</td>\n",
       "      <td>6</td>\n",
       "    </tr>\n",
       "    <tr>\n",
       "      <th>6</th>\n",
       "      <td>2018-01-07</td>\n",
       "      <td>PIT</td>\n",
       "      <td>0.00</td>\n",
       "      <td>7</td>\n",
       "    </tr>\n",
       "    <tr>\n",
       "      <th>7</th>\n",
       "      <td>2018-01-08</td>\n",
       "      <td>PIT</td>\n",
       "      <td>0.24</td>\n",
       "      <td>8</td>\n",
       "    </tr>\n",
       "    <tr>\n",
       "      <th>8</th>\n",
       "      <td>2018-01-09</td>\n",
       "      <td>PIT</td>\n",
       "      <td>0.00</td>\n",
       "      <td>9</td>\n",
       "    </tr>\n",
       "    <tr>\n",
       "      <th>9</th>\n",
       "      <td>2018-01-10</td>\n",
       "      <td>PIT</td>\n",
       "      <td>0.00</td>\n",
       "      <td>10</td>\n",
       "    </tr>\n",
       "  </tbody>\n",
       "</table>\n",
       "</div>"
      ],
      "text/plain": [
       "        date city  precipitation  day_of_year\n",
       "0 2018-01-01  PIT           0.00            1\n",
       "1 2018-01-02  PIT           0.00            2\n",
       "2 2018-01-03  PIT           0.00            3\n",
       "3 2018-01-04  PIT           0.00            4\n",
       "4 2018-01-05  PIT           0.00            5\n",
       "5 2018-01-06  PIT           0.00            6\n",
       "6 2018-01-07  PIT           0.00            7\n",
       "7 2018-01-08  PIT           0.24            8\n",
       "8 2018-01-09  PIT           0.00            9\n",
       "9 2018-01-10  PIT           0.00           10"
      ]
     },
     "execution_count": 85,
     "metadata": {},
     "output_type": "execute_result"
    }
   ],
   "source": [
    "df.head(10)"
   ]
  },
  {
   "cell_type": "code",
   "execution_count": 86,
   "id": "a4daedad-cb35-4ba7-9b9f-dfa220738b45",
   "metadata": {},
   "outputs": [],
   "source": [
    "mean_day_precipitation = df.loc[df['city'] == 'SEA',['precipitation','day_of_year']].groupby('day_of_year').mean()"
   ]
  },
  {
   "cell_type": "code",
   "execution_count": 87,
   "id": "635ff48f-f386-4737-936c-bf6911da7dda",
   "metadata": {},
   "outputs": [
    {
     "data": {
      "image/png": "[encoded data removed]",
      "text/plain": [
       "<Figure size 2000x500 with 1 Axes>"
      ]
     },
     "metadata": {},
     "output_type": "display_data"
    }
   ],
   "source": [
    "plt.figure(figsize=(20, 5))\n",
    "\n",
    "sns.lineplot(data=mean_day_precipitation, x='day_of_year',y='precipitation')\n",
    "\n",
    "plt.xlabel('Day of the year', fontsize=18)\n",
    "plt.ylabel('Mean precipitation (inches)', fontsize=18)\n",
    "\n",
    "plt.tick_params(labelsize=15)\n",
    "\n",
    "plt.show()"
   ]
  },
  {
   "cell_type": "code",
   "execution_count": 88,
   "id": "1db31155-f166-4ee8-8769-755347b0a1df",
   "metadata": {},
   "outputs": [
    {
     "data": {
      "text/html": [
       "<div>\n",
       "<style scoped>\n",
       "    .dataframe tbody tr th:only-of-type {\n",
       "        vertical-align: middle;\n",
       "    }\n",
       "\n",
       "    .dataframe tbody tr th {\n",
       "        vertical-align: top;\n",
       "    }\n",
       "\n",
       "    .dataframe thead th {\n",
       "        text-align: right;\n",
       "    }\n",
       "</style>\n",
       "<table border=\"1\" class=\"dataframe\">\n",
       "  <thead>\n",
       "    <tr style=\"text-align: right;\">\n",
       "      <th></th>\n",
       "      <th>date</th>\n",
       "      <th>city</th>\n",
       "      <th>precipitation</th>\n",
       "      <th>day_of_year</th>\n",
       "    </tr>\n",
       "  </thead>\n",
       "  <tbody>\n",
       "    <tr>\n",
       "      <th>0</th>\n",
       "      <td>2018-01-01</td>\n",
       "      <td>PIT</td>\n",
       "      <td>0.0</td>\n",
       "      <td>1</td>\n",
       "    </tr>\n",
       "    <tr>\n",
       "      <th>1</th>\n",
       "      <td>2018-01-02</td>\n",
       "      <td>PIT</td>\n",
       "      <td>0.0</td>\n",
       "      <td>2</td>\n",
       "    </tr>\n",
       "    <tr>\n",
       "      <th>2</th>\n",
       "      <td>2018-01-03</td>\n",
       "      <td>PIT</td>\n",
       "      <td>0.0</td>\n",
       "      <td>3</td>\n",
       "    </tr>\n",
       "    <tr>\n",
       "      <th>3</th>\n",
       "      <td>2018-01-04</td>\n",
       "      <td>PIT</td>\n",
       "      <td>0.0</td>\n",
       "      <td>4</td>\n",
       "    </tr>\n",
       "    <tr>\n",
       "      <th>4</th>\n",
       "      <td>2018-01-05</td>\n",
       "      <td>PIT</td>\n",
       "      <td>0.0</td>\n",
       "      <td>5</td>\n",
       "    </tr>\n",
       "  </tbody>\n",
       "</table>\n",
       "</div>"
      ],
      "text/plain": [
       "        date city  precipitation  day_of_year\n",
       "0 2018-01-01  PIT            0.0            1\n",
       "1 2018-01-02  PIT            0.0            2\n",
       "2 2018-01-03  PIT            0.0            3\n",
       "3 2018-01-04  PIT            0.0            4\n",
       "4 2018-01-05  PIT            0.0            5"
      ]
     },
     "execution_count": 88,
     "metadata": {},
     "output_type": "execute_result"
    }
   ],
   "source": [
    "df.head()"
   ]
  },
  {
   "cell_type": "code",
   "execution_count": 89,
   "id": "366ce3d5-c81f-4196-a053-70e71aff1ed9",
   "metadata": {},
   "outputs": [
    {
     "data": {
      "text/html": [
       "<div>\n",
       "<style scoped>\n",
       "    .dataframe tbody tr th:only-of-type {\n",
       "        vertical-align: middle;\n",
       "    }\n",
       "\n",
       "    .dataframe tbody tr th {\n",
       "        vertical-align: top;\n",
       "    }\n",
       "\n",
       "    .dataframe thead th {\n",
       "        text-align: right;\n",
       "    }\n",
       "</style>\n",
       "<table border=\"1\" class=\"dataframe\">\n",
       "  <thead>\n",
       "    <tr style=\"text-align: right;\">\n",
       "      <th></th>\n",
       "      <th>date</th>\n",
       "      <th>city</th>\n",
       "      <th>precipitation</th>\n",
       "      <th>day_of_year</th>\n",
       "    </tr>\n",
       "  </thead>\n",
       "  <tbody>\n",
       "    <tr>\n",
       "      <th>3647</th>\n",
       "      <td>2022-12-27</td>\n",
       "      <td>SEA</td>\n",
       "      <td>0.78</td>\n",
       "      <td>361</td>\n",
       "    </tr>\n",
       "    <tr>\n",
       "      <th>3648</th>\n",
       "      <td>2022-12-28</td>\n",
       "      <td>SEA</td>\n",
       "      <td>0.40</td>\n",
       "      <td>362</td>\n",
       "    </tr>\n",
       "    <tr>\n",
       "      <th>3649</th>\n",
       "      <td>2022-12-29</td>\n",
       "      <td>SEA</td>\n",
       "      <td>0.03</td>\n",
       "      <td>363</td>\n",
       "    </tr>\n",
       "    <tr>\n",
       "      <th>3650</th>\n",
       "      <td>2022-12-30</td>\n",
       "      <td>SEA</td>\n",
       "      <td>0.62</td>\n",
       "      <td>364</td>\n",
       "    </tr>\n",
       "    <tr>\n",
       "      <th>3651</th>\n",
       "      <td>2022-12-31</td>\n",
       "      <td>SEA</td>\n",
       "      <td>0.17</td>\n",
       "      <td>365</td>\n",
       "    </tr>\n",
       "  </tbody>\n",
       "</table>\n",
       "</div>"
      ],
      "text/plain": [
       "           date city  precipitation  day_of_year\n",
       "3647 2022-12-27  SEA           0.78          361\n",
       "3648 2022-12-28  SEA           0.40          362\n",
       "3649 2022-12-29  SEA           0.03          363\n",
       "3650 2022-12-30  SEA           0.62          364\n",
       "3651 2022-12-31  SEA           0.17          365"
      ]
     },
     "execution_count": 89,
     "metadata": {},
     "output_type": "execute_result"
    }
   ],
   "source": [
    "df.tail()"
   ]
  },
  {
   "cell_type": "code",
   "execution_count": 91,
   "id": "5baa65dd-0e79-48ac-ac62-a3b301118ef8",
   "metadata": {},
   "outputs": [
    {
     "data": {
      "text/plain": [
       "0       False\n",
       "1       False\n",
       "2       False\n",
       "3       False\n",
       "4       False\n",
       "        ...  \n",
       "3647    False\n",
       "3648    False\n",
       "3649    False\n",
       "3650    False\n",
       "3651    False\n",
       "Name: precipitation, Length: 3652, dtype: bool"
      ]
     },
     "execution_count": 91,
     "metadata": {},
     "output_type": "execute_result"
    }
   ],
   "source": [
    "df['precipitation'].isna() == True"
   ]
  },
  {
   "cell_type": "code",
   "execution_count": 92,
   "id": "79330e64-5c96-45ff-9fed-3c4e04c68e69",
   "metadata": {},
   "outputs": [],
   "source": [
    "# indexes let you see where your calculations actually show up in df\n",
    "# [0] respresents first time indexed value shows up\n",
    "indices = np.where(df['precipitation'].isna() == True) [0]"
   ]
  },
  {
   "cell_type": "code",
   "execution_count": 93,
   "id": "6ecc76cc-a867-44b4-80f0-3c5b9eeaa689",
   "metadata": {},
   "outputs": [
    {
     "data": {
      "text/plain": [
       "array([1834, 1835, 1836, 1837, 1838, 1839, 1840, 1841, 1842, 1843, 1844,\n",
       "       1845, 1846, 1847, 1848, 1849, 1850, 1851, 1852, 1853, 1854, 1855,\n",
       "       1856, 1857, 1858, 1859, 1860, 1861, 1862, 1863, 1864, 1865, 1866,\n",
       "       1867, 1868, 1869, 1870, 1871, 1872, 1873, 1874, 1875, 1876, 1877,\n",
       "       1878, 1879, 1880, 1881, 1882, 1883, 1884, 1885, 1886, 1887, 1888,\n",
       "       1889, 1890, 1891, 1892, 1893, 1894, 1895, 2090, 2131, 2132, 2133,\n",
       "       2134, 2135, 2136, 2137, 2138, 2139, 2140, 2195, 2196, 2197, 2214,\n",
       "       2215, 2244, 2245, 2246, 2247, 2248, 2249, 2286, 2287, 2288, 2362,\n",
       "       2363, 2368, 2369, 2370, 2371, 2372, 2373, 2374, 2375, 2376, 2377,\n",
       "       2417, 2418, 2419, 2420, 2421, 2422, 2423, 2517, 2518, 2519, 2520,\n",
       "       2521, 2522, 2523, 2524, 2559, 2560, 2561, 2602, 2603, 2604, 2605,\n",
       "       2606, 2607, 2608, 2609, 2610, 2611, 2612, 2818, 2819, 2820, 2821,\n",
       "       2822, 2823, 2824, 2825, 2826, 2827, 2972, 2973, 2974, 2975, 2983,\n",
       "       2984, 2986, 2987, 2988, 3000, 3001, 3004, 3005, 3006, 3007, 3008,\n",
       "       3011, 3012, 3013, 3014, 3015, 3016, 3133, 3134, 3135, 3147, 3148,\n",
       "       3149, 3150, 3151, 3152, 3153, 3154, 3155, 3156, 3157, 3158, 3159,\n",
       "       3160, 3161, 3162, 3163, 3363, 3364, 3365, 3366, 3367, 3368, 3369,\n",
       "       3370, 3371, 3372])"
      ]
     },
     "execution_count": 93,
     "metadata": {},
     "output_type": "execute_result"
    }
   ],
   "source": [
    "indices"
   ]
  },
  {
   "cell_type": "code",
   "execution_count": 94,
   "id": "fa7b7c08-3246-47f1-8643-a16206ff95c3",
   "metadata": {},
   "outputs": [],
   "source": [
    "for index in indices:\n",
    "    df.loc[index, 'precipitation'] = mean_day_precipitation.loc[df.loc[index,'day_of_year']].values[0]"
   ]
  },
  {
   "cell_type": "code",
   "execution_count": 95,
   "id": "9c4c44bd-f3b0-49c1-9a1d-93290f6e6d83",
   "metadata": {},
   "outputs": [
    {
     "data": {
      "text/plain": [
       "date             0\n",
       "city             0\n",
       "precipitation    0\n",
       "day_of_year      0\n",
       "dtype: int64"
      ]
     },
     "execution_count": 95,
     "metadata": {},
     "output_type": "execute_result"
    }
   ],
   "source": [
    "df.isna().sum()"
   ]
  },
  {
   "cell_type": "code",
   "execution_count": null,
   "id": "9e08c595-9f72-4916-9256-35b93afab7dd",
   "metadata": {},
   "outputs": [],
   "source": []
  }
 ],
 "metadata": {
  "kernelspec": {
   "display_name": "Python [conda env:base] *",
   "language": "python",
   "name": "conda-base-py"
  },
  "language_info": {
   "codemirror_mode": {
    "name": "ipython",
    "version": 3
   },
   "file_extension": ".py",
   "mimetype": "text/x-python",
   "name": "python",
   "nbconvert_exporter": "python",
   "pygments_lexer": "ipython3",
   "version": "3.13.5"
  }
 },
 "nbformat": 4,
 "nbformat_minor": 5
}
